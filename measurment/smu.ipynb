{
 "cells": [
  {
   "cell_type": "code",
   "execution_count": 1,
   "metadata": {},
   "outputs": [],
   "source": [
    "import pyvisa\n",
    "import matplotlib.pyplot as plt\n",
    "import numpy as np\n",
    "import time\n",
    "import pandas as pd\n",
    "from matplotlib import ticker\n",
    "import matplotlib.lines as mlines\n",
    "from  devise.Keithley_2450 import *\n",
    "import time "
   ]
  },
  {
   "cell_type": "code",
   "execution_count": 2,
   "metadata": {},
   "outputs": [],
   "source": [
    "time.sleep(0.5)"
   ]
  },
  {
   "cell_type": "code",
   "execution_count": 3,
   "metadata": {},
   "outputs": [
    {
     "data": {
      "text/plain": [
       "('USB0::0x05E6::0x2450::04131625::INSTR',\n",
       " 'TCPIP0::169.254.59.53::inst0::INSTR',\n",
       " 'USB0::0x1AB1::0x04B0::DS2G171100064::0::INSTR',\n",
       " 'USB0::0x1AB1::0x0640::DG5T185350021::0::INSTR',\n",
       " 'USB::0x05E6::0x2450::04131625::INSTR')"
      ]
     },
     "execution_count": 3,
     "metadata": {},
     "output_type": "execute_result"
    }
   ],
   "source": [
    "rm = pyvisa.ResourceManager()\n",
    "# pyvisa.log_to_screen()\n",
    "res = rm.list_resources(query='?*')\n",
    "res\n",
    "#оюрашаемся к USB узнаем устройства"
   ]
  },
  {
   "cell_type": "code",
   "execution_count": 4,
   "metadata": {},
   "outputs": [],
   "source": [
    "smu = rm.open_resource(res[0])\n",
    "#mso = rm.open_resource('TCPIP0::169.254.59.53::inst0::INSTR')\n",
    "#mso"
   ]
  },
  {
   "cell_type": "code",
   "execution_count": 157,
   "metadata": {},
   "outputs": [],
   "source": [
    "#mso.query(\"*IDN?\")"
   ]
  },
  {
   "cell_type": "code",
   "execution_count": 108,
   "metadata": {},
   "outputs": [
    {
     "data": {
      "text/plain": [
       "31"
      ]
     },
     "execution_count": 108,
     "metadata": {},
     "output_type": "execute_result"
    }
   ],
   "source": [
    "mso.write('SAVE:WAVEFORM CH1,\"plot4.csv\"')"
   ]
  },
  {
   "cell_type": "code",
   "execution_count": 134,
   "metadata": {},
   "outputs": [],
   "source": [
    "mso.read_termination\n",
    "mso.encoding = 'ascii'\n",
    "mso.read_termination = '\\n'\n",
    "mso.timeout = 5000"
   ]
  },
  {
   "cell_type": "code",
   "execution_count": 135,
   "metadata": {},
   "outputs": [
    {
     "data": {
      "text/plain": [
       "9"
      ]
     },
     "execution_count": 135,
     "metadata": {},
     "output_type": "execute_result"
    }
   ],
   "source": [
    "mso.write(\":DATa:SOUrce CH1\")\n",
    "mso.write(\":DATa:START 1\")\n",
    "mso.write(\":DATa:STOP 10000\")\n",
    "mso.write(\":WFMOutpre:ENCdg BINARY\")\n",
    "mso.write(\":WFMOutpre:BYT_Nr 1\")\n",
    "mso.write(\":HEADer 1\")\n",
    "mso.write(\":WFMOutpre?\")\n",
    "mso.write(\":CURVE?\")"
   ]
  },
  {
   "cell_type": "code",
   "execution_count": 136,
   "metadata": {},
   "outputs": [
    {
     "ename": "VisaIOError",
     "evalue": "VI_ERROR_TMO (-1073807339): Timeout expired before operation completed.",
     "output_type": "error",
     "traceback": [
      "\u001b[1;31m---------------------------------------------------------------------------\u001b[0m",
      "\u001b[1;31mVisaIOError\u001b[0m                               Traceback (most recent call last)",
      "Cell \u001b[1;32mIn[136], line 4\u001b[0m\n\u001b[0;32m      2\u001b[0m mso\u001b[38;5;241m.\u001b[39mwrite(\u001b[38;5;124m'\u001b[39m\u001b[38;5;124m:HEADer 0\u001b[39m\u001b[38;5;124m'\u001b[39m)\n\u001b[0;32m      3\u001b[0m mso\u001b[38;5;241m.\u001b[39mwrite(\u001b[38;5;124m'\u001b[39m\u001b[38;5;124m:DATa:STOP 1000000\u001b[39m\u001b[38;5;124m'\u001b[39m)\n\u001b[1;32m----> 4\u001b[0m data \u001b[38;5;241m=\u001b[39m \u001b[43mmso\u001b[49m\u001b[38;5;241;43m.\u001b[39;49m\u001b[43mquery_ascii_values\u001b[49m\u001b[43m(\u001b[49m\u001b[38;5;124;43m'\u001b[39;49m\u001b[38;5;124;43mCURVe?\u001b[39;49m\u001b[38;5;124;43m'\u001b[39;49m\u001b[43m,\u001b[49m\u001b[43m \u001b[49m\u001b[43mcontainer\u001b[49m\u001b[38;5;241;43m=\u001b[39;49m\u001b[43mnp\u001b[49m\u001b[38;5;241;43m.\u001b[39;49m\u001b[43mndarray\u001b[49m\u001b[43m)\u001b[49m\n",
      "File \u001b[1;32mc:\\Users\\user\\AppData\\Local\\Programs\\Python\\Python312\\Lib\\site-packages\\pyvisa\\resources\\messagebased.py:688\u001b[0m, in \u001b[0;36mMessageBasedResource.query_ascii_values\u001b[1;34m(self, message, converter, separator, container, delay)\u001b[0m\n\u001b[0;32m    685\u001b[0m \u001b[38;5;28;01mif\u001b[39;00m delay \u001b[38;5;241m>\u001b[39m \u001b[38;5;241m0.0\u001b[39m:\n\u001b[0;32m    686\u001b[0m     time\u001b[38;5;241m.\u001b[39msleep(delay)\n\u001b[1;32m--> 688\u001b[0m \u001b[38;5;28;01mreturn\u001b[39;00m \u001b[38;5;28;43mself\u001b[39;49m\u001b[38;5;241;43m.\u001b[39;49m\u001b[43mread_ascii_values\u001b[49m\u001b[43m(\u001b[49m\u001b[43mconverter\u001b[49m\u001b[43m,\u001b[49m\u001b[43m \u001b[49m\u001b[43mseparator\u001b[49m\u001b[43m,\u001b[49m\u001b[43m \u001b[49m\u001b[43mcontainer\u001b[49m\u001b[43m)\u001b[49m\n",
      "File \u001b[1;32mc:\\Users\\user\\AppData\\Local\\Programs\\Python\\Python312\\Lib\\site-packages\\pyvisa\\resources\\messagebased.py:528\u001b[0m, in \u001b[0;36mMessageBasedResource.read_ascii_values\u001b[1;34m(self, converter, separator, container)\u001b[0m\n\u001b[0;32m    507\u001b[0m \u001b[38;5;250m\u001b[39m\u001b[38;5;124;03m\"\"\"Read values from the device in ascii format returning an iterable of\u001b[39;00m\n\u001b[0;32m    508\u001b[0m \u001b[38;5;124;03mvalues.\u001b[39;00m\n\u001b[0;32m    509\u001b[0m \n\u001b[1;32m   (...)\u001b[0m\n\u001b[0;32m    525\u001b[0m \n\u001b[0;32m    526\u001b[0m \u001b[38;5;124;03m\"\"\"\u001b[39;00m\n\u001b[0;32m    527\u001b[0m \u001b[38;5;66;03m# Use read rather than _read_raw because we cannot handle a bytearray\u001b[39;00m\n\u001b[1;32m--> 528\u001b[0m block \u001b[38;5;241m=\u001b[39m \u001b[38;5;28;43mself\u001b[39;49m\u001b[38;5;241;43m.\u001b[39;49m\u001b[43mread\u001b[49m\u001b[43m(\u001b[49m\u001b[43m)\u001b[49m\n\u001b[0;32m    530\u001b[0m \u001b[38;5;28;01mreturn\u001b[39;00m util\u001b[38;5;241m.\u001b[39mfrom_ascii_block(block, converter, separator, container)\n",
      "File \u001b[1;32mc:\\Users\\user\\AppData\\Local\\Programs\\Python\\Python312\\Lib\\site-packages\\pyvisa\\resources\\messagebased.py:485\u001b[0m, in \u001b[0;36mMessageBasedResource.read\u001b[1;34m(self, termination, encoding)\u001b[0m\n\u001b[0;32m    483\u001b[0m \u001b[38;5;28;01mif\u001b[39;00m termination \u001b[38;5;129;01mis\u001b[39;00m \u001b[38;5;28;01mNone\u001b[39;00m:\n\u001b[0;32m    484\u001b[0m     termination \u001b[38;5;241m=\u001b[39m \u001b[38;5;28mself\u001b[39m\u001b[38;5;241m.\u001b[39m_read_termination\n\u001b[1;32m--> 485\u001b[0m     message \u001b[38;5;241m=\u001b[39m \u001b[38;5;28;43mself\u001b[39;49m\u001b[38;5;241;43m.\u001b[39;49m\u001b[43m_read_raw\u001b[49m\u001b[43m(\u001b[49m\u001b[43m)\u001b[49m\u001b[38;5;241m.\u001b[39mdecode(enco)\n\u001b[0;32m    486\u001b[0m \u001b[38;5;28;01melse\u001b[39;00m:\n\u001b[0;32m    487\u001b[0m     \u001b[38;5;28;01mwith\u001b[39;00m \u001b[38;5;28mself\u001b[39m\u001b[38;5;241m.\u001b[39mread_termination_context(termination):\n",
      "File \u001b[1;32mc:\\Users\\user\\AppData\\Local\\Programs\\Python\\Python312\\Lib\\site-packages\\pyvisa\\resources\\messagebased.py:441\u001b[0m, in \u001b[0;36mMessageBasedResource._read_raw\u001b[1;34m(self, size)\u001b[0m\n\u001b[0;32m    434\u001b[0m     \u001b[38;5;28;01mwhile\u001b[39;00m status \u001b[38;5;241m==\u001b[39m loop_status:\n\u001b[0;32m    435\u001b[0m         logger\u001b[38;5;241m.\u001b[39mdebug(\n\u001b[0;32m    436\u001b[0m             \u001b[38;5;124m\"\u001b[39m\u001b[38;5;132;01m%s\u001b[39;00m\u001b[38;5;124m - reading \u001b[39m\u001b[38;5;132;01m%d\u001b[39;00m\u001b[38;5;124m bytes (last status \u001b[39m\u001b[38;5;132;01m%r\u001b[39;00m\u001b[38;5;124m)\u001b[39m\u001b[38;5;124m\"\u001b[39m,\n\u001b[0;32m    437\u001b[0m             \u001b[38;5;28mself\u001b[39m\u001b[38;5;241m.\u001b[39m_resource_name,\n\u001b[0;32m    438\u001b[0m             size,\n\u001b[0;32m    439\u001b[0m             status,\n\u001b[0;32m    440\u001b[0m         )\n\u001b[1;32m--> 441\u001b[0m         chunk, status \u001b[38;5;241m=\u001b[39m \u001b[38;5;28;43mself\u001b[39;49m\u001b[38;5;241;43m.\u001b[39;49m\u001b[43mvisalib\u001b[49m\u001b[38;5;241;43m.\u001b[39;49m\u001b[43mread\u001b[49m\u001b[43m(\u001b[49m\u001b[38;5;28;43mself\u001b[39;49m\u001b[38;5;241;43m.\u001b[39;49m\u001b[43msession\u001b[49m\u001b[43m,\u001b[49m\u001b[43m \u001b[49m\u001b[43msize\u001b[49m\u001b[43m)\u001b[49m\n\u001b[0;32m    442\u001b[0m         ret\u001b[38;5;241m.\u001b[39mextend(chunk)\n\u001b[0;32m    443\u001b[0m \u001b[38;5;28;01mexcept\u001b[39;00m errors\u001b[38;5;241m.\u001b[39mVisaIOError \u001b[38;5;28;01mas\u001b[39;00m e:\n",
      "File \u001b[1;32mc:\\Users\\user\\AppData\\Local\\Programs\\Python\\Python312\\Lib\\site-packages\\pyvisa\\ctwrapper\\functions.py:2336\u001b[0m, in \u001b[0;36mread\u001b[1;34m(library, session, count)\u001b[0m\n\u001b[0;32m   2334\u001b[0m buffer \u001b[38;5;241m=\u001b[39m create_string_buffer(count)\n\u001b[0;32m   2335\u001b[0m return_count \u001b[38;5;241m=\u001b[39m ViUInt32()\n\u001b[1;32m-> 2336\u001b[0m ret \u001b[38;5;241m=\u001b[39m \u001b[43mlibrary\u001b[49m\u001b[38;5;241;43m.\u001b[39;49m\u001b[43mviRead\u001b[49m\u001b[43m(\u001b[49m\u001b[43msession\u001b[49m\u001b[43m,\u001b[49m\u001b[43m \u001b[49m\u001b[43mbuffer\u001b[49m\u001b[43m,\u001b[49m\u001b[43m \u001b[49m\u001b[43mcount\u001b[49m\u001b[43m,\u001b[49m\u001b[43m \u001b[49m\u001b[43mbyref\u001b[49m\u001b[43m(\u001b[49m\u001b[43mreturn_count\u001b[49m\u001b[43m)\u001b[49m\u001b[43m)\u001b[49m\n\u001b[0;32m   2337\u001b[0m \u001b[38;5;28;01mreturn\u001b[39;00m buffer\u001b[38;5;241m.\u001b[39mraw[: return_count\u001b[38;5;241m.\u001b[39mvalue], ret\n",
      "File \u001b[1;32mc:\\Users\\user\\AppData\\Local\\Programs\\Python\\Python312\\Lib\\site-packages\\pyvisa\\ctwrapper\\highlevel.py:226\u001b[0m, in \u001b[0;36mIVIVisaLibrary._return_handler\u001b[1;34m(self, ret_value, func, arguments)\u001b[0m\n\u001b[0;32m    223\u001b[0m         \u001b[38;5;66;03m# Set session back to a safe value\u001b[39;00m\n\u001b[0;32m    224\u001b[0m         session \u001b[38;5;241m=\u001b[39m \u001b[38;5;28;01mNone\u001b[39;00m\n\u001b[1;32m--> 226\u001b[0m \u001b[38;5;28;01mreturn\u001b[39;00m \u001b[38;5;28;43mself\u001b[39;49m\u001b[38;5;241;43m.\u001b[39;49m\u001b[43mhandle_return_value\u001b[49m\u001b[43m(\u001b[49m\u001b[43msession\u001b[49m\u001b[43m,\u001b[49m\u001b[43m \u001b[49m\u001b[43mret_value\u001b[49m\u001b[43m)\u001b[49m\n",
      "File \u001b[1;32mc:\\Users\\user\\AppData\\Local\\Programs\\Python\\Python312\\Lib\\site-packages\\pyvisa\\highlevel.py:251\u001b[0m, in \u001b[0;36mVisaLibraryBase.handle_return_value\u001b[1;34m(self, session, status_code)\u001b[0m\n\u001b[0;32m    248\u001b[0m     \u001b[38;5;28mself\u001b[39m\u001b[38;5;241m.\u001b[39m_last_status_in_session[session] \u001b[38;5;241m=\u001b[39m rv\n\u001b[0;32m    250\u001b[0m \u001b[38;5;28;01mif\u001b[39;00m rv \u001b[38;5;241m<\u001b[39m \u001b[38;5;241m0\u001b[39m:\n\u001b[1;32m--> 251\u001b[0m     \u001b[38;5;28;01mraise\u001b[39;00m errors\u001b[38;5;241m.\u001b[39mVisaIOError(rv)\n\u001b[0;32m    253\u001b[0m \u001b[38;5;28;01mif\u001b[39;00m rv \u001b[38;5;129;01min\u001b[39;00m \u001b[38;5;28mself\u001b[39m\u001b[38;5;241m.\u001b[39missue_warning_on:\n\u001b[0;32m    254\u001b[0m     \u001b[38;5;28;01mif\u001b[39;00m session \u001b[38;5;129;01mand\u001b[39;00m rv \u001b[38;5;129;01mnot\u001b[39;00m \u001b[38;5;129;01min\u001b[39;00m \u001b[38;5;28mself\u001b[39m\u001b[38;5;241m.\u001b[39m_ignore_warning_in_session[session]:\n",
      "\u001b[1;31mVisaIOError\u001b[0m: VI_ERROR_TMO (-1073807339): Timeout expired before operation completed."
     ]
    }
   ],
   "source": [
    "mso.write('WFMOutpre:ENCdg ASCII')\n",
    "mso.write(':HEADer 0')\n",
    "mso.write(':DATa:STOP 1000000')\n",
    "data = mso.query_ascii_values('CURVe?', container=np.ndarray)"
   ]
  },
  {
   "cell_type": "code",
   "execution_count": 137,
   "metadata": {},
   "outputs": [],
   "source": [
    "mso.encoding = 'ascii'\n",
    "mso.read_termination = '\\n'\n",
    "mso.timeout = 5000"
   ]
  },
  {
   "cell_type": "code",
   "execution_count": 138,
   "metadata": {},
   "outputs": [
    {
     "name": "stdout",
     "output_type": "stream",
     "text": [
      "#9000001400\n",
      "\n"
     ]
    }
   ],
   "source": [
    "mso.write(':WAV:DATA?')\n",
    "data = mso.read_raw()\n",
    "data_all = data.decode('latin-1')\n",
    "print(data_all)"
   ]
  },
  {
   "cell_type": "code",
   "execution_count": 139,
   "metadata": {},
   "outputs": [
    {
     "data": {
      "text/plain": [
       "15"
      ]
     },
     "execution_count": 139,
     "metadata": {},
     "output_type": "execute_result"
    }
   ],
   "source": [
    "mso.write(':BUS<n>:DATA?')"
   ]
  },
  {
   "cell_type": "code",
   "execution_count": 170,
   "metadata": {},
   "outputs": [
    {
     "ename": "VisaIOError",
     "evalue": "VI_ERROR_CONN_LOST (-1073807194): The connection for the given session has been lost.",
     "output_type": "error",
     "traceback": [
      "\u001b[1;31m---------------------------------------------------------------------------\u001b[0m",
      "\u001b[1;31mVisaIOError\u001b[0m                               Traceback (most recent call last)",
      "Cell \u001b[1;32mIn[170], line 1\u001b[0m\n\u001b[1;32m----> 1\u001b[0m x \u001b[38;5;241m=\u001b[39m \u001b[43mmso\u001b[49m\u001b[38;5;241;43m.\u001b[39;49m\u001b[43mquery\u001b[49m\u001b[43m(\u001b[49m\u001b[38;5;124;43m\"\u001b[39;49m\u001b[38;5;124;43mDATa:SOUrce:AVAILable?\u001b[39;49m\u001b[38;5;124;43m\"\u001b[39;49m\u001b[43m)\u001b[49m\n\u001b[0;32m      2\u001b[0m x\n",
      "File \u001b[1;32mc:\\Users\\user\\AppData\\Local\\Programs\\Python\\Python312\\Lib\\site-packages\\pyvisa\\resources\\messagebased.py:641\u001b[0m, in \u001b[0;36mMessageBasedResource.query\u001b[1;34m(self, message, delay)\u001b[0m\n\u001b[0;32m    624\u001b[0m \u001b[38;5;28;01mdef\u001b[39;00m \u001b[38;5;21mquery\u001b[39m(\u001b[38;5;28mself\u001b[39m, message: \u001b[38;5;28mstr\u001b[39m, delay: Optional[\u001b[38;5;28mfloat\u001b[39m] \u001b[38;5;241m=\u001b[39m \u001b[38;5;28;01mNone\u001b[39;00m) \u001b[38;5;241m-\u001b[39m\u001b[38;5;241m>\u001b[39m \u001b[38;5;28mstr\u001b[39m:\n\u001b[0;32m    625\u001b[0m \u001b[38;5;250m    \u001b[39m\u001b[38;5;124;03m\"\"\"A combination of write(message) and read()\u001b[39;00m\n\u001b[0;32m    626\u001b[0m \n\u001b[0;32m    627\u001b[0m \u001b[38;5;124;03m    Parameters\u001b[39;00m\n\u001b[1;32m   (...)\u001b[0m\n\u001b[0;32m    639\u001b[0m \n\u001b[0;32m    640\u001b[0m \u001b[38;5;124;03m    \"\"\"\u001b[39;00m\n\u001b[1;32m--> 641\u001b[0m     \u001b[38;5;28;43mself\u001b[39;49m\u001b[38;5;241;43m.\u001b[39;49m\u001b[43mwrite\u001b[49m\u001b[43m(\u001b[49m\u001b[43mmessage\u001b[49m\u001b[43m)\u001b[49m\n\u001b[0;32m    643\u001b[0m     delay \u001b[38;5;241m=\u001b[39m \u001b[38;5;28mself\u001b[39m\u001b[38;5;241m.\u001b[39mquery_delay \u001b[38;5;28;01mif\u001b[39;00m delay \u001b[38;5;129;01mis\u001b[39;00m \u001b[38;5;28;01mNone\u001b[39;00m \u001b[38;5;28;01melse\u001b[39;00m delay\n\u001b[0;32m    644\u001b[0m     \u001b[38;5;28;01mif\u001b[39;00m delay \u001b[38;5;241m>\u001b[39m \u001b[38;5;241m0.0\u001b[39m:\n",
      "File \u001b[1;32mc:\\Users\\user\\AppData\\Local\\Programs\\Python\\Python312\\Lib\\site-packages\\pyvisa\\resources\\messagebased.py:196\u001b[0m, in \u001b[0;36mMessageBasedResource.write\u001b[1;34m(self, message, termination, encoding)\u001b[0m\n\u001b[0;32m    190\u001b[0m         warnings\u001b[38;5;241m.\u001b[39mwarn(\n\u001b[0;32m    191\u001b[0m             \u001b[38;5;124m\"\u001b[39m\u001b[38;5;124mwrite message already ends with \u001b[39m\u001b[38;5;124m\"\u001b[39m \u001b[38;5;124m\"\u001b[39m\u001b[38;5;124mtermination characters\u001b[39m\u001b[38;5;124m\"\u001b[39m,\n\u001b[0;32m    192\u001b[0m             stacklevel\u001b[38;5;241m=\u001b[39m\u001b[38;5;241m2\u001b[39m,\n\u001b[0;32m    193\u001b[0m         )\n\u001b[0;32m    194\u001b[0m     message \u001b[38;5;241m+\u001b[39m\u001b[38;5;241m=\u001b[39m term\n\u001b[1;32m--> 196\u001b[0m count \u001b[38;5;241m=\u001b[39m \u001b[38;5;28;43mself\u001b[39;49m\u001b[38;5;241;43m.\u001b[39;49m\u001b[43mwrite_raw\u001b[49m\u001b[43m(\u001b[49m\u001b[43mmessage\u001b[49m\u001b[38;5;241;43m.\u001b[39;49m\u001b[43mencode\u001b[49m\u001b[43m(\u001b[49m\u001b[43menco\u001b[49m\u001b[43m)\u001b[49m\u001b[43m)\u001b[49m\n\u001b[0;32m    198\u001b[0m \u001b[38;5;28;01mreturn\u001b[39;00m count\n",
      "File \u001b[1;32mc:\\Users\\user\\AppData\\Local\\Programs\\Python\\Python312\\Lib\\site-packages\\pyvisa\\resources\\messagebased.py:156\u001b[0m, in \u001b[0;36mMessageBasedResource.write_raw\u001b[1;34m(self, message)\u001b[0m\n\u001b[0;32m    142\u001b[0m \u001b[38;5;28;01mdef\u001b[39;00m \u001b[38;5;21mwrite_raw\u001b[39m(\u001b[38;5;28mself\u001b[39m, message: \u001b[38;5;28mbytes\u001b[39m) \u001b[38;5;241m-\u001b[39m\u001b[38;5;241m>\u001b[39m \u001b[38;5;28mint\u001b[39m:\n\u001b[0;32m    143\u001b[0m \u001b[38;5;250m    \u001b[39m\u001b[38;5;124;03m\"\"\"Write a byte message to the device.\u001b[39;00m\n\u001b[0;32m    144\u001b[0m \n\u001b[0;32m    145\u001b[0m \u001b[38;5;124;03m    Parameters\u001b[39;00m\n\u001b[1;32m   (...)\u001b[0m\n\u001b[0;32m    154\u001b[0m \n\u001b[0;32m    155\u001b[0m \u001b[38;5;124;03m    \"\"\"\u001b[39;00m\n\u001b[1;32m--> 156\u001b[0m     \u001b[38;5;28;01mreturn\u001b[39;00m \u001b[38;5;28;43mself\u001b[39;49m\u001b[38;5;241;43m.\u001b[39;49m\u001b[43mvisalib\u001b[49m\u001b[38;5;241;43m.\u001b[39;49m\u001b[43mwrite\u001b[49m\u001b[43m(\u001b[49m\u001b[38;5;28;43mself\u001b[39;49m\u001b[38;5;241;43m.\u001b[39;49m\u001b[43msession\u001b[49m\u001b[43m,\u001b[49m\u001b[43m \u001b[49m\u001b[43mmessage\u001b[49m\u001b[43m)\u001b[49m[\u001b[38;5;241m0\u001b[39m]\n",
      "File \u001b[1;32mc:\\Users\\user\\AppData\\Local\\Programs\\Python\\Python312\\Lib\\site-packages\\pyvisa\\ctwrapper\\functions.py:2795\u001b[0m, in \u001b[0;36mwrite\u001b[1;34m(library, session, data)\u001b[0m\n\u001b[0;32m   2793\u001b[0m return_count \u001b[38;5;241m=\u001b[39m ViUInt32()\n\u001b[0;32m   2794\u001b[0m \u001b[38;5;66;03m# [ViSession, ViBuf, ViUInt32, ViPUInt32]\u001b[39;00m\n\u001b[1;32m-> 2795\u001b[0m ret \u001b[38;5;241m=\u001b[39m \u001b[43mlibrary\u001b[49m\u001b[38;5;241;43m.\u001b[39;49m\u001b[43mviWrite\u001b[49m\u001b[43m(\u001b[49m\u001b[43msession\u001b[49m\u001b[43m,\u001b[49m\u001b[43m \u001b[49m\u001b[43mdata\u001b[49m\u001b[43m,\u001b[49m\u001b[43m \u001b[49m\u001b[38;5;28;43mlen\u001b[39;49m\u001b[43m(\u001b[49m\u001b[43mdata\u001b[49m\u001b[43m)\u001b[49m\u001b[43m,\u001b[49m\u001b[43m \u001b[49m\u001b[43mbyref\u001b[49m\u001b[43m(\u001b[49m\u001b[43mreturn_count\u001b[49m\u001b[43m)\u001b[49m\u001b[43m)\u001b[49m\n\u001b[0;32m   2796\u001b[0m \u001b[38;5;28;01mreturn\u001b[39;00m return_count\u001b[38;5;241m.\u001b[39mvalue, ret\n",
      "File \u001b[1;32mc:\\Users\\user\\AppData\\Local\\Programs\\Python\\Python312\\Lib\\site-packages\\pyvisa\\ctwrapper\\highlevel.py:226\u001b[0m, in \u001b[0;36mIVIVisaLibrary._return_handler\u001b[1;34m(self, ret_value, func, arguments)\u001b[0m\n\u001b[0;32m    223\u001b[0m         \u001b[38;5;66;03m# Set session back to a safe value\u001b[39;00m\n\u001b[0;32m    224\u001b[0m         session \u001b[38;5;241m=\u001b[39m \u001b[38;5;28;01mNone\u001b[39;00m\n\u001b[1;32m--> 226\u001b[0m \u001b[38;5;28;01mreturn\u001b[39;00m \u001b[38;5;28;43mself\u001b[39;49m\u001b[38;5;241;43m.\u001b[39;49m\u001b[43mhandle_return_value\u001b[49m\u001b[43m(\u001b[49m\u001b[43msession\u001b[49m\u001b[43m,\u001b[49m\u001b[43m \u001b[49m\u001b[43mret_value\u001b[49m\u001b[43m)\u001b[49m\n",
      "File \u001b[1;32mc:\\Users\\user\\AppData\\Local\\Programs\\Python\\Python312\\Lib\\site-packages\\pyvisa\\highlevel.py:251\u001b[0m, in \u001b[0;36mVisaLibraryBase.handle_return_value\u001b[1;34m(self, session, status_code)\u001b[0m\n\u001b[0;32m    248\u001b[0m     \u001b[38;5;28mself\u001b[39m\u001b[38;5;241m.\u001b[39m_last_status_in_session[session] \u001b[38;5;241m=\u001b[39m rv\n\u001b[0;32m    250\u001b[0m \u001b[38;5;28;01mif\u001b[39;00m rv \u001b[38;5;241m<\u001b[39m \u001b[38;5;241m0\u001b[39m:\n\u001b[1;32m--> 251\u001b[0m     \u001b[38;5;28;01mraise\u001b[39;00m errors\u001b[38;5;241m.\u001b[39mVisaIOError(rv)\n\u001b[0;32m    253\u001b[0m \u001b[38;5;28;01mif\u001b[39;00m rv \u001b[38;5;129;01min\u001b[39;00m \u001b[38;5;28mself\u001b[39m\u001b[38;5;241m.\u001b[39missue_warning_on:\n\u001b[0;32m    254\u001b[0m     \u001b[38;5;28;01mif\u001b[39;00m session \u001b[38;5;129;01mand\u001b[39;00m rv \u001b[38;5;129;01mnot\u001b[39;00m \u001b[38;5;129;01min\u001b[39;00m \u001b[38;5;28mself\u001b[39m\u001b[38;5;241m.\u001b[39m_ignore_warning_in_session[session]:\n",
      "\u001b[1;31mVisaIOError\u001b[0m: VI_ERROR_CONN_LOST (-1073807194): The connection for the given session has been lost."
     ]
    }
   ],
   "source": [
    "x = mso.query(\"DATa:SOUrce:AVAILable?\")\n",
    "x"
   ]
  },
  {
   "cell_type": "code",
   "execution_count": 147,
   "metadata": {},
   "outputs": [
    {
     "name": "stdout",
     "output_type": "stream",
     "text": [
      "[12, 12, 12, 12, 12, 12, 12, 12, 12, 12]\n"
     ]
    }
   ],
   "source": [
    "data_all = []\n",
    "mso.write(':RUN')\n",
    "for i in range(10):\n",
    "    time.sleep(0.5)\n",
    "    mso.write('WAV:SOUR CHAN1')\n",
    "    mso.write(':WAV:MODE NORM')\n",
    "    mso.write('WFMOutpre:ENCdg ASCII')\n",
    "    mso.write(':HEADer 0')\n",
    "    #mso.write(':DATa:STOP 1000000')\n",
    "    mso.write(':WAV:FORM BYTE')\n",
    "    data = mso.query(':WAV:DATA?')\n",
    "    data_all.append(data)\n",
    "mso.write(\":STOP\")\n",
    "print(data_all)"
   ]
  },
  {
   "cell_type": "code",
   "execution_count": 120,
   "metadata": {},
   "outputs": [
    {
     "name": "stdout",
     "output_type": "stream",
     "text": [
      "b'\\x83\\x84\\x83\\x84\\x84\\x83\\x83\\x84\\x83\\x82\\x82\\x84\\x84\\x82\\x83\\x84\\x83\\x83\\x83\\x84\\x83\\x83\\x83\\x84\\x84\\x83\\x82\\x84\\x84\\x82\\x83\\x84\\x84\\x82\\x83\\x84\\x83\\x82\\x82\\x84\\x84\\x83\\x83\\x83\\x84\\x82\\x82\\x83\\x84\\x82\\x82\\x84\\x84\\x83\\x82\\x83\\x83\\x82\\x82\\x83\\x83\\x82\\x82\\x84\\x84\\x82\\x82\\x84\\x84\\x82\\x83\\x84\\x83\\x82\\x83\\x84\\x83\\x82\\x82\\x84\\x83\\x82\\x82\\x83\\x83\\x82\\x82\\x83\\x83\\x82\\x82\\x84\\x83\\x82\\x82\\x83\\x84\\x83\\x83\\x83\\x83\\x82\\x82\\x83\\x83\\x82\\x82\\x84\\x83\\x82\\x83\\x83\\x83\\x82\\x82\\x84\\x83\\x82\\x82\\x83\\x83\\x82\\x82\\x83\\x83\\x82\\x82\\x83\\x83\\x82\\x82\\x83\\x83\\x82\\x82\\x83\\x83\\x82\\x82\\x83\\x83\\x82\\x83\\x83\\x83\\x82\\x82\\x84\\x84\\x82\\x82\\x83\\x83\\x83\\x82\\x83\\x83\\x82\\x82\\x83\\x83\\x82\\x82\\x83\\x83\\x82\\x82\\x82\\x83\\x82\\x82\\x83\\x83\\x82\\x82\\x83\\x83\\x82\\x82\\x83\\x83\\x82\\x82\\x83\\x83\\x82\\x82\\x84\\x84\\x82\\x82\\x83\\x83\\x82\\x82\\x83\\x83\\x82\\x82\\x83\\x83\\x82\\x82\\x84\\x83\\x82\\x82\\x83\\x83\\x82\\x82\\x83\\x83\\x82\\x82\\x83\\x83\\x82\\x82\\x83\\x84\\x82\\x82\\x83\\x84\\x82\\x82\\x84\\x84\\x82\\x82\\x84\\x83\\x82\\x82\\x83\\x83\\x82\\x82\\x83\\x83\\x82\\x82\\x83\\x84\\x82\\x82\\x83\\x83\\x82\\x82\\x83\\x83\\x82\\x82\\x84\\x83\\x82\\x82\\x84\\x84\\x82\\x82\\x83\\x83\\x82\\x83\\x84\\x84\\x82\\x83\\x84\\x84\\x82\\x82\\x83\\x84\\x82\\x82\\x83\\x83\\x82\\x82\\x83\\x83\\x83\\x82\\x84\\x83\\x82\\x82\\x84\\x84\\x82\\x82\\x83\\x84\\x82\\x83\\x83\\x84\\x83\\x83\\x83\\x84\\x82\\x82\\x84\\x84\\x83\\x82\\x84\\x84\\x82\\x82\\x84\\x84\\x82\\x83\\x84\\x83\\x82\\x83\\x83\\x83\\x82\\x82\\x83\\x83\\x83\\x83\\x84\\x84\\x83\\x82\\x83\\x83\\x82\\x82\\x83\\x83\\x82\\x82\\x83\\x84\\x82\\x82\\x83\\x84\\x83\\x83\\x83\\x84\\x83\\x82\\x84\\x84\\x82\\x82\\x83\\x83\\x82\\x82\\x83\\x83\\x82\\x82\\x83\\x83\\x82\\x82\\x83\\x83\\x82\\x82\\x83\\x83\\x82\\x83\\x83\\x83\\x82\\x83\\x84\\x83\\x82\\x82\\x83\\x83\\x82\\x82\\x83\\x83\\x82\\x82\\x82\\x83\\x82\\x82\\x83\\x83\\x82\\x82\\x83\\x83\\x82\\x82\\x83\\x83\\x82\\x82\\x84\\x83\\x82\\x82\\x83\\x83\\x82\\x82\\x83\\x83\\x82\\x82\\x83\\x83\\x83\\x82\\x83\\x83\\x82\\x82\\x83\\x83\\x82\\x82\\x83\\x84\\x82\\x82\\x83\\x83\\x82\\x83\\x83\\x83\\x82\\x82\\x83\\x83\\x82\\x82\\x83\\x83\\x82\\x82\\x84\\x83\\x82\\x82\\x83\\x83\\x82\\x82\\x83\\x83\\x82\\x82\\x83\\x83\\x82\\x82\\x84\\x83\\x82\\x82\\x84\\x83\\x83\\x82\\x83\\x83\\x82\\x82\\x83\\x83\\x82\\x82\\x83\\x83\\x82\\x82\\x83\\x83\\x82\\x82\\x83\\x83\\x82\\x82\\x83\\x83\\x82\\x82\\x83\\x83\\x83\\x82\\x83\\x83\\x82\\x82\\x83\\x84\\x82\\x82\\x83\\x83\\x81\\x82\\x83\\x83\\x82\\x83\\x83\\x83\\x82\\x82\\x83\\x84\\x82\\x83\\x84\\x84\\x82\\x82\\x84\\x84\\x82\\x82\\x83\\x83\\x82\\x82\\x84\\x84\\x82\\x82\\x83\\x84\\x83\\x82\\x83\\x83\\x82\\x82\\x84\\x83\\x82\\x82\\x83\\x83\\x82\\x82\\x84\\x83\\x82\\x82\\x83\\x83\\x82\\x82\\x83\\x84\\x82\\x82\\x83\\x84\\x83\\x82\\x84\\x84\\x82\\x82\\x84\\x84\\x82\\x82\\x83\\x83\\x82\\x82\\x83\\x84\\x83\\x82\\x83\\x83\\x83\\x82\\x83\\x84\\x83\\x83\\x83\\x84\\x83\\x82\\x84\\x83\\x82\\x82\\x84\\x83\\x82\\x82\\x83\\x83\\x82\\x83\\x83\\x83\\x83\\x82\\x83\\x83\\x83\\x82\\x83\\x83\\x82\\x82\\x83\\x83\\x82\\x82\\x84\\x83\\x82\\x82\\x84\\x84\\x83\\x82\\x83\\x83\\x82\\x82\\x83\\x83\\x82\\x82\\x83\\x83\\x82\\x82\\x83\\x83\\x82\\x82\\x83\\x83\\x82\\x82\\x83\\x84\\x82\\x82\\x83\\x83\\x82\\x82\\x83\\x83\\x82\\x82\\x83\\x83\\x82\\x82\\x83\\x84\\x82\\x82\\x83\\x83\\x82\\x82\\x83\\x83\\x82\\x82\\x83\\x83\\x82\\x82\\x83\\x83\\x82\\x82\\x83\\x83\\x82\\x82\\x83\\x83\\x82\\x82\\x83\\x83\\x82\\x82\\x83\\x83\\x82\\x82\\x83\\x83\\x82\\x82\\x83\\x83\\x82\\x81\\x82\\x83\\x82\\x82\\x83\\x83\\x82\\x82\\x83\\x83\\x82\\x82\\x83\\x83\\x82\\x83\\x83\\x82\\x82\\x83\\x83\\x83\\x82\\x82\\x83\\x83\\x82\\x82\\x83\\x83\\x82\\x82\\x83\\x84\\x82\\x82\\x83\\x83\\x82\\x82\\x83\\x83\\x82\\x82\\x83\\x83\\x82\\x82\\x83\\x83\\x82\\x82\\x83\\x83\\x82\\x82\\x83\\x83\\x82\\x82\\x83\\x83\\x82\\x82\\x83\\x83\\x82\\x82\\x83\\x83\\x82\\x82\\x84\\x84\\x82\\x82\\x83\\x83\\x83\\x82\\x83\\x83\\x82\\x82\\x83\\x84\\x82\\x82\\x83\\x83\\x82\\x82\\x83\\x83\\x83\\x83\\x83\\x84\\x82\\x82\\x83\\x83\\x82\\x82\\x84\\x84\\x83\\x82\\x84\\x84\\x83\\x83\\x84\\x83\\x82\\x83\\x84\\x84\\x82\\x82\\x83\\x84\\x82\\x83\\x83\\x83\\x82\\x82\\x83\\x83\\x82\\x82\\x83\\x83\\x83\\x83\\x84\\x84\\x82\\x83\\x83\\x83\\x83\\x83\\x84\\x84\\x82\\x82\\x84\\x83\\x82\\x82\\x83\\x83\\x82\\x82\\x83\\x83\\x82\\x83\\x84\\x84\\x82\\x82\\x83\\x83\\x82\\x82\\x83\\x83\\x82\\x83\\x83\\x83\\x82\\x82\\x84\\x84\\x82\\x82\\x83\\x83\\x83\\x82\\x84\\x84\\x82\\x82\\x83\\x84\\x82\\x82\\x83\\x83\\x83\\x82\\x83\\x84\\x82\\x82\\x84\\x83\\x82\\x82\\x83\\x83\\x82\\x82\\x84\\x84\\x82\\x82\\x83\\x83\\x82\\x82\\x84\\x83\\x82\\x82\\x84\\x83\\x82\\x83\\x84\\x83\\x82\\x82\\x84\\x84\\x82\\x82\\x83\\x84\\x82\\x82\\x84\\x84\\x82\\x82\\x83\\x84\\x83\\x83\\x84\\x83\\x82\\x82\\x84\\x83\\x82\\x82\\x84\\x83\\x82\\x82\\x84\\x83\\x82\\x82\\x84\\x83\\x82\\x82\\x84\\x84\\x82\\x82\\x83\\x83\\x82\\x82\\x84\\x83\\x82\\x82\\x83\\x83\\x82\\x82\\x84\\x84\\x82\\x82\\x83\\x83\\x82\\x82\\x83\\x84\\x82\\x83\\x83\\x83\\x82\\x82\\x83\\x83\\x82\\x82\\x83\\x84\\x82\\x82\\x84\\x84\\x82\\x82\\x83\\x83\\x82\\x82\\x83\\x83\\x83\\x82\\x83\\x83\\x82\\x83\\x83\\x84\\x82\\x82\\x83\\x83\\x82\\x82\\x83\\x83\\x82\\x82\\x83\\x83\\x82\\x82\\x83\\x83\\x82\\x82\\x83\\x84\\x82\\x83\\x84\\x83\\x82\\x83\\x84\\x84\\x82\\x82\\x83\\x84\\x82\\x82\\x84\\x83\\x82\\x82\\x84\\x83\\x82\\x82\\x83\\x84\\x83\\x82\\x83\\x83\\x82\\x82\\x83\\x83\\x82\\x82\\x83\\x83\\x82\\x82\\x84\\x84\\x82\\x83\\x84\\x84\\x82\\x82\\x83\\x84\\x83\\x82\\x83\\x84\\x82\\x82\\x84\\x84\\x82\\x82\\x84\\x84\\x82\\x83\\x84\\x84\\x82\\x82\\x83\\x83\\x82\\x82\\x84\\x84\\x83\\x82\\x83\\x84\\x82\\x82\\x83\\x83\\x83\\x82\\x83\\x84\\x82\\x82\\x83\\x83\\x82\\x82\\x83\\x84\\x82\\x82\\x83\\x83\\x82\\x82\\x83\\x83\\x82\\x82\\x83\\x83\\x83\\x82\\x83\\x83\\x83\\x83\\x83\\x83\\x82\\x82\\x83\\x83\\x82\\x83\\x84\\x83\\x83\\x82\\x83\\x83\\x82\\x82\\x84\\x84\\x82\\x83\\x83\\x84\\x82\\x82\\x83\\x83\\x83\\x82\\x83\\x84\\x83\\x83\\x84\\x84\\x83\\x82\\x83\\x83\\x83\\x83\\x84\\x84\\x82\\x82\\x83\\x84\\x83\\x82\\x83\\x83\\x82\\x83\\x84\\x83\\x82\\x83\\x84\\x83\\x82\\x82\\x84\\x83\\x82\\x83\\x84\\x83\\x82\\x82\\x83\\x83\\x83\\x82\\x83\\x84\\x82\\x82\\x83\\x84\\x83\\x83\\x83\\x83\\x82\\x82\\x83\\x83\\x82\\x82\\x83\\x83\\x82\\x82\\x83\\x83\\x82\\x82\\x83\\x83\\x82\\x82\\x84\\x84\\x82\\x82\\x83\\x83\\x82\\x82\\x83\\x84\\x82\\x82\\x84\\x83\\x83\\x83\\x83\\x83\\x82\\x82\\x83\\x83\\x82\\x82\\x83\\x83\\x82\\x82\\x83\\x83\\x83\\x83\\x84\\x83\\x82\\x82\\x84\\x83\\x82\\x82\\x83\\x83\\x82\\x82\\x84\\x84\\x82\\x82\\x84\\x83\\x82\\x82\\x83\\x83\\x82\\x82\\x83\\x83\\x82\\x82\\x84\\x83\\x82\\x82\\x83\\x84\\x82\\x82\\x83\\x83\\x82\\x82\\x83\\x83\\x83\\x82\\x83\\x83\\x82\\x82\\x83\\x83\\x82\\x82\\x82\\x83\\x82\\x82\\x83\\x83\\x82\\x82\\x83\\x83\\x82\\x81\\x82\\x83\\x82\\x82\\x83\\x83\\x82\\x82\\x83\\x84\\x82\\x82\\x84\\x83\\x82\\x82\\x83\\x83\\x82\\x82\\x83\\x83\\x82\\x82\\x83\\x83\\x82\\x82\\x83\\x83'\n"
     ]
    },
    {
     "ename": "UnicodeDecodeError",
     "evalue": "'ascii' codec can't decode byte 0x83 in position 0: ordinal not in range(128)",
     "output_type": "error",
     "traceback": [
      "\u001b[1;31m---------------------------------------------------------------------------\u001b[0m",
      "\u001b[1;31mUnicodeDecodeError\u001b[0m                        Traceback (most recent call last)",
      "Cell \u001b[1;32mIn[120], line 15\u001b[0m\n\u001b[0;32m     13\u001b[0m \u001b[38;5;66;03m# Выводим данные\u001b[39;00m\n\u001b[0;32m     14\u001b[0m \u001b[38;5;28mprint\u001b[39m(data)\n\u001b[1;32m---> 15\u001b[0m decoded_data \u001b[38;5;241m=\u001b[39m \u001b[43mdata\u001b[49m\u001b[38;5;241;43m.\u001b[39;49m\u001b[43mdecode\u001b[49m\u001b[43m(\u001b[49m\u001b[38;5;124;43m'\u001b[39;49m\u001b[38;5;124;43mASCii\u001b[39;49m\u001b[38;5;124;43m'\u001b[39;49m\u001b[43m)\u001b[49m  \u001b[38;5;66;03m# или 'latin-1', 'utf-8', и т.д.\u001b[39;00m\n\u001b[0;32m     16\u001b[0m \u001b[38;5;28mprint\u001b[39m(decoded_data)\n\u001b[0;32m     17\u001b[0m \u001b[38;5;66;03m# Закрываем соединение\u001b[39;00m\n",
      "\u001b[1;31mUnicodeDecodeError\u001b[0m: 'ascii' codec can't decode byte 0x83 in position 0: ordinal not in range(128)"
     ]
    }
   ],
   "source": [
    "# Устанавливаем режим чтения данных\n",
    "mso.write(':WAV:SOUR CHAN1')  # Выбираем канал 1 для чтения данных\n",
    "mso.write(':WAV:FORM BYTE')   # Устанавливаем формат данных в байтах\n",
    "\n",
    "# Читаем данные\n",
    "mso.write(':WAV:DATA?')\n",
    "data = mso.read_raw()\n",
    "\n",
    "# Обрабатываем данные\n",
    "header_length = 11  # Длина заголовка данных\n",
    "data = data[header_length:-1]  # Удаляем заголовок и терминатор\n",
    "\n",
    "# Выводим данные\n",
    "print(data)\n",
    "decoded_data = data.decode('ASCii')  # или 'latin-1', 'utf-8', и т.д.\n",
    "print(decoded_data)\n",
    "# Закрываем соединение\n"
   ]
  },
  {
   "cell_type": "code",
   "execution_count": 76,
   "metadata": {},
   "outputs": [
    {
     "ename": "VisaIOError",
     "evalue": "VI_ERROR_TMO (-1073807339): Timeout expired before operation completed.",
     "output_type": "error",
     "traceback": [
      "\u001b[1;31m---------------------------------------------------------------------------\u001b[0m",
      "\u001b[1;31mVisaIOError\u001b[0m                               Traceback (most recent call last)",
      "Cell \u001b[1;32mIn[76], line 4\u001b[0m\n\u001b[0;32m      2\u001b[0m mso\u001b[38;5;241m.\u001b[39mwrite(\u001b[38;5;124m'\u001b[39m\u001b[38;5;124m:HEADer 0\u001b[39m\u001b[38;5;124m'\u001b[39m)\n\u001b[0;32m      3\u001b[0m mso\u001b[38;5;241m.\u001b[39mwrite(\u001b[38;5;124m'\u001b[39m\u001b[38;5;124m:DATa:STOP 1000000\u001b[39m\u001b[38;5;124m'\u001b[39m)\n\u001b[1;32m----> 4\u001b[0m data \u001b[38;5;241m=\u001b[39m \u001b[43mmso\u001b[49m\u001b[38;5;241;43m.\u001b[39;49m\u001b[43mquery_ascii_values\u001b[49m\u001b[43m(\u001b[49m\u001b[38;5;124;43m'\u001b[39;49m\u001b[38;5;124;43mCURVe?\u001b[39;49m\u001b[38;5;124;43m'\u001b[39;49m\u001b[43m,\u001b[49m\u001b[43m \u001b[49m\u001b[43mcontainer\u001b[49m\u001b[38;5;241;43m=\u001b[39;49m\u001b[43mnp\u001b[49m\u001b[38;5;241;43m.\u001b[39;49m\u001b[43mndarray\u001b[49m\u001b[43m)\u001b[49m\n",
      "File \u001b[1;32mc:\\Users\\user\\AppData\\Local\\Programs\\Python\\Python312\\Lib\\site-packages\\pyvisa\\resources\\messagebased.py:688\u001b[0m, in \u001b[0;36mMessageBasedResource.query_ascii_values\u001b[1;34m(self, message, converter, separator, container, delay)\u001b[0m\n\u001b[0;32m    685\u001b[0m \u001b[38;5;28;01mif\u001b[39;00m delay \u001b[38;5;241m>\u001b[39m \u001b[38;5;241m0.0\u001b[39m:\n\u001b[0;32m    686\u001b[0m     time\u001b[38;5;241m.\u001b[39msleep(delay)\n\u001b[1;32m--> 688\u001b[0m \u001b[38;5;28;01mreturn\u001b[39;00m \u001b[38;5;28;43mself\u001b[39;49m\u001b[38;5;241;43m.\u001b[39;49m\u001b[43mread_ascii_values\u001b[49m\u001b[43m(\u001b[49m\u001b[43mconverter\u001b[49m\u001b[43m,\u001b[49m\u001b[43m \u001b[49m\u001b[43mseparator\u001b[49m\u001b[43m,\u001b[49m\u001b[43m \u001b[49m\u001b[43mcontainer\u001b[49m\u001b[43m)\u001b[49m\n",
      "File \u001b[1;32mc:\\Users\\user\\AppData\\Local\\Programs\\Python\\Python312\\Lib\\site-packages\\pyvisa\\resources\\messagebased.py:528\u001b[0m, in \u001b[0;36mMessageBasedResource.read_ascii_values\u001b[1;34m(self, converter, separator, container)\u001b[0m\n\u001b[0;32m    507\u001b[0m \u001b[38;5;250m\u001b[39m\u001b[38;5;124;03m\"\"\"Read values from the device in ascii format returning an iterable of\u001b[39;00m\n\u001b[0;32m    508\u001b[0m \u001b[38;5;124;03mvalues.\u001b[39;00m\n\u001b[0;32m    509\u001b[0m \n\u001b[1;32m   (...)\u001b[0m\n\u001b[0;32m    525\u001b[0m \n\u001b[0;32m    526\u001b[0m \u001b[38;5;124;03m\"\"\"\u001b[39;00m\n\u001b[0;32m    527\u001b[0m \u001b[38;5;66;03m# Use read rather than _read_raw because we cannot handle a bytearray\u001b[39;00m\n\u001b[1;32m--> 528\u001b[0m block \u001b[38;5;241m=\u001b[39m \u001b[38;5;28;43mself\u001b[39;49m\u001b[38;5;241;43m.\u001b[39;49m\u001b[43mread\u001b[49m\u001b[43m(\u001b[49m\u001b[43m)\u001b[49m\n\u001b[0;32m    530\u001b[0m \u001b[38;5;28;01mreturn\u001b[39;00m util\u001b[38;5;241m.\u001b[39mfrom_ascii_block(block, converter, separator, container)\n",
      "File \u001b[1;32mc:\\Users\\user\\AppData\\Local\\Programs\\Python\\Python312\\Lib\\site-packages\\pyvisa\\resources\\messagebased.py:485\u001b[0m, in \u001b[0;36mMessageBasedResource.read\u001b[1;34m(self, termination, encoding)\u001b[0m\n\u001b[0;32m    483\u001b[0m \u001b[38;5;28;01mif\u001b[39;00m termination \u001b[38;5;129;01mis\u001b[39;00m \u001b[38;5;28;01mNone\u001b[39;00m:\n\u001b[0;32m    484\u001b[0m     termination \u001b[38;5;241m=\u001b[39m \u001b[38;5;28mself\u001b[39m\u001b[38;5;241m.\u001b[39m_read_termination\n\u001b[1;32m--> 485\u001b[0m     message \u001b[38;5;241m=\u001b[39m \u001b[38;5;28;43mself\u001b[39;49m\u001b[38;5;241;43m.\u001b[39;49m\u001b[43m_read_raw\u001b[49m\u001b[43m(\u001b[49m\u001b[43m)\u001b[49m\u001b[38;5;241m.\u001b[39mdecode(enco)\n\u001b[0;32m    486\u001b[0m \u001b[38;5;28;01melse\u001b[39;00m:\n\u001b[0;32m    487\u001b[0m     \u001b[38;5;28;01mwith\u001b[39;00m \u001b[38;5;28mself\u001b[39m\u001b[38;5;241m.\u001b[39mread_termination_context(termination):\n",
      "File \u001b[1;32mc:\\Users\\user\\AppData\\Local\\Programs\\Python\\Python312\\Lib\\site-packages\\pyvisa\\resources\\messagebased.py:441\u001b[0m, in \u001b[0;36mMessageBasedResource._read_raw\u001b[1;34m(self, size)\u001b[0m\n\u001b[0;32m    434\u001b[0m     \u001b[38;5;28;01mwhile\u001b[39;00m status \u001b[38;5;241m==\u001b[39m loop_status:\n\u001b[0;32m    435\u001b[0m         logger\u001b[38;5;241m.\u001b[39mdebug(\n\u001b[0;32m    436\u001b[0m             \u001b[38;5;124m\"\u001b[39m\u001b[38;5;132;01m%s\u001b[39;00m\u001b[38;5;124m - reading \u001b[39m\u001b[38;5;132;01m%d\u001b[39;00m\u001b[38;5;124m bytes (last status \u001b[39m\u001b[38;5;132;01m%r\u001b[39;00m\u001b[38;5;124m)\u001b[39m\u001b[38;5;124m\"\u001b[39m,\n\u001b[0;32m    437\u001b[0m             \u001b[38;5;28mself\u001b[39m\u001b[38;5;241m.\u001b[39m_resource_name,\n\u001b[0;32m    438\u001b[0m             size,\n\u001b[0;32m    439\u001b[0m             status,\n\u001b[0;32m    440\u001b[0m         )\n\u001b[1;32m--> 441\u001b[0m         chunk, status \u001b[38;5;241m=\u001b[39m \u001b[38;5;28;43mself\u001b[39;49m\u001b[38;5;241;43m.\u001b[39;49m\u001b[43mvisalib\u001b[49m\u001b[38;5;241;43m.\u001b[39;49m\u001b[43mread\u001b[49m\u001b[43m(\u001b[49m\u001b[38;5;28;43mself\u001b[39;49m\u001b[38;5;241;43m.\u001b[39;49m\u001b[43msession\u001b[49m\u001b[43m,\u001b[49m\u001b[43m \u001b[49m\u001b[43msize\u001b[49m\u001b[43m)\u001b[49m\n\u001b[0;32m    442\u001b[0m         ret\u001b[38;5;241m.\u001b[39mextend(chunk)\n\u001b[0;32m    443\u001b[0m \u001b[38;5;28;01mexcept\u001b[39;00m errors\u001b[38;5;241m.\u001b[39mVisaIOError \u001b[38;5;28;01mas\u001b[39;00m e:\n",
      "File \u001b[1;32mc:\\Users\\user\\AppData\\Local\\Programs\\Python\\Python312\\Lib\\site-packages\\pyvisa\\ctwrapper\\functions.py:2336\u001b[0m, in \u001b[0;36mread\u001b[1;34m(library, session, count)\u001b[0m\n\u001b[0;32m   2334\u001b[0m buffer \u001b[38;5;241m=\u001b[39m create_string_buffer(count)\n\u001b[0;32m   2335\u001b[0m return_count \u001b[38;5;241m=\u001b[39m ViUInt32()\n\u001b[1;32m-> 2336\u001b[0m ret \u001b[38;5;241m=\u001b[39m \u001b[43mlibrary\u001b[49m\u001b[38;5;241;43m.\u001b[39;49m\u001b[43mviRead\u001b[49m\u001b[43m(\u001b[49m\u001b[43msession\u001b[49m\u001b[43m,\u001b[49m\u001b[43m \u001b[49m\u001b[43mbuffer\u001b[49m\u001b[43m,\u001b[49m\u001b[43m \u001b[49m\u001b[43mcount\u001b[49m\u001b[43m,\u001b[49m\u001b[43m \u001b[49m\u001b[43mbyref\u001b[49m\u001b[43m(\u001b[49m\u001b[43mreturn_count\u001b[49m\u001b[43m)\u001b[49m\u001b[43m)\u001b[49m\n\u001b[0;32m   2337\u001b[0m \u001b[38;5;28;01mreturn\u001b[39;00m buffer\u001b[38;5;241m.\u001b[39mraw[: return_count\u001b[38;5;241m.\u001b[39mvalue], ret\n",
      "File \u001b[1;32mc:\\Users\\user\\AppData\\Local\\Programs\\Python\\Python312\\Lib\\site-packages\\pyvisa\\ctwrapper\\highlevel.py:226\u001b[0m, in \u001b[0;36mIVIVisaLibrary._return_handler\u001b[1;34m(self, ret_value, func, arguments)\u001b[0m\n\u001b[0;32m    223\u001b[0m         \u001b[38;5;66;03m# Set session back to a safe value\u001b[39;00m\n\u001b[0;32m    224\u001b[0m         session \u001b[38;5;241m=\u001b[39m \u001b[38;5;28;01mNone\u001b[39;00m\n\u001b[1;32m--> 226\u001b[0m \u001b[38;5;28;01mreturn\u001b[39;00m \u001b[38;5;28;43mself\u001b[39;49m\u001b[38;5;241;43m.\u001b[39;49m\u001b[43mhandle_return_value\u001b[49m\u001b[43m(\u001b[49m\u001b[43msession\u001b[49m\u001b[43m,\u001b[49m\u001b[43m \u001b[49m\u001b[43mret_value\u001b[49m\u001b[43m)\u001b[49m\n",
      "File \u001b[1;32mc:\\Users\\user\\AppData\\Local\\Programs\\Python\\Python312\\Lib\\site-packages\\pyvisa\\highlevel.py:251\u001b[0m, in \u001b[0;36mVisaLibraryBase.handle_return_value\u001b[1;34m(self, session, status_code)\u001b[0m\n\u001b[0;32m    248\u001b[0m     \u001b[38;5;28mself\u001b[39m\u001b[38;5;241m.\u001b[39m_last_status_in_session[session] \u001b[38;5;241m=\u001b[39m rv\n\u001b[0;32m    250\u001b[0m \u001b[38;5;28;01mif\u001b[39;00m rv \u001b[38;5;241m<\u001b[39m \u001b[38;5;241m0\u001b[39m:\n\u001b[1;32m--> 251\u001b[0m     \u001b[38;5;28;01mraise\u001b[39;00m errors\u001b[38;5;241m.\u001b[39mVisaIOError(rv)\n\u001b[0;32m    253\u001b[0m \u001b[38;5;28;01mif\u001b[39;00m rv \u001b[38;5;129;01min\u001b[39;00m \u001b[38;5;28mself\u001b[39m\u001b[38;5;241m.\u001b[39missue_warning_on:\n\u001b[0;32m    254\u001b[0m     \u001b[38;5;28;01mif\u001b[39;00m session \u001b[38;5;129;01mand\u001b[39;00m rv \u001b[38;5;129;01mnot\u001b[39;00m \u001b[38;5;129;01min\u001b[39;00m \u001b[38;5;28mself\u001b[39m\u001b[38;5;241m.\u001b[39m_ignore_warning_in_session[session]:\n",
      "\u001b[1;31mVisaIOError\u001b[0m: VI_ERROR_TMO (-1073807339): Timeout expired before operation completed."
     ]
    }
   ],
   "source": [
    "mso.write('WFMOutpre:ENCdg ASCII')\n",
    "mso.write(':HEADer 0')\n",
    "mso.write(':DATa:STOP 1000000')\n",
    "data = mso.query_ascii_values('CURVe?', container=np.ndarray)"
   ]
  },
  {
   "cell_type": "code",
   "execution_count": 50,
   "metadata": {},
   "outputs": [
    {
     "name": "stdout",
     "output_type": "stream",
     "text": [
      "b'\\x9b\\x9b\\x9b\\x9b\\x9c\\x9c\\x9b\\x9b\\x9d\\x9c\\x9b\\x9b\\x9c\\x9c\\x9b\\x9b\\x9c\\x9c\\x9b\\x9b\\x9c\\x9c\\x9b\\x9b\\x9c\\x9d\\x9b\\x9b\\x9c\\x9d\\x9c\\x9b\\x9c\\x9c\\x9b\\x9b\\x9d\\x9c\\x9b\\x9b\\x9c\\x9c\\x9b\\x9c\\x9d\\x9d\\x9b\\x9b\\x9c\\x9c\\x9c\\x9b\\x9c\\x9c\\x9b\\x9b\\x9c\\x9c\\x9b\\x9b\\x9d\\x9c\\x9b\\x9b\\x9d\\x9d\\x9b\\x9b\\x9d\\x9c\\x9c\\x9b\\x9c\\x9d\\x9b\\x9b\\x9d\\x9c\\x9b\\x9b\\x9c\\x9c\\x9c\\x9b\\x9c\\x9c\\x9b\\x9b\\x9d\\x9d\\x9b\\x9b\\x9d\\x9c\\x9b\\x9c\\x9c\\x9c\\x9b\\x9b\\x9d\\x9c\\x9c\\x9b\\x9d\\x9c\\x9c\\x9b\\x9d\\x9c\\x9b\\x9c\\x9d\\x9c\\x9b\\x9b\\x9c\\x9c\\x9b\\x9b\\x9d\\x9c\\x9c\\x9b\\x9c\\x9c\\x9b\\x9b\\x9c\\x9c\\x9b\\x9b\\x9c\\x9d\\x9b\\x9c\\x9c\\x9d\\x9c\\x9b\\x9c\\x9c\\x9b\\x9b\\x9c\\x9c\\x9b\\x9b\\x9c\\x9c\\x9b\\x9b\\x9c\\x9d\\x9b\\x9b\\x9c\\x9c\\x9b\\x9b\\x9c\\x9c\\x9b\\x9b\\x9c\\x9c\\x9b\\x9b\\x9c\\x9c\\x9b\\x9b\\x9c\\x9c\\x9b\\x9b\\x9c\\x9c\\x9b\\x9b\\x9c\\x9c\\x9b\\x9b\\x9c\\x9c\\x9b\\x9b\\x9c\\x9c\\x9b\\x9b\\x9c\\x9c\\x9b\\x9b\\x9c\\x9c\\x9b\\x9b\\x9c\\x9c\\x9b\\x9b\\x9c\\x9c\\x9b\\x9b\\x9c\\x9b\\x9b\\x9b\\x9c\\x9c\\x9b\\x9b\\x9c\\x9c\\x9b\\x9b\\x9c\\x9b\\x9b\\x9b\\x9c\\x9c\\x9b\\x9b\\x9c\\x9c\\x9b\\x9b\\x9c\\x9b\\x9a\\x9b\\x9c\\x9c\\x9b\\x9b\\x9c\\x9c\\x9b\\x9b\\x9c\\x9c\\x9b\\x9b\\x9b\\x9b\\x9a\\x9b\\x9c\\x9c\\x9b\\x9b\\x9c\\x9c\\x9b\\x9b\\x9c\\x9c\\x9b\\x9b\\x9c\\x9c\\x9b\\x9b\\x9c\\x9c\\x9b\\x9b\\x9c\\x9c\\x9b\\x9b\\x9d\\x9c\\x9b\\x9b\\x9c\\x9c\\x9b\\x9b\\x9d\\x9c\\x9b\\x9b\\x9c\\x9c\\x9b\\x9b\\x9d\\x9c\\x9b\\x9b\\x9d\\x9d\\x9c\\x9b\\x9d\\x9c\\x9b\\x9c\\x9d\\x9c\\x9b\\x9b\\x9c\\x9c\\x9b\\x9b\\x9c\\x9c\\x9c\\x9c\\x9d\\x9c\\x9b\\x9b\\x9d\\x9c\\x9c\\x9b\\x9c\\x9c\\x9b\\x9b\\x9d\\x9c\\x9b\\x9b\\x9c\\x9d\\x9c\\x9b\\x9d\\x9c\\x9b\\x9b\\x9d\\x9d\\x9c\\x9b\\x9d\\x9d\\x9c\\x9c\\x9c\\x9c\\x9b\\x9b\\x9c\\x9c\\x9b\\x9b\\x9d\\x9c\\x9b\\x9c\\x9d\\x9d\\x9c\\x9c\\x9c\\x9c\\x9b\\x9b\\x9d\\x9c\\x9b\\x9b\\x9d\\x9c\\x9b\\x9b\\x9d\\x9c\\x9b\\x9b\\x9d\\x9c\\x9b\\x9b\\x9c\\x9d\\x9b\\x9b\\x9c\\x9c\\x9b\\x9c\\x9d\\x9c\\x9b\\x9b\\x9c\\x9c\\x9b\\x9b\\x9d\\x9c\\x9c\\x9b\\x9c\\x9c\\x9b\\x9b\\x9c\\x9c\\x9c\\x9b\\x9c\\x9c\\x9b\\x9b\\x9c\\x9c\\x9b\\x9b\\x9c\\x9b\\x9b\\x9b\\x9c\\x9b\\x9b\\x9b\\x9c\\x9c\\x9b\\x9a\\x9c\\x9c\\x9b\\x9a\\x9c\\x9c\\x9b\\x9b\\x9b\\x9c\\x9c\\x9b\\x9c\\x9c\\x9b\\x9b\\x9c\\x9c\\x9c\\x9b\\x9c\\x9c\\x9b\\x9b\\x9c\\x9c\\x9b\\x9b\\x9c\\x9c\\x9b\\x9b\\x9c\\x9c\\x9b\\x9b\\x9c\\x9c\\x9b\\x9a\\x9c\\x9c\\x9b\\x9b\\x9c\\x9c\\x9b\\x9b\\x9c\\x9c\\x9b\\x9b\\x9c\\x9c\\x9b\\x9b\\x9c\\x9c\\x9b\\x9b\\x9c\\x9c\\x9b\\x9b\\x9c\\x9c\\x9b\\x9b\\x9c\\x9c\\x9b\\x9b\\x9c\\x9c\\x9b\\x9b\\x9c\\x9c\\x9b\\x9b\\x9c\\x9c\\x9b\\x9b\\x9c\\x9c\\x9b\\x9b\\x9c\\x9c\\x9b\\x9b\\x9d\\x9c\\x9b\\x9b\\x9c\\x9c\\x9b\\x9b\\x9c\\x9c\\x9b\\x9b\\x9c\\x9c\\x9b\\x9b\\x9c\\x9c\\x9b\\x9b\\x9d\\x9c\\x9c\\x9b\\x9c\\x9c\\x9b\\x9b\\x9c\\x9d\\x9c\\x9b\\x9d\\x9c\\x9b\\x9b\\x9b\\x9c\\x9b\\x9b\\x9c\\x9d\\x9c\\x9b\\x9c\\x9c\\x9b\\x9b\\x9d\\x9d\\x9b\\x9b\\x9c\\x9c\\x9c\\x9b\\x9c\\x9c\\x9c\\x9b\\x9c\\x9c\\x9c\\x9b\\x9c\\x9c\\x9c\\x9b\\x9c\\x9c\\x9b\\x9b\\x9c\\x9d\\x9c\\x9b\\x9c\\x9c\\x9b\\x9b\\x9d\\x9c\\x9b\\x9b\\x9c\\x9c\\x9b\\x9b\\x9c\\x9c\\x9c\\x9c\\x9c\\x9c\\x9b\\x9b\\x9c\\x9c\\x9b\\x9b\\x9d\\x9c\\x9b\\x9b\\x9c\\x9c\\x9b\\x9b\\x9c\\x9c\\x9c\\x9b\\x9c\\x9c\\x9b\\x9b\\x9c\\x9d\\x9b\\x9b\\x9c\\x9c\\x9b\\x9b\\x9c\\x9c\\x9b\\x9b\\x9c\\x9c\\x9b\\x9b\\x9c\\x9c\\x9b\\x9b\\x9c\\x9c\\x9b\\x9b\\x9c\\x9c\\x9b\\x9c\\x9c\\x9c\\x9b\\x9b\\x9c\\x9c\\x9b\\x9b\\x9c\\x9c\\x9b\\x9b\\x9c\\x9c\\x9b\\x9b\\x9d\\x9c\\x9b\\x9b\\x9d\\x9c\\x9b\\x9b\\x9c\\x9c\\x9b\\x9b\\x9c\\x9c\\x9b\\x9b\\x9c\\x9c\\x9b\\x9b\\x9c\\x9c\\x9c\\x9b\\x9c\\x9c\\x9b\\x9b\\x9c\\x9c\\x9b\\x9b\\x9c\\x9c\\x9c\\x9b\\x9c\\x9c\\x9b\\x9b\\x9c\\x9c\\x9b\\x9b\\x9c\\x9c\\x9b\\x9b\\x9c\\x9c\\x9b\\x9b\\x9c\\x9c\\x9b\\x9b\\x9c\\x9c\\x9b\\x9c\\x9d\\x9c\\x9b\\x9b\\x9c\\x9d\\x9b\\x9b\\x9c\\x9d\\x9c\\x9b\\x9d\\x9c\\x9c\\x9b\\x9c\\x9c\\x9c\\x9b\\x9d\\x9d\\x9c\\x9b\\x9c\\x9d\\x9b\\x9b\\x9c\\x9c\\x9b\\x9b\\x9c\\x9d\\x9c\\x9c\\x9c\\x9c\\x9c\\x9b\\x9c\\x9c\\x9c\\x9c\\x9d\\x9c\\x9c\\x9b\\x9c\\x9d\\x9b\\x9b\\x9c\\x9c\\x9c\\x9b\\x9c\\x9c\\x9b\\x9c\\x9c\\x9c\\x9b\\x9b\\x9d\\x9c\\x9b\\x9c\\x9d\\x9c\\x9b\\x9b\\x9c\\x9c\\x9c\\x9c\\x9d\\x9c\\x9c\\x9b\\x9c\\x9c\\x9c\\x9c\\x9c\\x9c\\x9b\\x9b\\x9c\\x9c\\x9c\\x9c\\x9d\\x9c\\x9b\\x9b\\x9c\\x9c\\x9b\\x9b\\x9c\\x9c\\x9b\\x9b\\x9c\\x9d\\x9b\\x9b\\x9c\\x9d\\x9b\\x9b\\x9c\\x9d\\x9b\\x9b\\x9c\\x9c\\x9b\\x9b\\x9c\\x9c\\x9b\\x9b\\x9c\\x9c\\x9c\\x9b\\x9c\\x9c\\x9c\\x9b\\x9c\\x9c\\x9b\\x9b\\x9c\\x9c\\x9b\\x9b\\x9c\\x9c\\x9b\\x9b\\x9c\\x9c\\x9b\\x9b\\x9d\\x9c\\x9b\\x9b\\x9d\\x9c\\x9c\\x9c\\x9c\\x9c\\x9b\\x9c\\x9c\\x9c\\x9b\\x9b\\x9c\\x9d\\x9c\\x9b\\x9d\\x9c\\x9b\\x9b\\x9c\\x9c\\x9b\\x9b\\x9c\\x9c\\x9b\\x9b\\x9d\\x9c\\x9c\\x9b\\x9d\\x9c\\x9b\\x9b\\x9d\\x9c\\x9c\\x9b\\x9c\\x9c\\x9b\\x9c\\x9c\\x9c\\x9b\\x9b\\x9c\\x9c\\x9c\\x9b\\x9c\\x9d\\x9c\\x9b\\x9c\\x9c\\x9c\\x9b\\x9c\\x9c\\x9c\\x9b\\x9c\\x9c\\x9a\\x9b\\x9c\\x9c\\x9b\\x9b\\x9c\\x9c\\x9b\\x9b\\x9c\\x9c\\x9b\\x9b\\x9c\\x9c\\x9b\\x9b\\x9c\\x9c\\x9b\\x9b\\x9c\\x9c\\x9c\\x9b\\x9d\\x9d\\x9b\\x9b\\x9d\\x9c\\x9b\\x9c\\x9d\\x9c\\x9c\\x9b\\x9c\\x9c\\x9b\\x9b\\x9d\\x9c\\x9b\\x9b\\x9c\\x9c\\x9b\\x9b\\x9c\\x9c\\x9b\\x9b\\x9c\\x9c\\x9b\\x9b\\x9c\\x9c\\x9b\\x9b\\x9c\\x9c\\x9b\\x9b\\x9c\\x9c\\x9b\\x9b\\x9c\\x9c\\x9a\\x9b\\x9c\\x9c\\x9b\\x9b\\x9c\\x9d\\x9c\\x9b\\x9c\\x9d\\x9b\\x9b\\x9c\\x9c\\x9b\\x9b\\x9c\\x9c\\x9b\\x9b\\x9c\\x9c\\x9b\\x9b\\x9c\\x9c\\x9b\\x9b\\x9c\\x9c\\x9b\\x9b\\x9d\\x9c\\x9b\\x9b\\x9c\\x9c\\x9b\\x9b\\x9c\\x9c\\x9b\\x9c\\x9d\\x9c\\x9b\\x9b\\x9c\\x9c\\x9b\\x9b\\x9c\\x9c\\x9b\\x9a\\x9b\\x9c\\x9b\\x9b\\x9c\\x9c\\x9b\\x9b\\x9c\\x9c\\x9b\\x9b\\x9d\\x9c\\x9b\\x9b\\x9c\\x9d\\x9c\\x9b\\x9d\\x9c\\x9b\\x9b\\x9c\\x9c\\x9b\\x9b\\x9d\\x9c\\x9b\\x9b\\x9d\\x9c\\x9b\\x9b\\x9c\\x9c\\x9b\\x9b\\x9c\\x9c\\x9c\\x9b\\x9c\\x9c\\x9b\\x9b\\x9c\\x9c\\x9b\\x9b\\x9d\\x9c\\x9b\\x9b\\x9c\\x9c\\x9b\\x9b\\x9d\\x9d\\x9b\\x9b\\x9d\\x9c\\x9c\\x9b\\x9c\\x9c\\x9b\\x9b\\x9c\\x9c\\x9b\\x9c\\x9d\\x9d\\x9c\\x9b\\x9c\\x9c\\x9c\\x9c\\x9c\\x9c\\x9b\\x9c\\x9d\\x9c\\x9b\\x9b\\x9c\\x9d\\x9c\\x9b\\x9c\\x9d\\x9b\\x9b\\x9c\\x9c\\x9b\\x9b\\x9c\\x9c\\x9c\\x9b\\x9c\\x9c\\x9b\\x9b\\x9d\\x9c\\x9c\\x9b\\x9c\\x9c\\x9b\\x9b\\x9c\\x9c\\x9b\\x9b\\x9c\\x9c\\x9b\\x9b\\x9c\\x9c\\x9b\\x9b\\x9c\\x9c\\x9b\\x9b\\x9c\\x9c\\x9b\\x9b\\x9c\\x9c\\x9b\\x9b\\x9c\\x9c\\x9b\\x9b\\x9c\\x9c\\x9b\\x9b\\x9c\\x9c\\x9b\\x9b\\x9c\\x9c\\x9b\\x9b\\x9c\\x9c\\x9b\\x9b\\x9c\\x9c\\x9b\\x9b\\x9c\\x9c\\x9b\\x9b\\x9c\\x9b\\x9b\\x9b\\x9c\\x9c\\x9b\\x9b\\x9c\\x9c\\x9b\\x9b\\x9d\\x9c\\x9b\\x9a\\x9c\\x9c\\x9b\\x9a\\x9c\\x9c\\x9b\\x9b\\x9b\\x9c\\x9b\\x9b\\x9c\\x9c\\x9b\\x9b\\x9c\\x9c\\x9b\\x9b\\x9c\\x9c\\x9b\\x9b\\x9d\\x9c\\x9b\\x9b\\x9d\\x9c\\x9c\\x9b\\x9c\\x9c\\x9b\\x9b\\x9c\\x9c\\x9c\\x9b\\x9c\\x9c\\x9b\\x9b\\x9c\\x9c\\x9b\\x9b\\x9c\\x9c\\x9b\\x9b\\x9c\\x9c\\x9b\\x9b\\x9c\\x9c\\x9b\\x9b\\x9d\\x9c\\x9b\\x9b\\x9c\\x9c\\x9b\\x9b\\x9d\\x9d\\x9b\\x9b\\x9d\\x9c\\x9c\\x9b\\x9c\\x9c\\x9b\\x9b\\x9c\\x9d\\x9b\\x9b\\x9c\\x9c\\x9b\\x9b\\x9c\\x9c\\x9b\\x9b\\x9c\\x9c\\x9c\\x9b\\x9c\\x9c\\x9b\\x9b\\x9c\\x9c\\x9b\\x9b\\x9c\\x9c\\x9b\\x9b\\x9c\\x9c\\x9b\\x9b\\x9c\\x9c\\x9b\\x9b\\x9c\\x9c\\x9b\\x9b'\n"
     ]
    },
    {
     "data": {
      "text/plain": [
       "7"
      ]
     },
     "execution_count": 50,
     "metadata": {},
     "output_type": "execute_result"
    }
   ],
   "source": [
    "mso.write(':RUN')\n",
    "time.sleep(3.5)\n",
    "mso.write(':WAV:SOUR CHAN1')  # Выбираем канал 1 для чтения данных\n",
    "mso.write(':WAV:FORM BYTE')   # Устанавливаем формат данных в байтах\n",
    "\n",
    "# Читаем данные\n",
    "mso.write(':WAV:DATA?')\n",
    "data = mso.read_raw()\n",
    "\n",
    "# Обрабатываем данные\n",
    "header_length = 11  # Длина заголовка данных\n",
    "data = data[header_length:-1]  # Удаляем заголовок и терминатор\n",
    "\n",
    "# Выводим данные\n",
    "print(data)\n",
    "mso.write(\":STOP\")"
   ]
  },
  {
   "cell_type": "code",
   "execution_count": 35,
   "metadata": {},
   "outputs": [
    {
     "ename": "VisaIOError",
     "evalue": "VI_ERROR_TMO (-1073807339): Timeout expired before operation completed.",
     "output_type": "error",
     "traceback": [
      "\u001b[1;31m---------------------------------------------------------------------------\u001b[0m",
      "\u001b[1;31mVisaIOError\u001b[0m                               Traceback (most recent call last)",
      "Cell \u001b[1;32mIn[35], line 7\u001b[0m\n\u001b[0;32m      5\u001b[0m mso\u001b[38;5;241m.\u001b[39mwrite(\u001b[38;5;124mf\u001b[39m\u001b[38;5;124m\"\u001b[39m\u001b[38;5;124m:dat:width 2\u001b[39m\u001b[38;5;124m\"\u001b[39m)\n\u001b[0;32m      6\u001b[0m mso\u001b[38;5;241m.\u001b[39mwrite(\u001b[38;5;124mf\u001b[39m\u001b[38;5;124m\"\u001b[39m\u001b[38;5;124m:header 0\u001b[39m\u001b[38;5;124m\"\u001b[39m)\n\u001b[1;32m----> 7\u001b[0m list_wf \u001b[38;5;241m=\u001b[39m \u001b[43mmso\u001b[49m\u001b[38;5;241;43m.\u001b[39;49m\u001b[43mquery\u001b[49m\u001b[43m(\u001b[49m\u001b[38;5;124;43mf\u001b[39;49m\u001b[38;5;124;43m\"\u001b[39;49m\u001b[38;5;124;43mcurv?\u001b[39;49m\u001b[38;5;124;43m\"\u001b[39;49m\u001b[43m)\u001b[49m\u001b[38;5;241m.\u001b[39msplit(\u001b[38;5;124m\"\u001b[39m\u001b[38;5;124m,\u001b[39m\u001b[38;5;124m\"\u001b[39m)\n\u001b[0;32m      8\u001b[0m list_wf_int \u001b[38;5;241m=\u001b[39m [\u001b[38;5;28mint\u001b[39m(x) \u001b[38;5;28;01mfor\u001b[39;00m x \u001b[38;5;129;01min\u001b[39;00m list_wf]\n\u001b[0;32m      9\u001b[0m list_wf_int\n",
      "File \u001b[1;32mc:\\Users\\user\\AppData\\Local\\Programs\\Python\\Python312\\Lib\\site-packages\\pyvisa\\resources\\messagebased.py:647\u001b[0m, in \u001b[0;36mMessageBasedResource.query\u001b[1;34m(self, message, delay)\u001b[0m\n\u001b[0;32m    644\u001b[0m \u001b[38;5;28;01mif\u001b[39;00m delay \u001b[38;5;241m>\u001b[39m \u001b[38;5;241m0.0\u001b[39m:\n\u001b[0;32m    645\u001b[0m     time\u001b[38;5;241m.\u001b[39msleep(delay)\n\u001b[1;32m--> 647\u001b[0m \u001b[38;5;28;01mreturn\u001b[39;00m \u001b[38;5;28;43mself\u001b[39;49m\u001b[38;5;241;43m.\u001b[39;49m\u001b[43mread\u001b[49m\u001b[43m(\u001b[49m\u001b[43m)\u001b[49m\n",
      "File \u001b[1;32mc:\\Users\\user\\AppData\\Local\\Programs\\Python\\Python312\\Lib\\site-packages\\pyvisa\\resources\\messagebased.py:485\u001b[0m, in \u001b[0;36mMessageBasedResource.read\u001b[1;34m(self, termination, encoding)\u001b[0m\n\u001b[0;32m    483\u001b[0m \u001b[38;5;28;01mif\u001b[39;00m termination \u001b[38;5;129;01mis\u001b[39;00m \u001b[38;5;28;01mNone\u001b[39;00m:\n\u001b[0;32m    484\u001b[0m     termination \u001b[38;5;241m=\u001b[39m \u001b[38;5;28mself\u001b[39m\u001b[38;5;241m.\u001b[39m_read_termination\n\u001b[1;32m--> 485\u001b[0m     message \u001b[38;5;241m=\u001b[39m \u001b[38;5;28;43mself\u001b[39;49m\u001b[38;5;241;43m.\u001b[39;49m\u001b[43m_read_raw\u001b[49m\u001b[43m(\u001b[49m\u001b[43m)\u001b[49m\u001b[38;5;241m.\u001b[39mdecode(enco)\n\u001b[0;32m    486\u001b[0m \u001b[38;5;28;01melse\u001b[39;00m:\n\u001b[0;32m    487\u001b[0m     \u001b[38;5;28;01mwith\u001b[39;00m \u001b[38;5;28mself\u001b[39m\u001b[38;5;241m.\u001b[39mread_termination_context(termination):\n",
      "File \u001b[1;32mc:\\Users\\user\\AppData\\Local\\Programs\\Python\\Python312\\Lib\\site-packages\\pyvisa\\resources\\messagebased.py:441\u001b[0m, in \u001b[0;36mMessageBasedResource._read_raw\u001b[1;34m(self, size)\u001b[0m\n\u001b[0;32m    434\u001b[0m     \u001b[38;5;28;01mwhile\u001b[39;00m status \u001b[38;5;241m==\u001b[39m loop_status:\n\u001b[0;32m    435\u001b[0m         logger\u001b[38;5;241m.\u001b[39mdebug(\n\u001b[0;32m    436\u001b[0m             \u001b[38;5;124m\"\u001b[39m\u001b[38;5;132;01m%s\u001b[39;00m\u001b[38;5;124m - reading \u001b[39m\u001b[38;5;132;01m%d\u001b[39;00m\u001b[38;5;124m bytes (last status \u001b[39m\u001b[38;5;132;01m%r\u001b[39;00m\u001b[38;5;124m)\u001b[39m\u001b[38;5;124m\"\u001b[39m,\n\u001b[0;32m    437\u001b[0m             \u001b[38;5;28mself\u001b[39m\u001b[38;5;241m.\u001b[39m_resource_name,\n\u001b[0;32m    438\u001b[0m             size,\n\u001b[0;32m    439\u001b[0m             status,\n\u001b[0;32m    440\u001b[0m         )\n\u001b[1;32m--> 441\u001b[0m         chunk, status \u001b[38;5;241m=\u001b[39m \u001b[38;5;28;43mself\u001b[39;49m\u001b[38;5;241;43m.\u001b[39;49m\u001b[43mvisalib\u001b[49m\u001b[38;5;241;43m.\u001b[39;49m\u001b[43mread\u001b[49m\u001b[43m(\u001b[49m\u001b[38;5;28;43mself\u001b[39;49m\u001b[38;5;241;43m.\u001b[39;49m\u001b[43msession\u001b[49m\u001b[43m,\u001b[49m\u001b[43m \u001b[49m\u001b[43msize\u001b[49m\u001b[43m)\u001b[49m\n\u001b[0;32m    442\u001b[0m         ret\u001b[38;5;241m.\u001b[39mextend(chunk)\n\u001b[0;32m    443\u001b[0m \u001b[38;5;28;01mexcept\u001b[39;00m errors\u001b[38;5;241m.\u001b[39mVisaIOError \u001b[38;5;28;01mas\u001b[39;00m e:\n",
      "File \u001b[1;32mc:\\Users\\user\\AppData\\Local\\Programs\\Python\\Python312\\Lib\\site-packages\\pyvisa\\ctwrapper\\functions.py:2336\u001b[0m, in \u001b[0;36mread\u001b[1;34m(library, session, count)\u001b[0m\n\u001b[0;32m   2334\u001b[0m buffer \u001b[38;5;241m=\u001b[39m create_string_buffer(count)\n\u001b[0;32m   2335\u001b[0m return_count \u001b[38;5;241m=\u001b[39m ViUInt32()\n\u001b[1;32m-> 2336\u001b[0m ret \u001b[38;5;241m=\u001b[39m \u001b[43mlibrary\u001b[49m\u001b[38;5;241;43m.\u001b[39;49m\u001b[43mviRead\u001b[49m\u001b[43m(\u001b[49m\u001b[43msession\u001b[49m\u001b[43m,\u001b[49m\u001b[43m \u001b[49m\u001b[43mbuffer\u001b[49m\u001b[43m,\u001b[49m\u001b[43m \u001b[49m\u001b[43mcount\u001b[49m\u001b[43m,\u001b[49m\u001b[43m \u001b[49m\u001b[43mbyref\u001b[49m\u001b[43m(\u001b[49m\u001b[43mreturn_count\u001b[49m\u001b[43m)\u001b[49m\u001b[43m)\u001b[49m\n\u001b[0;32m   2337\u001b[0m \u001b[38;5;28;01mreturn\u001b[39;00m buffer\u001b[38;5;241m.\u001b[39mraw[: return_count\u001b[38;5;241m.\u001b[39mvalue], ret\n",
      "File \u001b[1;32mc:\\Users\\user\\AppData\\Local\\Programs\\Python\\Python312\\Lib\\site-packages\\pyvisa\\ctwrapper\\highlevel.py:226\u001b[0m, in \u001b[0;36mIVIVisaLibrary._return_handler\u001b[1;34m(self, ret_value, func, arguments)\u001b[0m\n\u001b[0;32m    223\u001b[0m         \u001b[38;5;66;03m# Set session back to a safe value\u001b[39;00m\n\u001b[0;32m    224\u001b[0m         session \u001b[38;5;241m=\u001b[39m \u001b[38;5;28;01mNone\u001b[39;00m\n\u001b[1;32m--> 226\u001b[0m \u001b[38;5;28;01mreturn\u001b[39;00m \u001b[38;5;28;43mself\u001b[39;49m\u001b[38;5;241;43m.\u001b[39;49m\u001b[43mhandle_return_value\u001b[49m\u001b[43m(\u001b[49m\u001b[43msession\u001b[49m\u001b[43m,\u001b[49m\u001b[43m \u001b[49m\u001b[43mret_value\u001b[49m\u001b[43m)\u001b[49m\n",
      "File \u001b[1;32mc:\\Users\\user\\AppData\\Local\\Programs\\Python\\Python312\\Lib\\site-packages\\pyvisa\\highlevel.py:251\u001b[0m, in \u001b[0;36mVisaLibraryBase.handle_return_value\u001b[1;34m(self, session, status_code)\u001b[0m\n\u001b[0;32m    248\u001b[0m     \u001b[38;5;28mself\u001b[39m\u001b[38;5;241m.\u001b[39m_last_status_in_session[session] \u001b[38;5;241m=\u001b[39m rv\n\u001b[0;32m    250\u001b[0m \u001b[38;5;28;01mif\u001b[39;00m rv \u001b[38;5;241m<\u001b[39m \u001b[38;5;241m0\u001b[39m:\n\u001b[1;32m--> 251\u001b[0m     \u001b[38;5;28;01mraise\u001b[39;00m errors\u001b[38;5;241m.\u001b[39mVisaIOError(rv)\n\u001b[0;32m    253\u001b[0m \u001b[38;5;28;01mif\u001b[39;00m rv \u001b[38;5;129;01min\u001b[39;00m \u001b[38;5;28mself\u001b[39m\u001b[38;5;241m.\u001b[39missue_warning_on:\n\u001b[0;32m    254\u001b[0m     \u001b[38;5;28;01mif\u001b[39;00m session \u001b[38;5;129;01mand\u001b[39;00m rv \u001b[38;5;129;01mnot\u001b[39;00m \u001b[38;5;129;01min\u001b[39;00m \u001b[38;5;28mself\u001b[39m\u001b[38;5;241m.\u001b[39m_ignore_warning_in_session[session]:\n",
      "\u001b[1;31mVisaIOError\u001b[0m: VI_ERROR_TMO (-1073807339): Timeout expired before operation completed."
     ]
    }
   ],
   "source": [
    "mso.write(f\":dat:sou CH1\")\n",
    "mso.write(f\":dat:start 1\")\n",
    "mso.write(f\":dat:stop {1e4}\")\n",
    "mso.write(f\":dat:enc ASCI\")\n",
    "mso.write(f\":dat:width 2\")\n",
    "mso.write(f\":header 0\")\n",
    "list_wf = mso.query(f\"curv?\").split(\",\")\n",
    "list_wf_int = [int(x) for x in list_wf]\n",
    "list_wf_int"
   ]
  },
  {
   "cell_type": "code",
   "execution_count": 5,
   "metadata": {},
   "outputs": [],
   "source": [
    "def measure_current(value, compliance, sleep_time):\n",
    "        smu.write(\"SOUR:FUNC VOLT\")\n",
    "        smu.write(f\"SOUR:volt {value}\")\n",
    "        smu.write(f\"SOURce:VOLT:ILIM {compliance}\")\n",
    "        time.sleep(sleep_time)\n",
    "        I = float(smu.query(':MEASure:CURR?')) * 1000\n",
    "        return I \n",
    "        \n",
    "        "
   ]
  },
  {
   "cell_type": "code",
   "execution_count": 6,
   "metadata": {},
   "outputs": [],
   "source": [
    "def setup_source(smu, v_range, delay):\n",
    "    smu.write(f'SOUR:VOLT:RANG:AUTO OFF')\n",
    "    smu.write(f'SOUR:VOLT:RANG {v_range}')\n",
    "    smu.write(f'SOUR:VOLT:DEL:AUTO OFF')\n",
    "    smu.write(f'SOUR:VOLT:DEL {delay}')\n",
    "    "
   ]
  },
  {
   "cell_type": "code",
   "execution_count": 43,
   "metadata": {},
   "outputs": [],
   "source": [
    "def get_traces(smu, buffer=\"defbuffer1\"):\n",
    "        smu.write(f':TRACe:ACTual:END? \"{buffer}\"')\n",
    "        ending_index = int(smu.read())\n",
    "        smu.write(f':TRAce:DATA? 1, {ending_index}, \"{buffer}\", RELative, SOURce, READing')\n",
    "        result = smu.read()\n",
    "        result = result.split(',')\n",
    "        result = list(map(float, result))\n",
    "        data = {\n",
    "            'time': result[::3],\n",
    "            'source': result[1::3],\n",
    "            'reading': result[2::3]\n",
    "        }\n",
    "        return data"
   ]
  },
  {
   "cell_type": "code",
   "execution_count": 7,
   "metadata": {},
   "outputs": [
    {
     "data": {
      "text/plain": [
       "-5.582919e-06"
      ]
     },
     "execution_count": 7,
     "metadata": {},
     "output_type": "execute_result"
    }
   ],
   "source": [
    "\n",
    "time.sleep(0.5)\n",
    "I = float(smu.query(':MEASure:CURR?')) * 1000\n",
    "I"
   ]
  },
  {
   "cell_type": "code",
   "execution_count": 9,
   "metadata": {},
   "outputs": [
    {
     "name": "stdout",
     "output_type": "stream",
     "text": [
      "0.6914971999999999\n",
      "0.6914974\n",
      "0.6914976\n",
      "0.6914980000000001\n",
      "0.6914983\n",
      "0.6914975\n",
      "0.6914983\n",
      "0.6914979\n",
      "0.6914976\n",
      "0.6914987\n",
      "0.6914993\n",
      "0.6914990999999999\n",
      "0.6915\n",
      "0.6914996\n",
      "0.6915006\n",
      "0.6915004\n",
      "0.6915005\n",
      "0.6914996\n",
      "0.6915003000000001\n",
      "0.6915\n",
      "0.6915006\n",
      "0.6915011\n",
      "0.6915015999999999\n",
      "0.6915017\n",
      "0.6915009999999999\n",
      "0.6915018\n",
      "0.6915018\n",
      "0.6915024\n",
      "0.6915021\n",
      "0.6915021\n",
      "0.6915018\n",
      "0.6915028000000001\n",
      "0.6915031\n",
      "0.6915031\n",
      "0.6915031\n",
      "0.6915028000000001\n",
      "0.6915032\n",
      "0.6915032\n",
      "0.6915033\n",
      "0.6915028000000001\n",
      "0.6915028000000001\n",
      "0.6915036\n",
      "0.6915032\n",
      "0.6915034999999999\n",
      "0.6915033\n",
      "0.6915036\n",
      "0.691504\n",
      "0.6915038\n",
      "0.6915033\n",
      "0.6915038\n",
      "0.6915036\n",
      "0.691504\n",
      "0.6915032\n",
      "0.6915031\n",
      "0.6915028999999999\n",
      "0.6915032\n",
      "0.6915031\n",
      "0.6915033\n",
      "0.6915031\n",
      "0.6915028999999999\n",
      "0.6915021\n",
      "0.6915025\n",
      "0.6915023\n",
      "0.6915018\n",
      "0.6915011\n",
      "0.6915018999999999\n",
      "0.6915005\n",
      "0.6915008\n",
      "0.6915008\n",
      "0.6914998\n",
      "0.6915002\n",
      "0.6915006\n",
      "0.6915003000000001\n",
      "0.6914996999999999\n",
      "0.6914994\n",
      "0.6915\n",
      "0.6914994\n",
      "0.6914988\n",
      "0.6914996\n",
      "0.6914989\n",
      "0.6914988\n",
      "0.6914996\n",
      "0.6914990000000001\n",
      "0.6914990000000001\n",
      "0.6914983\n",
      "0.6914993\n",
      "0.6914983\n",
      "0.6914994\n",
      "0.6914983\n",
      "0.6914993\n",
      "0.6914990000000001\n",
      "0.6914994\n",
      "0.6914987\n",
      "0.6914992\n",
      "0.6914992\n",
      "0.6914989\n",
      "0.6914989\n",
      "0.6914987\n",
      "0.6914993\n",
      "0.6914993\n",
      "[0.6914971999999999, 0.6914974, 0.6914976, 0.6914980000000001, 0.6914983, 0.6914975, 0.6914983, 0.6914979, 0.6914976, 0.6914987, 0.6914993, 0.6914990999999999, 0.6915, 0.6914996, 0.6915006, 0.6915004, 0.6915005, 0.6914996, 0.6915003000000001, 0.6915, 0.6915006, 0.6915011, 0.6915015999999999, 0.6915017, 0.6915009999999999, 0.6915018, 0.6915018, 0.6915024, 0.6915021, 0.6915021, 0.6915018, 0.6915028000000001, 0.6915031, 0.6915031, 0.6915031, 0.6915028000000001, 0.6915032, 0.6915032, 0.6915033, 0.6915028000000001, 0.6915028000000001, 0.6915036, 0.6915032, 0.6915034999999999, 0.6915033, 0.6915036, 0.691504, 0.6915038, 0.6915033, 0.6915038, 0.6915036, 0.691504, 0.6915032, 0.6915031, 0.6915028999999999, 0.6915032, 0.6915031, 0.6915033, 0.6915031, 0.6915028999999999, 0.6915021, 0.6915025, 0.6915023, 0.6915018, 0.6915011, 0.6915018999999999, 0.6915005, 0.6915008, 0.6915008, 0.6914998, 0.6915002, 0.6915006, 0.6915003000000001, 0.6914996999999999, 0.6914994, 0.6915, 0.6914994, 0.6914988, 0.6914996, 0.6914989, 0.6914988, 0.6914996, 0.6914990000000001, 0.6914990000000001, 0.6914983, 0.6914993, 0.6914983, 0.6914994, 0.6914983, 0.6914993, 0.6914990000000001, 0.6914994, 0.6914987, 0.6914992, 0.6914992, 0.6914989, 0.6914989, 0.6914987, 0.6914993, 0.6914993]\n"
     ]
    },
    {
     "data": {
      "text/plain": [
       "18"
      ]
     },
     "execution_count": 9,
     "metadata": {},
     "output_type": "execute_result"
    }
   ],
   "source": [
    "smu.write(f'SOUR:FUNC VOLT')\n",
    "#set_voltage(self, value(значения напряжения), compliance(ограничение по току)):\n",
    "#set_voltage(1, 0.1)\n",
    "smu.write(\"OUTPut:STATe ON\")\n",
    "time.sleep(2.5)\n",
    "I_values = []\n",
    "for i in range(100):\n",
    "        #measure_current(u_value, u_compliance, sleep_time_between_me):\n",
    "        I = measure_current(1,0.1,0.05)\n",
    "        I_values.append(I)\n",
    "        print(I)\n",
    "print(I_values)  \n",
    "smu.write(\"OUTPut:STATe OFF\")"
   ]
  },
  {
   "cell_type": "code",
   "execution_count": 10,
   "metadata": {},
   "outputs": [
    {
     "name": "stdout",
     "output_type": "stream",
     "text": [
      "0.6914898\n",
      "0.6914910000000001\n",
      "0.6914909\n",
      "0.6914905\n",
      "0.6914916\n",
      "0.6914916\n",
      "0.6914916\n",
      "0.6914922\n",
      "0.6914914000000001\n",
      "0.6914917\n",
      "0.6914920999999999\n",
      "0.6914924\n",
      "0.6914922\n",
      "0.6914925\n",
      "0.6914932\n",
      "0.6914929999999999\n",
      "0.6914928\n",
      "0.6914929999999999\n",
      "0.6914936\n",
      "0.6914936\n",
      "0.6914939\n",
      "0.6914932\n",
      "0.6914939999999999\n",
      "0.6914939999999999\n",
      "0.6914937\n",
      "0.6914941\n",
      "0.6914944\n",
      "0.6914947\n",
      "0.6914941\n",
      "0.6914952000000001\n",
      "0.6914943\n",
      "0.6914954\n",
      "0.691496\n",
      "0.6914962\n",
      "0.6914962\n",
      "0.6914962\n",
      "0.6914961000000001\n",
      "0.6914966\n",
      "0.6914964\n",
      "0.6914964\n",
      "0.6914964\n",
      "0.6914973\n",
      "0.6914965\n",
      "0.6914977999999999\n",
      "0.691497\n",
      "0.6914971999999999\n",
      "0.6914977\n",
      "0.6914975\n",
      "0.6914974\n",
      "0.6914975\n",
      "0.6914976\n",
      "0.6914975\n",
      "0.6914977999999999\n",
      "0.691497\n",
      "0.6914977999999999\n",
      "0.6914983\n",
      "0.6914992\n",
      "0.6914988\n",
      "0.6914986\n",
      "0.6914990999999999\n",
      "0.6914992\n",
      "0.6914992\n",
      "0.6914977999999999\n",
      "0.6914990999999999\n",
      "0.6914989\n",
      "0.6914987\n",
      "0.6914994\n",
      "0.6914996\n",
      "0.6914996\n",
      "0.6914989\n",
      "0.6914996999999999\n",
      "0.6914992\n",
      "0.6914996999999999\n",
      "0.6914993\n",
      "0.6914996999999999\n",
      "[0.6914898, 0.6914910000000001, 0.6914909, 0.6914905, 0.6914916, 0.6914916, 0.6914916, 0.6914922, 0.6914914000000001, 0.6914917, 0.6914920999999999, 0.6914924, 0.6914922, 0.6914925, 0.6914932, 0.6914929999999999, 0.6914928, 0.6914929999999999, 0.6914936, 0.6914936, 0.6914939, 0.6914932, 0.6914939999999999, 0.6914939999999999, 0.6914937, 0.6914941, 0.6914944, 0.6914947, 0.6914941, 0.6914952000000001, 0.6914943, 0.6914954, 0.691496, 0.6914962, 0.6914962, 0.6914962, 0.6914961000000001, 0.6914966, 0.6914964, 0.6914964, 0.6914964, 0.6914973, 0.6914965, 0.6914977999999999, 0.691497, 0.6914971999999999, 0.6914977, 0.6914975, 0.6914974, 0.6914975, 0.6914976, 0.6914975, 0.6914977999999999, 0.691497, 0.6914977999999999, 0.6914983, 0.6914992, 0.6914988, 0.6914986, 0.6914990999999999, 0.6914992, 0.6914992, 0.6914977999999999, 0.6914990999999999, 0.6914989, 0.6914987, 0.6914994, 0.6914996, 0.6914996, 0.6914989, 0.6914996999999999, 0.6914992, 0.6914996999999999, 0.6914993, 0.6914996999999999]\n"
     ]
    },
    {
     "data": {
      "text/plain": [
       "18"
      ]
     },
     "execution_count": 10,
     "metadata": {},
     "output_type": "execute_result"
    }
   ],
   "source": [
    "smu.write(f'SOUR:FUNC VOLT')\n",
    "#set_voltage(self, value(значения напряжения), compliance(ограничение по току)):\n",
    "#set_voltage(1, 0.1)\n",
    "smu.write(\"OUTPut:STATe ON\")\n",
    "time.sleep(2.5)\n",
    "I_values = []\n",
    "duration = 10  # например, 10 секунд\n",
    "start_time = time.time()  # Запоминаем время начала\n",
    "while time.time() - start_time < duration:\n",
    "    # Измеряем ток с заданными параметрами\n",
    "    I = measure_current(1, 0.1, 0.05)\n",
    "    I_values.append(I)\n",
    "    print(I)\n",
    "print(I_values)  \n",
    "smu.write(\"OUTPut:STATe OFF\")"
   ]
  },
  {
   "cell_type": "code",
   "execution_count": 11,
   "metadata": {},
   "outputs": [
    {
     "name": "stdout",
     "output_type": "stream",
     "text": [
      "0.6914939\n",
      "0.6914939\n",
      "0.6914944\n",
      "0.6914943\n",
      "0.6914936\n",
      "0.6914939\n",
      "0.6914935\n",
      "0.6914937\n",
      "0.6914941\n",
      "0.6914939\n",
      "0.6914944\n",
      "0.691496\n",
      "0.6914958\n",
      "0.6914965\n",
      "0.6914966\n",
      "0.6914958\n",
      "0.6914962\n",
      "0.6914965\n",
      "0.691496\n",
      "0.6914969\n",
      "[0.6914939, 0.6914939, 0.6914944, 0.6914943, 0.6914936, 0.6914939, 0.6914935, 0.6914937, 0.6914941, 0.6914939, 0.6914944, 0.691496, 0.6914958, 0.6914965, 0.6914966, 0.6914958, 0.6914962, 0.6914965, 0.691496, 0.6914969]\n"
     ]
    },
    {
     "data": {
      "text/plain": [
       "18"
      ]
     },
     "execution_count": 11,
     "metadata": {},
     "output_type": "execute_result"
    }
   ],
   "source": [
    "import time\n",
    "\n",
    "smu.write('SOUR:FUNC VOLT')\n",
    "smu.write(\"OUTPut:STATe ON\")\n",
    "time.sleep(2.5)\n",
    "I_values = []\n",
    "\n",
    "duration = 10  # Общее время измерений в секундах\n",
    "interval = 0.5  # Интервал между измерениями в секундах\n",
    "start_time = time.time()\n",
    "\n",
    "while time.time() - start_time < duration:\n",
    "    measurement_start = time.time()\n",
    "    I = measure_current(1, 0.1, 0.05)\n",
    "    I_values.append(I)\n",
    "    print(I)\n",
    "    # Ждем оставшееся время до следующего измерения\n",
    "    time_to_sleep = interval - (time.time() - measurement_start)\n",
    "    if time_to_sleep > 0:\n",
    "        time.sleep(time_to_sleep)\n",
    "\n",
    "print(I_values)\n",
    "smu.write(\"OUTPut:STATe OFF\")\n"
   ]
  },
  {
   "cell_type": "code",
   "execution_count": 177,
   "metadata": {},
   "outputs": [
    {
     "name": "stdout",
     "output_type": "stream",
     "text": [
      "Time: 0.00s, Current: 1.4457929999999999\n",
      "Time: 0.50s, Current: 1.445806\n",
      "Time: 1.00s, Current: 1.445832\n",
      "Time: 1.50s, Current: 1.445863\n",
      "Time: 2.00s, Current: 1.445889\n",
      "Time: 2.51s, Current: 1.445897\n",
      "Time: 3.01s, Current: 1.445891\n",
      "Time: 3.51s, Current: 1.445869\n",
      "Time: 4.01s, Current: 1.445831\n",
      "Time: 4.51s, Current: 1.445778\n",
      "Time: 5.01s, Current: 1.445717\n",
      "Time: 5.51s, Current: 1.445643\n",
      "Time: 6.01s, Current: 1.4455609999999999\n",
      "Time: 6.51s, Current: 1.445465\n",
      "Time: 7.01s, Current: 1.445372\n",
      "Time: 7.52s, Current: 1.445267\n",
      "Time: 8.02s, Current: 1.445151\n",
      "Time: 8.52s, Current: 1.445033\n",
      "Time: 9.02s, Current: 1.4449079999999999\n",
      "Time: 9.52s, Current: 1.444781\n",
      "Time: 10.02s, Current: 1.4446420000000002\n",
      "Time: 10.52s, Current: 1.4445020000000002\n",
      "Time: 11.02s, Current: 1.444352\n",
      "Time: 11.52s, Current: 1.4442030000000001\n",
      "Time: 12.02s, Current: 1.444045\n",
      "Time: 12.53s, Current: 1.4438840000000002\n",
      "Time: 13.03s, Current: 1.443721\n",
      "Time: 13.53s, Current: 1.4435520000000002\n",
      "Time: 14.03s, Current: 1.443379\n",
      "Time: 14.53s, Current: 1.443206\n",
      "Time: 15.03s, Current: 1.4430230000000002\n",
      "Time: 15.53s, Current: 1.44284\n",
      "Time: 16.03s, Current: 1.442636\n",
      "Time: 16.53s, Current: 1.442425\n",
      "Time: 17.03s, Current: 1.442198\n",
      "Time: 17.54s, Current: 1.441969\n",
      "Time: 18.04s, Current: 1.44173\n",
      "Time: 18.54s, Current: 1.441482\n",
      "Time: 19.04s, Current: 1.441229\n",
      "Time: 19.54s, Current: 1.4409640000000001\n",
      "Time: 20.04s, Current: 1.440695\n",
      "Time: 20.54s, Current: 1.4404190000000001\n",
      "Time: 21.04s, Current: 1.440137\n",
      "Time: 21.54s, Current: 1.439851\n",
      "Time: 22.04s, Current: 1.4395580000000001\n",
      "Time: 22.55s, Current: 1.439259\n",
      "Time: 23.05s, Current: 1.438953\n",
      "Time: 23.55s, Current: 1.438644\n",
      "Time: 24.05s, Current: 1.438331\n",
      "Time: 24.55s, Current: 1.438012\n",
      "Time: 25.05s, Current: 1.4377019999999998\n",
      "Time: 25.55s, Current: 1.43739\n",
      "Time: 26.05s, Current: 1.437084\n",
      "Time: 26.56s, Current: 1.436769\n",
      "Time: 27.06s, Current: 1.436452\n",
      "Time: 27.56s, Current: 1.436128\n",
      "Time: 28.06s, Current: 1.4358039999999999\n",
      "Time: 28.56s, Current: 1.4354689999999999\n",
      "Time: 29.06s, Current: 1.435133\n",
      "Time: 29.56s, Current: 1.4347889999999999\n",
      "Time: 30.06s, Current: 1.434445\n",
      "Time: 30.56s, Current: 1.434088\n",
      "Time: 31.06s, Current: 1.433732\n",
      "Time: 31.56s, Current: 1.43337\n",
      "Time: 32.06s, Current: 1.433005\n",
      "Time: 32.57s, Current: 1.432636\n",
      "Time: 33.07s, Current: 1.432268\n",
      "Time: 33.57s, Current: 1.431909\n",
      "Time: 34.07s, Current: 1.431543\n",
      "Time: 34.57s, Current: 1.43119\n",
      "Time: 35.07s, Current: 1.430854\n",
      "Time: 35.57s, Current: 1.430532\n",
      "Time: 36.07s, Current: 1.430204\n",
      "Time: 36.57s, Current: 1.429883\n",
      "Time: 37.08s, Current: 1.429524\n",
      "Time: 37.58s, Current: 1.429184\n",
      "Time: 38.08s, Current: 1.428817\n",
      "Time: 38.58s, Current: 1.428437\n",
      "Time: 39.08s, Current: 1.428007\n",
      "Time: 39.58s, Current: 1.4275390000000001\n",
      "Time: 40.08s, Current: 1.42705\n",
      "Time: 40.58s, Current: 1.426546\n",
      "Time: 41.08s, Current: 1.426025\n",
      "Time: 41.58s, Current: 1.425493\n",
      "Time: 42.08s, Current: 1.424928\n",
      "Time: 42.59s, Current: 1.424314\n",
      "Time: 43.09s, Current: 1.423689\n",
      "Time: 43.59s, Current: 1.4230340000000001\n",
      "Time: 44.09s, Current: 1.422343\n",
      "Time: 44.59s, Current: 1.421616\n",
      "Time: 45.09s, Current: 1.420863\n",
      "Time: 45.59s, Current: 1.420091\n",
      "Time: 46.09s, Current: 1.4192950000000002\n",
      "Time: 46.59s, Current: 1.418483\n",
      "Time: 47.09s, Current: 1.417654\n",
      "Time: 47.60s, Current: 1.416807\n",
      "Time: 48.10s, Current: 1.4159419999999998\n",
      "Time: 48.60s, Current: 1.4150580000000001\n",
      "Time: 49.10s, Current: 1.414151\n",
      "Time: 49.60s, Current: 1.413229\n",
      "Time: 50.10s, Current: 1.412292\n",
      "Time: 50.60s, Current: 1.411329\n",
      "Time: 51.11s, Current: 1.4103640000000002\n",
      "Time: 51.61s, Current: 1.409381\n",
      "Time: 52.11s, Current: 1.408395\n",
      "Time: 52.61s, Current: 1.407407\n",
      "Time: 53.11s, Current: 1.406439\n",
      "Time: 53.61s, Current: 1.4055140000000002\n",
      "Time: 54.11s, Current: 1.40468\n",
      "Time: 54.61s, Current: 1.404064\n",
      "Time: 55.11s, Current: 1.403785\n",
      "Time: 55.62s, Current: 1.403689\n",
      "Time: 56.12s, Current: 1.403643\n",
      "Time: 56.62s, Current: 1.4036160000000002\n",
      "Time: 57.12s, Current: 1.4035980000000001\n",
      "Time: 57.62s, Current: 1.4035790000000001\n",
      "Time: 58.12s, Current: 1.403561\n",
      "Time: 58.62s, Current: 1.403549\n",
      "Time: 59.12s, Current: 1.403535\n",
      "Time: 59.62s, Current: 1.4035250000000001\n",
      "Time: 60.13s, Current: 1.403514\n",
      "Time: 60.63s, Current: 1.4034989999999998\n",
      "Time: 61.13s, Current: 1.403491\n",
      "Time: 61.63s, Current: 1.4034799999999998\n",
      "Time: 62.13s, Current: 1.40347\n",
      "Time: 62.63s, Current: 1.4034609999999998\n",
      "Time: 63.13s, Current: 1.4034550000000001\n",
      "Time: 63.63s, Current: 1.4034449999999998\n",
      "Time: 64.14s, Current: 1.4034360000000001\n",
      "Time: 64.64s, Current: 1.4034309999999999\n",
      "Time: 65.14s, Current: 1.4034220000000002\n",
      "Time: 65.64s, Current: 1.4034119999999999\n",
      "Time: 66.14s, Current: 1.403409\n",
      "Time: 66.64s, Current: 1.403402\n",
      "Time: 67.14s, Current: 1.403399\n",
      "Time: 67.64s, Current: 1.403388\n",
      "Time: 68.14s, Current: 1.403386\n",
      "Time: 68.64s, Current: 1.403376\n",
      "Time: 69.14s, Current: 1.403373\n",
      "Time: 69.64s, Current: 1.4033660000000001\n",
      "Time: 70.14s, Current: 1.403362\n",
      "Time: 70.65s, Current: 1.4033579999999999\n",
      "Time: 71.15s, Current: 1.4033540000000002\n",
      "Time: 71.65s, Current: 1.403348\n",
      "Time: 72.15s, Current: 1.403343\n",
      "Time: 72.65s, Current: 1.403338\n",
      "Time: 73.15s, Current: 1.403335\n",
      "Time: 73.65s, Current: 1.40333\n",
      "Time: 74.15s, Current: 1.403326\n",
      "Time: 74.65s, Current: 1.4033229999999999\n",
      "Time: 75.15s, Current: 1.4033170000000001\n",
      "Time: 75.65s, Current: 1.403314\n",
      "Time: 76.16s, Current: 1.403313\n",
      "Time: 76.66s, Current: 1.4033069999999999\n",
      "Time: 77.16s, Current: 1.4033069999999999\n",
      "Time: 77.66s, Current: 1.403306\n",
      "Time: 78.16s, Current: 1.403297\n",
      "Time: 78.66s, Current: 1.403294\n",
      "Time: 79.16s, Current: 1.40329\n",
      "Time: 79.66s, Current: 1.4032879999999999\n",
      "Time: 80.16s, Current: 1.403284\n",
      "Time: 80.66s, Current: 1.403283\n",
      "Time: 81.17s, Current: 1.403279\n",
      "Time: 81.67s, Current: 1.403277\n",
      "Time: 82.17s, Current: 1.403273\n",
      "Time: 82.67s, Current: 1.4032719999999999\n",
      "Time: 83.17s, Current: 1.4032660000000001\n",
      "Time: 83.67s, Current: 1.403268\n",
      "Time: 84.17s, Current: 1.403265\n",
      "Time: 84.67s, Current: 1.403264\n",
      "Time: 85.17s, Current: 1.403261\n",
      "Time: 85.68s, Current: 1.403257\n",
      "Time: 86.18s, Current: 1.4032529999999999\n",
      "Time: 86.68s, Current: 1.403252\n",
      "Time: 87.18s, Current: 1.4032499999999999\n",
      "Time: 87.68s, Current: 1.403252\n",
      "Time: 88.18s, Current: 1.403249\n",
      "Time: 88.68s, Current: 1.403243\n",
      "Time: 89.18s, Current: 1.40324\n",
      "Time: 89.68s, Current: 1.403239\n",
      "Time: 90.18s, Current: 1.40324\n",
      "Time: 90.69s, Current: 1.403235\n",
      "Time: 91.19s, Current: 1.403233\n",
      "Time: 91.69s, Current: 1.4032339999999999\n",
      "Time: 92.19s, Current: 1.4032300000000002\n",
      "Time: 92.69s, Current: 1.4032300000000002\n",
      "Time: 93.19s, Current: 1.403224\n",
      "Time: 93.69s, Current: 1.403225\n",
      "Time: 94.19s, Current: 1.403224\n",
      "Time: 94.69s, Current: 1.40322\n",
      "Time: 95.20s, Current: 1.403221\n",
      "Time: 95.70s, Current: 1.403216\n",
      "Time: 96.20s, Current: 1.403214\n",
      "Time: 96.70s, Current: 1.4032120000000001\n",
      "Time: 97.20s, Current: 1.403214\n",
      "Time: 97.70s, Current: 1.403211\n",
      "Time: 98.20s, Current: 1.403211\n",
      "Time: 98.70s, Current: 1.403206\n",
      "Time: 99.20s, Current: 1.403206\n",
      "Time: 99.70s, Current: 1.403206\n",
      "Time: 100.20s, Current: 1.403205\n",
      "Time: 100.71s, Current: 1.403203\n",
      "Time: 101.21s, Current: 1.403201\n",
      "Time: 101.71s, Current: 1.403201\n",
      "Time: 102.21s, Current: 1.4031989999999999\n",
      "Time: 102.71s, Current: 1.403198\n",
      "Time: 103.21s, Current: 1.403194\n",
      "Time: 103.71s, Current: 1.4031930000000001\n",
      "Time: 104.21s, Current: 1.403191\n",
      "Time: 104.71s, Current: 1.4031930000000001\n",
      "Time: 105.21s, Current: 1.403194\n",
      "Time: 105.71s, Current: 1.403188\n",
      "Time: 106.22s, Current: 1.403185\n",
      "Time: 106.72s, Current: 1.403186\n",
      "Time: 107.22s, Current: 1.403186\n",
      "Time: 107.72s, Current: 1.403184\n",
      "Time: 108.22s, Current: 1.403184\n",
      "Time: 108.72s, Current: 1.4031829999999998\n",
      "Time: 109.22s, Current: 1.403184\n",
      "Time: 109.72s, Current: 1.403178\n",
      "Time: 110.22s, Current: 1.4031799999999999\n",
      "Time: 110.72s, Current: 1.403179\n",
      "Time: 111.23s, Current: 1.403179\n",
      "Time: 111.73s, Current: 1.403179\n",
      "Time: 112.23s, Current: 1.403178\n",
      "Time: 112.73s, Current: 1.403175\n",
      "Time: 113.23s, Current: 1.403173\n",
      "Time: 113.73s, Current: 1.4031740000000001\n",
      "Time: 114.23s, Current: 1.403173\n",
      "Time: 114.73s, Current: 1.403172\n",
      "Time: 115.24s, Current: 1.40317\n",
      "Time: 115.74s, Current: 1.403171\n",
      "Time: 116.24s, Current: 1.403168\n",
      "Time: 116.74s, Current: 1.403168\n",
      "Time: 117.24s, Current: 1.4031639999999999\n",
      "Time: 117.74s, Current: 1.403163\n",
      "Time: 118.24s, Current: 1.4031639999999999\n",
      "Time: 118.74s, Current: 1.4031639999999999\n",
      "Time: 119.25s, Current: 1.403165\n",
      "Time: 119.75s, Current: 1.4031639999999999\n",
      "Time: 120.25s, Current: 1.403159\n",
      "Time: 120.75s, Current: 1.4031619999999998\n",
      "Time: 121.25s, Current: 1.4031600000000002\n",
      "Time: 121.75s, Current: 1.4031600000000002\n",
      "Time: 122.25s, Current: 1.403163\n",
      "Time: 122.75s, Current: 1.403156\n",
      "Time: 123.25s, Current: 1.403159\n",
      "Time: 123.75s, Current: 1.403156\n",
      "Time: 124.25s, Current: 1.4031580000000001\n",
      "Time: 124.75s, Current: 1.403155\n",
      "Time: 125.25s, Current: 1.403157\n",
      "Time: 125.76s, Current: 1.403156\n",
      "Time: 126.26s, Current: 1.403153\n",
      "Time: 126.76s, Current: 1.403154\n",
      "Time: 127.26s, Current: 1.403154\n",
      "Time: 127.76s, Current: 1.403152\n",
      "Time: 128.26s, Current: 1.403151\n",
      "Time: 128.76s, Current: 1.403149\n",
      "Time: 129.26s, Current: 1.403149\n",
      "Time: 129.76s, Current: 1.403147\n",
      "Time: 130.27s, Current: 1.40315\n",
      "Time: 130.77s, Current: 1.403146\n",
      "Time: 131.27s, Current: 1.403146\n",
      "Time: 131.77s, Current: 1.403149\n",
      "Time: 132.27s, Current: 1.403147\n",
      "Time: 132.77s, Current: 1.4031449999999999\n",
      "Time: 133.27s, Current: 1.403144\n",
      "Time: 133.77s, Current: 1.4031420000000001\n",
      "Time: 134.27s, Current: 1.4031420000000001\n",
      "Time: 134.78s, Current: 1.403143\n",
      "Time: 135.28s, Current: 1.4031420000000001\n",
      "Time: 135.78s, Current: 1.403143\n",
      "Time: 136.28s, Current: 1.403143\n",
      "Time: 136.78s, Current: 1.40314\n",
      "Time: 137.28s, Current: 1.403138\n",
      "Time: 137.78s, Current: 1.40314\n",
      "Time: 138.28s, Current: 1.40314\n",
      "Time: 138.79s, Current: 1.403141\n",
      "Time: 139.29s, Current: 1.40314\n",
      "Time: 139.79s, Current: 1.403137\n",
      "Time: 140.29s, Current: 1.403137\n",
      "Time: 140.79s, Current: 1.403135\n",
      "Time: 141.29s, Current: 1.403137\n",
      "Time: 141.79s, Current: 1.4031339999999999\n",
      "Time: 142.29s, Current: 1.403137\n",
      "Time: 142.79s, Current: 1.4031339999999999\n",
      "Time: 143.29s, Current: 1.403133\n",
      "Time: 143.80s, Current: 1.403132\n",
      "Time: 144.30s, Current: 1.4031339999999999\n",
      "Time: 144.80s, Current: 1.403131\n",
      "Time: 145.30s, Current: 1.403131\n",
      "Time: 145.80s, Current: 1.403132\n",
      "Time: 146.30s, Current: 1.4031289999999998\n",
      "Time: 146.80s, Current: 1.4031289999999998\n",
      "Time: 147.30s, Current: 1.4031289999999998\n",
      "Time: 147.80s, Current: 1.403127\n",
      "Time: 148.30s, Current: 1.4031259999999999\n",
      "Time: 148.81s, Current: 1.403127\n",
      "Time: 149.31s, Current: 1.403127\n",
      "Time: 149.81s, Current: 1.403128\n",
      "Time: 150.31s, Current: 1.403128\n",
      "Time: 150.81s, Current: 1.4031259999999999\n",
      "Time: 151.31s, Current: 1.4031250000000002\n",
      "Time: 151.81s, Current: 1.4031250000000002\n",
      "Time: 152.31s, Current: 1.4031230000000001\n",
      "Time: 152.81s, Current: 1.4031250000000002\n",
      "Time: 153.31s, Current: 1.4031230000000001\n",
      "Time: 153.82s, Current: 1.4031230000000001\n",
      "Time: 154.32s, Current: 1.403121\n",
      "Time: 154.82s, Current: 1.4031200000000001\n",
      "Time: 155.32s, Current: 1.403119\n",
      "Time: 155.82s, Current: 1.403119\n",
      "Time: 156.32s, Current: 1.4031200000000001\n",
      "Time: 156.82s, Current: 1.403118\n",
      "Time: 157.32s, Current: 1.403118\n",
      "Time: 157.82s, Current: 1.403121\n",
      "Time: 158.32s, Current: 1.403118\n",
      "Time: 158.83s, Current: 1.403121\n",
      "Time: 159.33s, Current: 1.403119\n",
      "Time: 159.83s, Current: 1.403115\n",
      "Time: 160.33s, Current: 1.403117\n",
      "Time: 160.83s, Current: 1.403116\n",
      "Time: 161.33s, Current: 1.403115\n",
      "Time: 161.83s, Current: 1.403113\n",
      "Time: 162.33s, Current: 1.403115\n",
      "Time: 162.83s, Current: 1.403116\n",
      "Time: 163.33s, Current: 1.403113\n",
      "Time: 163.84s, Current: 1.403113\n",
      "Time: 164.34s, Current: 1.403112\n",
      "Time: 164.84s, Current: 1.403108\n",
      "Time: 165.34s, Current: 1.403114\n",
      "Time: 165.84s, Current: 1.4031099999999999\n",
      "Time: 166.34s, Current: 1.403111\n",
      "Time: 166.84s, Current: 1.403111\n",
      "Time: 167.34s, Current: 1.403111\n",
      "Time: 167.84s, Current: 1.403109\n",
      "Time: 168.34s, Current: 1.403108\n",
      "Time: 168.84s, Current: 1.403108\n",
      "Time: 169.35s, Current: 1.403109\n",
      "Time: 169.85s, Current: 1.403107\n",
      "Time: 170.35s, Current: 1.403108\n",
      "Time: 170.85s, Current: 1.403109\n",
      "Time: 171.35s, Current: 1.4031060000000002\n",
      "Time: 171.85s, Current: 1.403107\n",
      "Time: 172.35s, Current: 1.4031060000000002\n",
      "Time: 172.85s, Current: 1.4031060000000002\n",
      "Time: 173.35s, Current: 1.403108\n",
      "Time: 173.85s, Current: 1.403105\n",
      "Time: 174.35s, Current: 1.4031040000000001\n",
      "Time: 174.86s, Current: 1.403105\n",
      "Time: 175.36s, Current: 1.4031040000000001\n",
      "Time: 175.86s, Current: 1.4031060000000002\n",
      "Time: 176.36s, Current: 1.403101\n",
      "Time: 176.86s, Current: 1.4031040000000001\n",
      "Time: 177.36s, Current: 1.403101\n",
      "Time: 177.86s, Current: 1.403103\n",
      "Time: 178.36s, Current: 1.4031\n",
      "Time: 178.86s, Current: 1.4031\n",
      "Time: 179.37s, Current: 1.403102\n",
      "Time: 179.87s, Current: 1.403102\n",
      "Time: 180.37s, Current: 1.4031\n",
      "Time: 180.87s, Current: 1.403098\n",
      "Time: 181.37s, Current: 1.4031\n",
      "Time: 181.87s, Current: 1.403099\n",
      "Time: 182.37s, Current: 1.4031\n",
      "Time: 182.87s, Current: 1.403095\n",
      "Time: 183.37s, Current: 1.403097\n",
      "Time: 183.87s, Current: 1.403098\n",
      "Time: 184.37s, Current: 1.403096\n",
      "Time: 184.88s, Current: 1.403097\n",
      "Time: 185.38s, Current: 1.403096\n",
      "Time: 185.88s, Current: 1.4030939999999998\n",
      "Time: 186.38s, Current: 1.4030939999999998\n",
      "Time: 186.88s, Current: 1.403093\n",
      "Time: 187.38s, Current: 1.403092\n",
      "Time: 187.88s, Current: 1.403098\n",
      "Time: 188.38s, Current: 1.403096\n",
      "Time: 188.88s, Current: 1.403093\n",
      "Time: 189.38s, Current: 1.403092\n",
      "Time: 189.89s, Current: 1.403095\n",
      "Time: 190.39s, Current: 1.403093\n",
      "Time: 190.89s, Current: 1.403096\n",
      "Time: 191.39s, Current: 1.403093\n",
      "Time: 191.89s, Current: 1.403095\n",
      "Time: 192.39s, Current: 1.403092\n",
      "Time: 192.89s, Current: 1.4030900000000002\n",
      "Time: 193.39s, Current: 1.403092\n",
      "Time: 193.89s, Current: 1.403089\n",
      "Time: 194.39s, Current: 1.4030909999999999\n",
      "Time: 194.90s, Current: 1.4030900000000002\n",
      "Time: 195.40s, Current: 1.4030900000000002\n",
      "Time: 195.90s, Current: 1.403087\n",
      "Time: 196.40s, Current: 1.403089\n",
      "Time: 196.90s, Current: 1.403089\n",
      "Time: 197.40s, Current: 1.4030850000000001\n",
      "Time: 197.90s, Current: 1.403089\n",
      "Time: 198.40s, Current: 1.403089\n",
      "Time: 198.91s, Current: 1.4030880000000001\n",
      "Time: 199.41s, Current: 1.4030850000000001\n",
      "Time: 199.91s, Current: 1.403087\n"
     ]
    },
    {
     "data": {
      "image/png": "[encoded data removed]",
      "text/plain": [
       "<Figure size 800x600 with 1 Axes>"
      ]
     },
     "metadata": {},
     "output_type": "display_data"
    }
   ],
   "source": [
    "import time\n",
    "import matplotlib.pyplot as plt\n",
    "\n",
    "# Initialize the SMU (Source Measure Unit)\n",
    "smu.write('SOUR:FUNC VOLT')\n",
    "smu.write(\"OUTPut:STATe ON\")\n",
    "time.sleep(2.5)\n",
    "\n",
    "# Initialize arrays to store current and time values\n",
    "I_values = []\n",
    "t_values = []\n",
    "\n",
    "duration = 200  # Total measurement time in seconds\n",
    "interval = 0.5  # Interval between measurements in seconds\n",
    "start_time = time.time()\n",
    "\n",
    "while time.time() - start_time < duration:\n",
    "    measurement_start = time.time()\n",
    "    elapsed_time = measurement_start - start_time  # Time since start of measurements\n",
    "    \n",
    "    # Measure current (assuming measure_current is a defined function)\n",
    "    I = measure_current(1, 0.01, 0)\n",
    "    I_values.append(I)\n",
    "    t_values.append(elapsed_time)\n",
    "    \n",
    "    print(f\"Time: {elapsed_time:.2f}s, Current: {I}\")\n",
    "    \n",
    "    # Wait the remaining time until the next measurement\n",
    "    time_to_sleep = interval - (time.time() - measurement_start)\n",
    "    if time_to_sleep > 0:\n",
    "        time.sleep(time_to_sleep)\n",
    "\n",
    "smu.write(\"OUTPut:STATe OFF\")\n",
    "\n",
    "# Plot the current vs. time graph\n",
    "plt.figure(figsize=(8, 6))\n",
    "plt.plot(t_values, I_values, marker='o')\n",
    "plt.xlabel('Time (s)')\n",
    "plt.ylabel('Current (A)')\n",
    "plt.title('Current vs. Time')\n",
    "plt.grid(True)\n",
    "plt.show()"
   ]
  },
  {
   "cell_type": "code",
   "execution_count": 8,
   "metadata": {},
   "outputs": [
    {
     "name": "stdout",
     "output_type": "stream",
     "text": [
      "Time: 0.00s, Current: 4.578771\n",
      "Time: 0.81s, Current: 4.579004\n",
      "Time: 1.31s, Current: 4.578423\n",
      "Time: 1.81s, Current: 4.577549\n"
     ]
    },
    {
     "data": {
      "image/png": "[encoded data removed]",
      "text/plain": [
       "<Figure size 800x600 with 1 Axes>"
      ]
     },
     "metadata": {},
     "output_type": "display_data"
    }
   ],
   "source": [
    "import time\n",
    "import matplotlib.pyplot as plt\n",
    "\n",
    "# Initialize the SMU (Source Measure Unit)\n",
    "smu.write('SOUR:FUNC VOLT')\n",
    "smu.write(\"OUTPut:STATe ON\")\n",
    "\n",
    "# Initialize arrays to store current and time values\n",
    "I_values = []\n",
    "t_values = []\n",
    "\n",
    "duration = 200  # Total measurement time in seconds\n",
    "interval = 0.5  # Interval between measurements in seconds\n",
    "start_time = time.time()\n",
    "\n",
    "while time.time() - start_time < duration:\n",
    "    measurement_start = time.time()\n",
    "    elapsed_time = measurement_start - start_time  # Time since start of measurements\n",
    "    \n",
    "    # Measure current (assuming measure_current is a defined function)\n",
    "    I = measure_current(5, 0.01, 0)\n",
    "    I_values.append(I)\n",
    "    t_values.append(elapsed_time)\n",
    "    \n",
    "    print(f\"Time: {elapsed_time:.2f}s, Current: {I}\")\n",
    "    \n",
    "    # Wait the remaining time until the next measurement\n",
    "    time_to_sleep = interval - (time.time() - measurement_start)\n",
    "    if time_to_sleep > 0:\n",
    "        time.sleep(time_to_sleep)\n",
    "\n",
    "\n",
    "smu.write(\"OUTPut:STATe OFF\")\n",
    "\n",
    "# Plot the current vs. time graph\n",
    "plt.figure(figsize=(8, 6))\n",
    "df = pd.DataFrame({\n",
    "            't': t_values,\n",
    "            'I': I_values\n",
    "        })\n",
    "df.to_excel('200s_1V.xlsx', index=False)\n",
    "\n",
    "plt.plot(t_values, I_values, marker='o')\n",
    "plt.xlabel('Time (s)')\n",
    "plt.ylabel('Current (A)')\n",
    "plt.title('Current vs. Time')\n",
    "plt.grid(True)\n",
    "plt.show()"
   ]
  },
  {
   "cell_type": "code",
   "execution_count": 33,
   "metadata": {},
   "outputs": [
    {
     "ename": "VisaIOError",
     "evalue": "VI_ERROR_SYSTEM_ERROR (-1073807360): Unknown system error (miscellaneous error).",
     "output_type": "error",
     "traceback": [
      "\u001b[1;31m---------------------------------------------------------------------------\u001b[0m",
      "\u001b[1;31mVisaIOError\u001b[0m                               Traceback (most recent call last)",
      "Cell \u001b[1;32mIn[33], line 7\u001b[0m\n\u001b[0;32m      4\u001b[0m \u001b[38;5;28;01mfrom\u001b[39;00m \u001b[38;5;21;01mmatplotlib\u001b[39;00m\u001b[38;5;21;01m.\u001b[39;00m\u001b[38;5;21;01mticker\u001b[39;00m \u001b[38;5;28;01mimport\u001b[39;00m FuncFormatter\n\u001b[0;32m      6\u001b[0m \u001b[38;5;66;03m# Инициализация SMU (Источник-Измеритель)\u001b[39;00m\n\u001b[1;32m----> 7\u001b[0m \u001b[43msmu\u001b[49m\u001b[38;5;241;43m.\u001b[39;49m\u001b[43mwrite\u001b[49m\u001b[43m(\u001b[49m\u001b[38;5;124;43m'\u001b[39;49m\u001b[38;5;124;43mSOUR:FUNC VOLT\u001b[39;49m\u001b[38;5;124;43m'\u001b[39;49m\u001b[43m)\u001b[49m\n\u001b[0;32m      8\u001b[0m smu\u001b[38;5;241m.\u001b[39mwrite(\u001b[38;5;124m\"\u001b[39m\u001b[38;5;124mOUTPut:STATe ON\u001b[39m\u001b[38;5;124m\"\u001b[39m)\n\u001b[0;32m      9\u001b[0m time\u001b[38;5;241m.\u001b[39msleep(\u001b[38;5;241m2.5\u001b[39m)\n",
      "File \u001b[1;32mc:\\Users\\user\\AppData\\Local\\Programs\\Python\\Python312\\Lib\\site-packages\\pyvisa\\resources\\messagebased.py:196\u001b[0m, in \u001b[0;36mMessageBasedResource.write\u001b[1;34m(self, message, termination, encoding)\u001b[0m\n\u001b[0;32m    190\u001b[0m         warnings\u001b[38;5;241m.\u001b[39mwarn(\n\u001b[0;32m    191\u001b[0m             \u001b[38;5;124m\"\u001b[39m\u001b[38;5;124mwrite message already ends with \u001b[39m\u001b[38;5;124m\"\u001b[39m \u001b[38;5;124m\"\u001b[39m\u001b[38;5;124mtermination characters\u001b[39m\u001b[38;5;124m\"\u001b[39m,\n\u001b[0;32m    192\u001b[0m             stacklevel\u001b[38;5;241m=\u001b[39m\u001b[38;5;241m2\u001b[39m,\n\u001b[0;32m    193\u001b[0m         )\n\u001b[0;32m    194\u001b[0m     message \u001b[38;5;241m+\u001b[39m\u001b[38;5;241m=\u001b[39m term\n\u001b[1;32m--> 196\u001b[0m count \u001b[38;5;241m=\u001b[39m \u001b[38;5;28;43mself\u001b[39;49m\u001b[38;5;241;43m.\u001b[39;49m\u001b[43mwrite_raw\u001b[49m\u001b[43m(\u001b[49m\u001b[43mmessage\u001b[49m\u001b[38;5;241;43m.\u001b[39;49m\u001b[43mencode\u001b[49m\u001b[43m(\u001b[49m\u001b[43menco\u001b[49m\u001b[43m)\u001b[49m\u001b[43m)\u001b[49m\n\u001b[0;32m    198\u001b[0m \u001b[38;5;28;01mreturn\u001b[39;00m count\n",
      "File \u001b[1;32mc:\\Users\\user\\AppData\\Local\\Programs\\Python\\Python312\\Lib\\site-packages\\pyvisa\\resources\\messagebased.py:156\u001b[0m, in \u001b[0;36mMessageBasedResource.write_raw\u001b[1;34m(self, message)\u001b[0m\n\u001b[0;32m    142\u001b[0m \u001b[38;5;28;01mdef\u001b[39;00m \u001b[38;5;21mwrite_raw\u001b[39m(\u001b[38;5;28mself\u001b[39m, message: \u001b[38;5;28mbytes\u001b[39m) \u001b[38;5;241m-\u001b[39m\u001b[38;5;241m>\u001b[39m \u001b[38;5;28mint\u001b[39m:\n\u001b[0;32m    143\u001b[0m \u001b[38;5;250m    \u001b[39m\u001b[38;5;124;03m\"\"\"Write a byte message to the device.\u001b[39;00m\n\u001b[0;32m    144\u001b[0m \n\u001b[0;32m    145\u001b[0m \u001b[38;5;124;03m    Parameters\u001b[39;00m\n\u001b[1;32m   (...)\u001b[0m\n\u001b[0;32m    154\u001b[0m \n\u001b[0;32m    155\u001b[0m \u001b[38;5;124;03m    \"\"\"\u001b[39;00m\n\u001b[1;32m--> 156\u001b[0m     \u001b[38;5;28;01mreturn\u001b[39;00m \u001b[38;5;28;43mself\u001b[39;49m\u001b[38;5;241;43m.\u001b[39;49m\u001b[43mvisalib\u001b[49m\u001b[38;5;241;43m.\u001b[39;49m\u001b[43mwrite\u001b[49m\u001b[43m(\u001b[49m\u001b[38;5;28;43mself\u001b[39;49m\u001b[38;5;241;43m.\u001b[39;49m\u001b[43msession\u001b[49m\u001b[43m,\u001b[49m\u001b[43m \u001b[49m\u001b[43mmessage\u001b[49m\u001b[43m)\u001b[49m[\u001b[38;5;241m0\u001b[39m]\n",
      "File \u001b[1;32mc:\\Users\\user\\AppData\\Local\\Programs\\Python\\Python312\\Lib\\site-packages\\pyvisa\\ctwrapper\\functions.py:2795\u001b[0m, in \u001b[0;36mwrite\u001b[1;34m(library, session, data)\u001b[0m\n\u001b[0;32m   2793\u001b[0m return_count \u001b[38;5;241m=\u001b[39m ViUInt32()\n\u001b[0;32m   2794\u001b[0m \u001b[38;5;66;03m# [ViSession, ViBuf, ViUInt32, ViPUInt32]\u001b[39;00m\n\u001b[1;32m-> 2795\u001b[0m ret \u001b[38;5;241m=\u001b[39m \u001b[43mlibrary\u001b[49m\u001b[38;5;241;43m.\u001b[39;49m\u001b[43mviWrite\u001b[49m\u001b[43m(\u001b[49m\u001b[43msession\u001b[49m\u001b[43m,\u001b[49m\u001b[43m \u001b[49m\u001b[43mdata\u001b[49m\u001b[43m,\u001b[49m\u001b[43m \u001b[49m\u001b[38;5;28;43mlen\u001b[39;49m\u001b[43m(\u001b[49m\u001b[43mdata\u001b[49m\u001b[43m)\u001b[49m\u001b[43m,\u001b[49m\u001b[43m \u001b[49m\u001b[43mbyref\u001b[49m\u001b[43m(\u001b[49m\u001b[43mreturn_count\u001b[49m\u001b[43m)\u001b[49m\u001b[43m)\u001b[49m\n\u001b[0;32m   2796\u001b[0m \u001b[38;5;28;01mreturn\u001b[39;00m return_count\u001b[38;5;241m.\u001b[39mvalue, ret\n",
      "File \u001b[1;32mc:\\Users\\user\\AppData\\Local\\Programs\\Python\\Python312\\Lib\\site-packages\\pyvisa\\ctwrapper\\highlevel.py:226\u001b[0m, in \u001b[0;36mIVIVisaLibrary._return_handler\u001b[1;34m(self, ret_value, func, arguments)\u001b[0m\n\u001b[0;32m    223\u001b[0m         \u001b[38;5;66;03m# Set session back to a safe value\u001b[39;00m\n\u001b[0;32m    224\u001b[0m         session \u001b[38;5;241m=\u001b[39m \u001b[38;5;28;01mNone\u001b[39;00m\n\u001b[1;32m--> 226\u001b[0m \u001b[38;5;28;01mreturn\u001b[39;00m \u001b[38;5;28;43mself\u001b[39;49m\u001b[38;5;241;43m.\u001b[39;49m\u001b[43mhandle_return_value\u001b[49m\u001b[43m(\u001b[49m\u001b[43msession\u001b[49m\u001b[43m,\u001b[49m\u001b[43m \u001b[49m\u001b[43mret_value\u001b[49m\u001b[43m)\u001b[49m\n",
      "File \u001b[1;32mc:\\Users\\user\\AppData\\Local\\Programs\\Python\\Python312\\Lib\\site-packages\\pyvisa\\highlevel.py:251\u001b[0m, in \u001b[0;36mVisaLibraryBase.handle_return_value\u001b[1;34m(self, session, status_code)\u001b[0m\n\u001b[0;32m    248\u001b[0m     \u001b[38;5;28mself\u001b[39m\u001b[38;5;241m.\u001b[39m_last_status_in_session[session] \u001b[38;5;241m=\u001b[39m rv\n\u001b[0;32m    250\u001b[0m \u001b[38;5;28;01mif\u001b[39;00m rv \u001b[38;5;241m<\u001b[39m \u001b[38;5;241m0\u001b[39m:\n\u001b[1;32m--> 251\u001b[0m     \u001b[38;5;28;01mraise\u001b[39;00m errors\u001b[38;5;241m.\u001b[39mVisaIOError(rv)\n\u001b[0;32m    253\u001b[0m \u001b[38;5;28;01mif\u001b[39;00m rv \u001b[38;5;129;01min\u001b[39;00m \u001b[38;5;28mself\u001b[39m\u001b[38;5;241m.\u001b[39missue_warning_on:\n\u001b[0;32m    254\u001b[0m     \u001b[38;5;28;01mif\u001b[39;00m session \u001b[38;5;129;01mand\u001b[39;00m rv \u001b[38;5;129;01mnot\u001b[39;00m \u001b[38;5;129;01min\u001b[39;00m \u001b[38;5;28mself\u001b[39m\u001b[38;5;241m.\u001b[39m_ignore_warning_in_session[session]:\n",
      "\u001b[1;31mVisaIOError\u001b[0m: VI_ERROR_SYSTEM_ERROR (-1073807360): Unknown system error (miscellaneous error)."
     ]
    }
   ],
   "source": [
    "import time\n",
    "import matplotlib.pyplot as plt\n",
    "import pandas as pd  # убедитесь, что pandas импортирован\n",
    "from matplotlib.ticker import FuncFormatter\n",
    "\n",
    "# Инициализация SMU (Источник-Измеритель)\n",
    "smu.write('SOUR:FUNC VOLT')\n",
    "smu.write(\"OUTPut:STATe ON\")\n",
    "time.sleep(2.5)\n",
    "%matplotlib inline\n",
    "# Инициализация списков для хранения значений тока и времени\n",
    "I_values = []\n",
    "t_values = []\n",
    "\n",
    "interval = 0.1  # Интервал между измерениями в секундах\n",
    "\n",
    "# Первый цикл измерений\n",
    "duration1 = 5  # Длительность первого цикла измерений в секундах\n",
    "start_time = time.time()\n",
    "\n",
    "while time.time() - start_time < duration1:\n",
    "    measurement_start = time.time()\n",
    "    elapsed_time = measurement_start - start_time  # Время с начала измерений\n",
    "    \n",
    "    # Измерение тока с первыми параметрами\n",
    "    I = measure_current(4, 0.01, 0)\n",
    "    I_values.append(I)\n",
    "    t_values.append(elapsed_time)\n",
    "    \n",
    "    print(f\"Time: {elapsed_time:.2f}s, Current: {I}\")\n",
    "    \n",
    "    # Ожидание до следующего измерения\n",
    "    time_to_sleep = interval - (time.time() - measurement_start)\n",
    "    if time_to_sleep > 0:\n",
    "        time.sleep(time_to_sleep)\n",
    "\n",
    "# Второй цикл измерений с другими параметрами\n",
    "duration2 = 5  # Длительность второго цикла измерений в секундах\n",
    "second_start_time = time.time()\n",
    "\n",
    "while time.time() - second_start_time < duration2:\n",
    "    measurement_start = time.time()\n",
    "    elapsed_time = measurement_start - start_time  # Используем начальное время первого цикла для непрерывности времени\n",
    "    \n",
    "    # Измерение тока с вторыми параметрами (замените на нужные)\n",
    "    I = measure_current(3, 0.01, 1)\n",
    "    I_values.append(I)\n",
    "    t_values.append(elapsed_time)\n",
    "    \n",
    "    print(f\"Time: {elapsed_time:.2f}s, Current: {I}\")\n",
    "    \n",
    "    # Ожидание до следующего измерения\n",
    "    time_to_sleep = interval - (time.time() - measurement_start)\n",
    "    if time_to_sleep > 0:\n",
    "        time.sleep(time_to_sleep)\n",
    "\n",
    "# Отключение выхода SMU\n",
    "smu.write(\"OUTPut:STATe OFF\")\n",
    "\n",
    "# Построение графика ток-время\n",
    "plt.figure(figsize=(8, 6))\n",
    "df = pd.DataFrame({\n",
    "            't': t_values,\n",
    "            'I': I_values\n",
    "        })\n",
    "df.to_excel('200s_1V.xlsx', index=False)\n",
    "\n",
    "plt.plot(t_values, I_values, marker='o')\n",
    "plt.xlabel('Time (s)')\n",
    "plt.ylabel('Current (A)')\n",
    "plt.title('Current vs. Time')\n",
    "plt.grid(True)\n",
    "plt.show()\n"
   ]
  },
  {
   "cell_type": "code",
   "execution_count": 26,
   "metadata": {},
   "outputs": [
    {
     "name": "stdout",
     "output_type": "stream",
     "text": [
      "Time: 0.00s, Current: 0.01435917\n",
      "Time: 0.50s, Current: 0.014361929999999998\n",
      "Time: 1.00s, Current: 0.01436633\n",
      "Time: 1.50s, Current: 0.01436968\n",
      "Time: 2.00s, Current: 0.0143741\n",
      "Time: 2.50s, Current: 0.01437831\n",
      "Time: 3.01s, Current: 0.01438235\n",
      "Time: 3.51s, Current: 0.01438584\n",
      "Time: 4.01s, Current: 0.014389279999999999\n",
      "Time: 4.51s, Current: 0.014392480000000001\n",
      "Time: 5.01s, Current: 0.01439602\n",
      "Time: 5.51s, Current: 0.014399229999999999\n",
      "Time: 6.01s, Current: 0.01440248\n",
      "Time: 6.51s, Current: 0.01440537\n",
      "Time: 7.01s, Current: 0.014408259999999999\n",
      "Time: 7.52s, Current: 0.01441059\n",
      "Time: 8.02s, Current: 0.01441376\n",
      "Time: 8.52s, Current: 0.01441694\n",
      "Time: 9.02s, Current: 0.01441856\n",
      "Time: 9.52s, Current: 0.014420460000000001\n",
      "Time: 10.02s, Current: 0.014423140000000001\n",
      "Time: 10.52s, Current: 0.0144253\n",
      "Time: 11.02s, Current: 0.014427559999999999\n",
      "Time: 11.53s, Current: 0.014428960000000001\n",
      "Time: 12.03s, Current: 0.01443132\n",
      "Time: 12.53s, Current: 0.01443382\n",
      "Time: 13.03s, Current: 0.01443502\n",
      "Time: 13.53s, Current: 0.014437849999999999\n",
      "Time: 14.03s, Current: 0.01443892\n",
      "Time: 14.53s, Current: 0.014441069999999999\n",
      "Time: 15.03s, Current: 0.01444243\n",
      "Time: 15.53s, Current: 0.01444468\n",
      "Time: 16.04s, Current: 0.014445959999999999\n",
      "Time: 16.54s, Current: 0.01444672\n",
      "Time: 17.04s, Current: 0.01444893\n",
      "Time: 17.54s, Current: 0.01444996\n",
      "Time: 18.04s, Current: 0.014452030000000001\n",
      "Time: 18.54s, Current: 0.01445321\n",
      "Time: 19.04s, Current: 0.014454729999999999\n",
      "Time: 19.54s, Current: 0.01445574\n",
      "Time: 20.04s, Current: 0.014457330000000001\n",
      "Time: 20.54s, Current: 0.01445864\n",
      "Time: 21.05s, Current: 0.014459699999999999\n",
      "Time: 21.55s, Current: 0.01446068\n",
      "Time: 22.05s, Current: 0.01446266\n",
      "Time: 22.55s, Current: 0.01446309\n",
      "Time: 23.05s, Current: 0.014463950000000001\n",
      "Time: 23.55s, Current: 0.01446507\n",
      "Time: 24.05s, Current: 0.01446638\n",
      "Time: 24.55s, Current: 0.01446741\n",
      "Time: 25.06s, Current: 0.01446856\n",
      "Time: 25.56s, Current: 0.01446944\n",
      "Time: 26.06s, Current: 0.01447049\n",
      "Time: 26.56s, Current: 0.01447134\n",
      "Time: 27.06s, Current: 0.01447223\n",
      "Time: 27.56s, Current: 0.014473080000000001\n",
      "Time: 28.06s, Current: 0.014474389999999998\n",
      "Time: 28.56s, Current: 0.01447449\n",
      "Time: 29.06s, Current: 0.01447577\n",
      "Time: 29.57s, Current: 0.014476900000000001\n",
      "Time: 30.07s, Current: 0.01447741\n",
      "Time: 30.57s, Current: 0.01447815\n",
      "Time: 31.07s, Current: 0.014478240000000002\n",
      "Time: 31.57s, Current: 0.014479839999999999\n",
      "Time: 32.07s, Current: 0.01448111\n",
      "Time: 32.57s, Current: 0.01448075\n",
      "Time: 33.07s, Current: 0.01448234\n",
      "Time: 33.57s, Current: 0.01448237\n",
      "Time: 34.07s, Current: 0.014484319999999998\n",
      "Time: 34.57s, Current: 0.01448379\n",
      "Time: 35.08s, Current: 0.014484899999999998\n",
      "Time: 35.58s, Current: 0.01448514\n",
      "Time: 36.08s, Current: 0.014485600000000001\n",
      "Time: 36.58s, Current: 0.01448596\n",
      "Time: 37.08s, Current: 0.014487320000000001\n",
      "Time: 37.58s, Current: 0.01448781\n",
      "Time: 38.08s, Current: 0.014488530000000001\n",
      "Time: 38.59s, Current: 0.014488099999999999\n",
      "Time: 39.09s, Current: 0.014489529999999999\n",
      "Time: 39.59s, Current: 0.014489690000000001\n",
      "Time: 40.09s, Current: 0.01449043\n",
      "Time: 40.59s, Current: 0.0144905\n",
      "Time: 41.09s, Current: 0.014490979999999999\n",
      "Time: 41.59s, Current: 0.01449202\n",
      "Time: 42.09s, Current: 0.014492380000000001\n",
      "Time: 42.59s, Current: 0.01449276\n",
      "Time: 43.10s, Current: 0.01449334\n",
      "Time: 43.60s, Current: 0.01449372\n",
      "Time: 44.10s, Current: 0.0144938\n",
      "Time: 44.60s, Current: 0.01449494\n",
      "Time: 45.10s, Current: 0.01449485\n",
      "Time: 45.60s, Current: 0.01449533\n",
      "Time: 46.10s, Current: 0.01449531\n",
      "Time: 46.60s, Current: 0.01449576\n",
      "Time: 47.10s, Current: 0.01449646\n",
      "Time: 47.60s, Current: 0.014496400000000001\n",
      "Time: 48.10s, Current: 0.014497669999999999\n",
      "Time: 48.61s, Current: 0.014497540000000001\n",
      "Time: 49.11s, Current: 0.014498480000000001\n",
      "Time: 49.61s, Current: 0.01449949\n",
      "Time: 50.11s, Current: 0.014499330000000001\n",
      "Time: 50.61s, Current: 0.01450005\n",
      "Time: 51.11s, Current: 0.01450027\n",
      "Time: 51.61s, Current: 0.01450067\n",
      "Time: 52.11s, Current: 0.01450059\n",
      "Time: 52.61s, Current: 0.01450101\n",
      "Time: 53.11s, Current: 0.01450186\n",
      "Time: 53.62s, Current: 0.014501430000000001\n",
      "Time: 54.12s, Current: 0.01450186\n",
      "Time: 54.62s, Current: 0.014502069999999999\n",
      "Time: 55.12s, Current: 0.01450222\n",
      "Time: 55.62s, Current: 0.01450269\n",
      "Time: 56.12s, Current: 0.01450327\n",
      "Time: 56.62s, Current: 0.01450397\n",
      "Time: 57.12s, Current: 0.01450407\n",
      "Time: 57.62s, Current: 0.014504\n",
      "Time: 58.13s, Current: 0.014503789999999999\n",
      "Time: 58.63s, Current: 0.01450501\n",
      "Time: 59.13s, Current: 0.014504979999999999\n",
      "Time: 59.63s, Current: 0.01450531\n",
      "Time: 60.13s, Current: 0.01450568\n",
      "Time: 60.63s, Current: 0.014505849999999999\n",
      "Time: 61.13s, Current: 0.01450661\n",
      "Time: 61.63s, Current: 0.014506960000000001\n",
      "Time: 62.14s, Current: 0.01450682\n",
      "Time: 62.64s, Current: 0.01450744\n",
      "Time: 63.14s, Current: 0.01450731\n",
      "Time: 63.64s, Current: 0.014507850000000001\n",
      "Time: 64.14s, Current: 0.01450829\n",
      "Time: 64.64s, Current: 0.01450806\n",
      "Time: 65.14s, Current: 0.014508779999999999\n",
      "Time: 65.64s, Current: 0.01450882\n",
      "Time: 66.14s, Current: 0.01450859\n",
      "Time: 66.64s, Current: 0.01450944\n",
      "Time: 67.15s, Current: 0.014508700000000001\n",
      "Time: 67.65s, Current: 0.01450949\n",
      "Time: 68.15s, Current: 0.014510549999999999\n",
      "Time: 68.65s, Current: 0.014510760000000001\n",
      "Time: 69.15s, Current: 0.014511270000000001\n",
      "Time: 69.65s, Current: 0.014510180000000001\n",
      "Time: 70.15s, Current: 0.01451104\n",
      "Time: 70.65s, Current: 0.01451112\n",
      "Time: 71.15s, Current: 0.014511109999999999\n",
      "Time: 71.65s, Current: 0.014510839999999999\n",
      "Time: 72.16s, Current: 0.01451202\n",
      "Time: 72.66s, Current: 0.014512210000000001\n",
      "Time: 73.16s, Current: 0.01451188\n",
      "Time: 73.66s, Current: 0.014511560000000001\n",
      "Time: 74.16s, Current: 0.01451244\n",
      "Time: 74.66s, Current: 0.014512269999999999\n",
      "Time: 75.16s, Current: 0.01451247\n",
      "Time: 75.66s, Current: 0.014513110000000001\n",
      "Time: 76.16s, Current: 0.01451289\n",
      "Time: 76.67s, Current: 0.01451317\n",
      "Time: 77.17s, Current: 0.01451318\n",
      "Time: 77.67s, Current: 0.0145137\n",
      "Time: 78.17s, Current: 0.01451421\n",
      "Time: 78.67s, Current: 0.0145137\n",
      "Time: 79.17s, Current: 0.014513690000000001\n",
      "Time: 79.67s, Current: 0.014515160000000001\n",
      "Time: 80.17s, Current: 0.01451382\n",
      "Time: 80.67s, Current: 0.01451437\n",
      "Time: 81.17s, Current: 0.01451497\n",
      "Time: 81.67s, Current: 0.0145151\n",
      "Time: 82.18s, Current: 0.01451502\n",
      "Time: 82.68s, Current: 0.01451531\n",
      "Time: 83.18s, Current: 0.01451559\n",
      "Time: 83.68s, Current: 0.01451584\n",
      "Time: 84.18s, Current: 0.014515450000000001\n",
      "Time: 84.68s, Current: 0.0145161\n",
      "Time: 85.18s, Current: 0.014516969999999999\n",
      "Time: 85.68s, Current: 0.01451646\n",
      "Time: 86.18s, Current: 0.01451619\n",
      "Time: 86.68s, Current: 0.0145169\n",
      "Time: 87.19s, Current: 0.01451654\n",
      "Time: 87.69s, Current: 0.01451714\n",
      "Time: 88.19s, Current: 0.01451661\n",
      "Time: 88.69s, Current: 0.014516989999999999\n",
      "Time: 89.19s, Current: 0.014517180000000001\n",
      "Time: 89.69s, Current: 0.01451716\n",
      "Time: 90.19s, Current: 0.0145175\n",
      "Time: 90.69s, Current: 0.01451676\n",
      "Time: 91.19s, Current: 0.0145174\n",
      "Time: 91.70s, Current: 0.01451825\n",
      "Time: 92.20s, Current: 0.014518199999999998\n",
      "Time: 92.70s, Current: 0.01451851\n",
      "Time: 93.20s, Current: 0.01451808\n",
      "Time: 93.70s, Current: 0.014518560000000002\n",
      "Time: 94.20s, Current: 0.0145181\n",
      "Time: 94.70s, Current: 0.01451873\n",
      "Time: 95.20s, Current: 0.0145183\n",
      "Time: 95.70s, Current: 0.01451821\n",
      "Time: 96.20s, Current: 0.014518920000000001\n",
      "Time: 96.70s, Current: 0.01451973\n",
      "Time: 97.21s, Current: 0.014519190000000001\n",
      "Time: 97.71s, Current: 0.01451924\n",
      "Time: 98.21s, Current: 0.01451924\n",
      "Time: 98.71s, Current: 0.01451928\n",
      "Time: 99.21s, Current: 0.014520159999999999\n",
      "Time: 99.71s, Current: 0.01452\n",
      "Time: 100.21s, Current: 0.01451967\n",
      "Time: 100.71s, Current: 0.014520499999999999\n",
      "Time: 101.21s, Current: 0.01452068\n",
      "Time: 101.72s, Current: 0.01451996\n",
      "Time: 102.22s, Current: 0.01452092\n",
      "Time: 102.72s, Current: 0.01452036\n",
      "Time: 103.22s, Current: 0.014521369999999999\n",
      "Time: 103.72s, Current: 0.01452147\n",
      "Time: 104.22s, Current: 0.01452063\n",
      "Time: 104.72s, Current: 0.01452083\n",
      "Time: 105.22s, Current: 0.01452125\n",
      "Time: 105.72s, Current: 0.01452192\n",
      "Time: 106.22s, Current: 0.01452131\n",
      "Time: 106.72s, Current: 0.01452202\n",
      "Time: 107.22s, Current: 0.0145218\n",
      "Time: 107.73s, Current: 0.01452154\n",
      "Time: 108.23s, Current: 0.014521639999999999\n",
      "Time: 108.73s, Current: 0.014522179999999999\n",
      "Time: 109.23s, Current: 0.014521490000000001\n",
      "Time: 109.73s, Current: 0.01452163\n",
      "Time: 110.23s, Current: 0.01452223\n",
      "Time: 110.73s, Current: 0.014522700000000001\n",
      "Time: 111.23s, Current: 0.01452209\n",
      "Time: 111.74s, Current: 0.01452263\n",
      "Time: 112.24s, Current: 0.01452252\n",
      "Time: 112.74s, Current: 0.01452246\n",
      "Time: 113.24s, Current: 0.01452244\n",
      "Time: 113.74s, Current: 0.01452198\n",
      "Time: 114.24s, Current: 0.01452294\n",
      "Time: 114.74s, Current: 0.01452293\n",
      "Time: 115.24s, Current: 0.014523069999999999\n",
      "Time: 115.74s, Current: 0.014522469999999999\n",
      "Time: 116.25s, Current: 0.01452298\n",
      "Time: 116.75s, Current: 0.01452267\n",
      "Time: 117.25s, Current: 0.014523910000000001\n",
      "Time: 117.75s, Current: 0.014522559999999999\n",
      "Time: 118.25s, Current: 0.01452295\n",
      "Time: 118.75s, Current: 0.01452402\n",
      "Time: 119.25s, Current: 0.01452345\n",
      "Time: 119.75s, Current: 0.014523409999999999\n",
      "Time: 120.26s, Current: 0.01452363\n",
      "Time: 120.76s, Current: 0.01452311\n",
      "Time: 121.26s, Current: 0.01452288\n",
      "Time: 121.76s, Current: 0.014523620000000001\n",
      "Time: 122.26s, Current: 0.01452416\n",
      "Time: 122.76s, Current: 0.01452349\n",
      "Time: 123.26s, Current: 0.01452382\n",
      "Time: 123.76s, Current: 0.01452381\n",
      "Time: 124.26s, Current: 0.01452461\n",
      "Time: 124.77s, Current: 0.014523989999999999\n",
      "Time: 125.27s, Current: 0.01452345\n",
      "Time: 125.77s, Current: 0.0145239\n",
      "Time: 126.27s, Current: 0.01452473\n",
      "Time: 126.77s, Current: 0.01452467\n",
      "Time: 127.27s, Current: 0.01452404\n",
      "Time: 127.77s, Current: 0.01452383\n",
      "Time: 128.27s, Current: 0.014524440000000001\n",
      "Time: 128.77s, Current: 0.014524519999999999\n",
      "Time: 129.28s, Current: 0.01452458\n",
      "Time: 129.78s, Current: 0.01452393\n",
      "Time: 130.28s, Current: 0.014524200000000001\n",
      "Time: 130.78s, Current: 0.01452416\n",
      "Time: 131.28s, Current: 0.01452487\n",
      "Time: 131.78s, Current: 0.01452467\n",
      "Time: 132.28s, Current: 0.01452479\n",
      "Time: 132.78s, Current: 0.01452557\n",
      "Time: 133.29s, Current: 0.014524420000000001\n",
      "Time: 133.79s, Current: 0.01452584\n",
      "Time: 134.29s, Current: 0.01452574\n",
      "Time: 134.79s, Current: 0.014524519999999999\n",
      "Time: 135.29s, Current: 0.014525419999999999\n",
      "Time: 135.79s, Current: 0.01452503\n",
      "Time: 136.29s, Current: 0.01452469\n",
      "Time: 136.79s, Current: 0.01452545\n",
      "Time: 137.30s, Current: 0.014525779999999999\n",
      "Time: 137.80s, Current: 0.01452521\n",
      "Time: 138.30s, Current: 0.01452506\n",
      "Time: 138.80s, Current: 0.014525689999999999\n",
      "Time: 139.30s, Current: 0.0145257\n",
      "Time: 139.80s, Current: 0.01452496\n",
      "Time: 140.31s, Current: 0.01452532\n",
      "Time: 140.81s, Current: 0.01452514\n",
      "Time: 141.31s, Current: 0.01452547\n",
      "Time: 141.81s, Current: 0.014525960000000001\n",
      "Time: 142.31s, Current: 0.01452642\n",
      "Time: 142.81s, Current: 0.01452611\n",
      "Time: 143.31s, Current: 0.01452605\n",
      "Time: 143.81s, Current: 0.01452616\n",
      "Time: 144.31s, Current: 0.01452639\n",
      "Time: 144.82s, Current: 0.01452625\n",
      "Time: 145.32s, Current: 0.01452609\n",
      "Time: 145.82s, Current: 0.01452633\n",
      "Time: 146.32s, Current: 0.01452615\n",
      "Time: 146.82s, Current: 0.01452625\n",
      "Time: 147.32s, Current: 0.01452645\n",
      "Time: 147.82s, Current: 0.01452606\n",
      "Time: 148.32s, Current: 0.01452562\n",
      "Time: 148.82s, Current: 0.01452669\n",
      "Time: 149.32s, Current: 0.01452624\n",
      "Time: 149.83s, Current: 0.01452625\n",
      "Time: 150.33s, Current: 0.01452618\n",
      "Time: 150.83s, Current: 0.01452639\n",
      "Time: 151.33s, Current: 0.0145264\n",
      "Time: 151.83s, Current: 0.01452661\n",
      "Time: 152.33s, Current: 0.01452622\n",
      "Time: 152.83s, Current: 0.01452666\n",
      "Time: 153.33s, Current: 0.0145256\n",
      "Time: 153.83s, Current: 0.014526770000000001\n",
      "Time: 154.34s, Current: 0.014526869999999999\n",
      "Time: 154.84s, Current: 0.0145272\n",
      "Time: 155.34s, Current: 0.01452625\n",
      "Time: 155.84s, Current: 0.01452702\n",
      "Time: 156.34s, Current: 0.01452707\n",
      "Time: 156.84s, Current: 0.0145272\n",
      "Time: 157.34s, Current: 0.01452705\n",
      "Time: 157.84s, Current: 0.01452674\n",
      "Time: 158.34s, Current: 0.01452747\n",
      "Time: 158.85s, Current: 0.01452783\n",
      "Time: 159.35s, Current: 0.01452668\n",
      "Time: 159.85s, Current: 0.01452676\n",
      "Time: 160.35s, Current: 0.01452791\n",
      "Time: 160.85s, Current: 0.01452685\n",
      "Time: 161.35s, Current: 0.01452668\n",
      "Time: 161.85s, Current: 0.01452693\n",
      "Time: 162.35s, Current: 0.01452789\n",
      "Time: 162.86s, Current: 0.0145274\n",
      "Time: 163.36s, Current: 0.01452722\n",
      "Time: 163.86s, Current: 0.01452762\n",
      "Time: 164.36s, Current: 0.01452667\n",
      "Time: 164.86s, Current: 0.01452718\n",
      "Time: 165.36s, Current: 0.01452717\n",
      "Time: 165.86s, Current: 0.01452776\n",
      "Time: 166.36s, Current: 0.01452757\n",
      "Time: 166.86s, Current: 0.01452781\n",
      "Time: 167.36s, Current: 0.01452757\n",
      "Time: 167.86s, Current: 0.01452763\n",
      "Time: 168.37s, Current: 0.01452795\n",
      "Time: 168.87s, Current: 0.01452669\n",
      "Time: 169.37s, Current: 0.01452767\n",
      "Time: 169.87s, Current: 0.0145279\n",
      "Time: 170.37s, Current: 0.01452754\n",
      "Time: 170.87s, Current: 0.014527710000000001\n",
      "Time: 171.37s, Current: 0.01452752\n",
      "Time: 171.87s, Current: 0.01452728\n",
      "Time: 172.37s, Current: 0.01452675\n",
      "Time: 172.88s, Current: 0.01452797\n",
      "Time: 173.38s, Current: 0.01452828\n",
      "Time: 173.88s, Current: 0.01452763\n",
      "Time: 174.38s, Current: 0.01452776\n",
      "Time: 174.88s, Current: 0.01452788\n",
      "Time: 175.38s, Current: 0.014527980000000001\n",
      "Time: 175.88s, Current: 0.014527640000000001\n",
      "Time: 176.38s, Current: 0.01452813\n",
      "Time: 176.89s, Current: 0.01452746\n",
      "Time: 177.39s, Current: 0.01452805\n",
      "Time: 177.89s, Current: 0.0145284\n",
      "Time: 178.39s, Current: 0.01452731\n",
      "Time: 178.89s, Current: 0.014527499999999999\n",
      "Time: 179.39s, Current: 0.01452813\n",
      "Time: 179.89s, Current: 0.014527350000000001\n",
      "Time: 180.40s, Current: 0.0145283\n",
      "Time: 180.90s, Current: 0.01452781\n",
      "Time: 181.40s, Current: 0.01452792\n",
      "Time: 181.90s, Current: 0.014527449999999999\n",
      "Time: 182.40s, Current: 0.01452802\n",
      "Time: 182.90s, Current: 0.01452811\n",
      "Time: 183.40s, Current: 0.0145281\n",
      "Time: 183.90s, Current: 0.01452834\n",
      "Time: 184.40s, Current: 0.01452792\n",
      "Time: 184.90s, Current: 0.01452816\n",
      "Time: 185.41s, Current: 0.01452811\n",
      "Time: 185.91s, Current: 0.01452892\n",
      "Time: 186.41s, Current: 0.014528580000000001\n",
      "Time: 186.91s, Current: 0.0145284\n",
      "Time: 187.41s, Current: 0.014528029999999999\n",
      "Time: 187.91s, Current: 0.01452838\n",
      "Time: 188.41s, Current: 0.01452852\n",
      "Time: 188.91s, Current: 0.014528029999999999\n",
      "Time: 189.41s, Current: 0.01452857\n",
      "Time: 189.91s, Current: 0.014527980000000001\n",
      "Time: 190.42s, Current: 0.014528029999999999\n",
      "Time: 190.92s, Current: 0.01452865\n",
      "Time: 191.42s, Current: 0.01452852\n",
      "Time: 191.92s, Current: 0.01452843\n",
      "Time: 192.42s, Current: 0.01452809\n",
      "Time: 192.92s, Current: 0.014529650000000002\n",
      "Time: 193.42s, Current: 0.0145287\n",
      "Time: 193.92s, Current: 0.01452826\n",
      "Time: 194.42s, Current: 0.01452802\n",
      "Time: 194.92s, Current: 0.01452814\n",
      "Time: 195.42s, Current: 0.01452883\n",
      "Time: 195.93s, Current: 0.01452859\n",
      "Time: 196.43s, Current: 0.01452854\n",
      "Time: 196.93s, Current: 0.01452855\n",
      "Time: 197.43s, Current: 0.014528290000000001\n",
      "Time: 197.93s, Current: 0.01452813\n",
      "Time: 198.43s, Current: 0.01452818\n",
      "Time: 198.93s, Current: 0.01452892\n",
      "Time: 199.43s, Current: 0.01452948\n",
      "Time: 199.93s, Current: 0.014528290000000001\n"
     ]
    },
    {
     "data": {
      "image/png": "[encoded data removed]",
      "text/plain": [
       "<Figure size 800x600 with 1 Axes>"
      ]
     },
     "metadata": {},
     "output_type": "display_data"
    }
   ],
   "source": [
    "import time\n",
    "import matplotlib.pyplot as plt\n",
    "\n",
    "# Initialize the SMU (Source Measure Unit)\n",
    "smu.write('SOUR:FUNC VOLT')\n",
    "smu.write(\"OUTPut:STATe ON\")\n",
    "time.sleep(2.5)\n",
    "\n",
    "# Initialize arrays to store current and time values\n",
    "I_values = []\n",
    "t_values = []\n",
    "\n",
    "duration = 200  # Total measurement time in seconds\n",
    "interval = 0.5  # Interval between measurements in seconds\n",
    "start_time = time.time()\n",
    "\n",
    "while time.time() - start_time < duration:\n",
    "    measurement_start = time.time()\n",
    "    elapsed_time = measurement_start - start_time  # Time since start of measurements\n",
    "    \n",
    "    # Measure current (assuming measure_current is a defined function)\n",
    "    I = measure_current(0.01, 0.01, 0)\n",
    "    I_values.append(I)\n",
    "    t_values.append(elapsed_time)\n",
    "    \n",
    "    print(f\"Time: {elapsed_time:.2f}s, Current: {I}\")\n",
    "    \n",
    "    # Wait the remaining time until the next measurement\n",
    "    time_to_sleep = interval - (time.time() - measurement_start)\n",
    "    if time_to_sleep > 0:\n",
    "        time.sleep(time_to_sleep)\n",
    "\n",
    "smu.write(\"OUTPut:STATe OFF\")\n",
    "\n",
    "# Plot the current vs. time graph\n",
    "plt.figure(figsize=(8, 6))\n",
    "df = pd.DataFrame({\n",
    "            't': t_values,\n",
    "            'I': I_values\n",
    "        })\n",
    "df.to_excel('200s_1V.xlsx', index=False)\n",
    "\n",
    "plt.plot(t_values, I_values, marker='o')\n",
    "plt.xlabel('Time (s)')\n",
    "plt.ylabel('Current (A)')\n",
    "plt.title('Current vs. Time')\n",
    "plt.grid(True)\n",
    "plt.show()"
   ]
  },
  {
   "cell_type": "code",
   "execution_count": 10,
   "metadata": {},
   "outputs": [
    {
     "name": "stdout",
     "output_type": "stream",
     "text": [
      "Time: 0.00s, Current: 0.4597663\n",
      "Time: 0.50s, Current: 0.4597677\n",
      "Time: 1.00s, Current: 0.4597682\n",
      "Time: 1.50s, Current: 0.4597677\n",
      "Time: 2.00s, Current: 0.4597675\n",
      "Time: 2.51s, Current: 0.459767\n",
      "Time: 3.01s, Current: 0.4597671\n",
      "Time: 3.51s, Current: 0.4597661\n",
      "Time: 4.01s, Current: 0.4597654\n",
      "Time: 4.51s, Current: 0.4597657\n",
      "Time: 5.01s, Current: 0.45976619999999996\n",
      "Time: 5.51s, Current: 0.4597657\n",
      "Time: 6.01s, Current: 0.4597656\n",
      "Time: 6.51s, Current: 0.45976619999999996\n",
      "Time: 7.02s, Current: 0.4597658\n",
      "Time: 7.52s, Current: 0.4597647\n",
      "Time: 8.02s, Current: 0.4597646\n",
      "Time: 8.52s, Current: 0.45976330000000004\n",
      "Time: 9.02s, Current: 0.4597626\n",
      "Time: 9.52s, Current: 0.4597616\n",
      "Time: 10.02s, Current: 0.459761\n",
      "Time: 10.52s, Current: 0.4597603\n",
      "Time: 11.02s, Current: 0.4597599\n",
      "Time: 11.52s, Current: 0.4597598\n",
      "Time: 12.03s, Current: 0.4597594\n",
      "Time: 12.53s, Current: 0.45975889999999997\n",
      "Time: 13.03s, Current: 0.4597587\n",
      "Time: 13.53s, Current: 0.4597584\n",
      "Time: 14.03s, Current: 0.4597591\n",
      "Time: 14.53s, Current: 0.4597588\n",
      "Time: 15.03s, Current: 0.4597591\n",
      "Time: 15.53s, Current: 0.45975889999999997\n",
      "Time: 16.04s, Current: 0.4597585\n",
      "Time: 16.54s, Current: 0.4597594\n",
      "Time: 17.04s, Current: 0.45975950000000004\n",
      "Time: 17.54s, Current: 0.4597599\n",
      "Time: 18.04s, Current: 0.45976090000000003\n",
      "Time: 18.54s, Current: 0.4597612\n",
      "Time: 19.04s, Current: 0.45976110000000003\n",
      "Time: 19.54s, Current: 0.4597613\n",
      "Time: 20.04s, Current: 0.459761\n",
      "Time: 20.54s, Current: 0.45976140000000004\n",
      "Time: 21.05s, Current: 0.4597623\n",
      "Time: 21.55s, Current: 0.4597623\n",
      "Time: 22.05s, Current: 0.4597621\n",
      "Time: 22.55s, Current: 0.4597625\n",
      "Time: 23.05s, Current: 0.4597626\n",
      "Time: 23.55s, Current: 0.4597629\n",
      "Time: 24.05s, Current: 0.4597625\n",
      "Time: 24.55s, Current: 0.45976269999999997\n",
      "Time: 25.05s, Current: 0.45976300000000003\n",
      "Time: 25.55s, Current: 0.45976330000000004\n",
      "Time: 26.06s, Current: 0.4597634\n",
      "Time: 26.56s, Current: 0.459764\n",
      "Time: 27.06s, Current: 0.4597648\n",
      "Time: 27.56s, Current: 0.459765\n",
      "Time: 28.06s, Current: 0.4597663\n",
      "Time: 28.56s, Current: 0.4597663\n",
      "Time: 29.06s, Current: 0.4597669\n",
      "Time: 29.56s, Current: 0.4597674\n",
      "Time: 30.06s, Current: 0.4597682\n",
      "Time: 30.56s, Current: 0.45976870000000003\n",
      "Time: 31.06s, Current: 0.4597688\n",
      "Time: 31.57s, Current: 0.4597691\n",
      "Time: 32.07s, Current: 0.45977019999999996\n",
      "Time: 32.57s, Current: 0.4597701\n",
      "Time: 33.07s, Current: 0.4597712\n",
      "Time: 33.57s, Current: 0.4597722\n",
      "Time: 34.07s, Current: 0.45977209999999996\n",
      "Time: 34.57s, Current: 0.4597733\n",
      "Time: 35.07s, Current: 0.4597737\n",
      "Time: 35.57s, Current: 0.4597751\n",
      "Time: 36.07s, Current: 0.4597752\n",
      "Time: 36.58s, Current: 0.45977609999999997\n",
      "Time: 37.08s, Current: 0.4597766\n",
      "Time: 37.58s, Current: 0.4597772\n",
      "Time: 38.08s, Current: 0.4597773\n",
      "Time: 38.58s, Current: 0.4597781\n",
      "Time: 39.08s, Current: 0.4597783\n",
      "Time: 39.58s, Current: 0.4597791\n",
      "Time: 40.08s, Current: 0.4597796\n",
      "Time: 40.58s, Current: 0.45977989999999996\n",
      "Time: 41.09s, Current: 0.4597807\n",
      "Time: 41.59s, Current: 0.45978129999999995\n",
      "Time: 42.09s, Current: 0.4597814\n",
      "Time: 42.59s, Current: 0.4597816\n",
      "Time: 43.09s, Current: 0.4597815\n",
      "Time: 43.59s, Current: 0.45978179999999996\n",
      "Time: 44.09s, Current: 0.45978179999999996\n",
      "Time: 44.59s, Current: 0.459782\n",
      "Time: 45.09s, Current: 0.45978129999999995\n",
      "Time: 45.59s, Current: 0.45978179999999996\n",
      "Time: 46.09s, Current: 0.45978240000000004\n",
      "Time: 46.60s, Current: 0.45978220000000003\n",
      "Time: 47.10s, Current: 0.459783\n",
      "Time: 47.60s, Current: 0.4597833\n",
      "Time: 48.10s, Current: 0.45978399999999997\n",
      "Time: 48.60s, Current: 0.4597852\n",
      "Time: 49.10s, Current: 0.45978579999999997\n",
      "Time: 49.60s, Current: 0.45978600000000003\n",
      "Time: 50.10s, Current: 0.4597865\n",
      "Time: 50.60s, Current: 0.45978749999999996\n",
      "Time: 51.10s, Current: 0.45978810000000003\n",
      "Time: 51.61s, Current: 0.45978860000000005\n",
      "Time: 52.11s, Current: 0.45978860000000005\n",
      "Time: 52.61s, Current: 0.4597889\n",
      "Time: 53.11s, Current: 0.4597884\n",
      "Time: 53.61s, Current: 0.45978860000000005\n",
      "Time: 54.11s, Current: 0.4597889\n",
      "Time: 54.61s, Current: 0.45978860000000005\n",
      "Time: 55.11s, Current: 0.4597882\n",
      "Time: 55.61s, Current: 0.4597878\n",
      "Time: 56.12s, Current: 0.45978769999999997\n",
      "Time: 56.62s, Current: 0.459788\n",
      "Time: 57.12s, Current: 0.4597878\n",
      "Time: 57.62s, Current: 0.4597878\n",
      "Time: 58.12s, Current: 0.4597882\n",
      "Time: 58.62s, Current: 0.4597885\n",
      "Time: 59.12s, Current: 0.4597883\n",
      "Time: 59.62s, Current: 0.4597887\n",
      "Time: 60.12s, Current: 0.4597884\n",
      "Time: 60.63s, Current: 0.4597887\n",
      "Time: 61.13s, Current: 0.4597879\n",
      "Time: 61.63s, Current: 0.4597876\n",
      "Time: 62.13s, Current: 0.4597882\n",
      "Time: 62.63s, Current: 0.4597878\n",
      "Time: 63.13s, Current: 0.4597874\n",
      "Time: 63.63s, Current: 0.4597869\n",
      "Time: 64.13s, Current: 0.4597867\n",
      "Time: 64.63s, Current: 0.4597861\n",
      "Time: 65.14s, Current: 0.45978559999999996\n",
      "Time: 65.64s, Current: 0.4597848\n",
      "Time: 66.14s, Current: 0.45978460000000004\n",
      "Time: 66.64s, Current: 0.45978369999999996\n",
      "Time: 67.14s, Current: 0.45978270000000004\n",
      "Time: 67.64s, Current: 0.4597819\n",
      "Time: 68.14s, Current: 0.45978080000000005\n",
      "Time: 68.64s, Current: 0.4597802\n",
      "Time: 69.14s, Current: 0.4597792\n",
      "Time: 69.65s, Current: 0.4597779\n",
      "Time: 70.15s, Current: 0.4597777\n",
      "Time: 70.65s, Current: 0.4597772\n",
      "Time: 71.15s, Current: 0.4597768\n",
      "Time: 71.65s, Current: 0.45977589999999996\n",
      "Time: 72.15s, Current: 0.4597756\n",
      "Time: 72.65s, Current: 0.4597744\n",
      "Time: 73.15s, Current: 0.4597741\n",
      "Time: 73.65s, Current: 0.4597731\n",
      "Time: 74.16s, Current: 0.4597729\n",
      "Time: 74.66s, Current: 0.4597718\n",
      "Time: 75.16s, Current: 0.459772\n",
      "Time: 75.66s, Current: 0.4597712\n",
      "Time: 76.16s, Current: 0.45977060000000003\n",
      "Time: 76.66s, Current: 0.45977159999999995\n",
      "Time: 77.16s, Current: 0.4597713\n",
      "Time: 77.66s, Current: 0.45977019999999996\n",
      "Time: 78.16s, Current: 0.45977\n",
      "Time: 78.67s, Current: 0.4597707\n",
      "Time: 79.17s, Current: 0.45977049999999997\n",
      "Time: 79.67s, Current: 0.459771\n",
      "Time: 80.17s, Current: 0.45977060000000003\n",
      "Time: 80.67s, Current: 0.4597707\n",
      "Time: 81.17s, Current: 0.45977049999999997\n",
      "Time: 81.67s, Current: 0.45977049999999997\n",
      "Time: 82.17s, Current: 0.4597712\n",
      "Time: 82.67s, Current: 0.459771\n",
      "Time: 83.17s, Current: 0.4597715\n",
      "Time: 83.68s, Current: 0.4597715\n",
      "Time: 84.18s, Current: 0.4597719\n",
      "Time: 84.68s, Current: 0.4597722\n",
      "Time: 85.18s, Current: 0.45977300000000004\n",
      "Time: 85.68s, Current: 0.4597732\n",
      "Time: 86.18s, Current: 0.4597737\n",
      "Time: 86.68s, Current: 0.4597733\n",
      "Time: 87.18s, Current: 0.4597738\n",
      "Time: 87.68s, Current: 0.4597736\n",
      "Time: 88.19s, Current: 0.4597739\n",
      "Time: 88.69s, Current: 0.4597738\n",
      "Time: 89.19s, Current: 0.4597747\n",
      "Time: 89.69s, Current: 0.45977429999999997\n",
      "Time: 90.19s, Current: 0.4597747\n",
      "Time: 90.69s, Current: 0.4597752\n",
      "Time: 91.19s, Current: 0.4597755\n",
      "Time: 91.69s, Current: 0.4597756\n",
      "Time: 92.19s, Current: 0.459775\n",
      "Time: 92.70s, Current: 0.45977419999999997\n",
      "Time: 93.20s, Current: 0.4597728\n",
      "Time: 93.70s, Current: 0.4597731\n",
      "Time: 94.20s, Current: 0.45977270000000003\n",
      "Time: 94.70s, Current: 0.45977270000000003\n",
      "Time: 95.20s, Current: 0.4597718\n",
      "Time: 95.70s, Current: 0.4597717\n",
      "Time: 96.20s, Current: 0.4597713\n",
      "Time: 96.70s, Current: 0.4597709\n",
      "Time: 97.20s, Current: 0.45977060000000003\n",
      "Time: 97.70s, Current: 0.45977060000000003\n",
      "Time: 98.21s, Current: 0.4597701\n",
      "Time: 98.71s, Current: 0.4597691\n",
      "Time: 99.21s, Current: 0.4597691\n",
      "Time: 99.71s, Current: 0.4597684\n",
      "Time: 100.21s, Current: 0.4597682\n",
      "Time: 100.71s, Current: 0.4597677\n",
      "Time: 101.21s, Current: 0.4597674\n",
      "Time: 101.71s, Current: 0.4597667\n",
      "Time: 102.21s, Current: 0.4597665\n",
      "Time: 102.71s, Current: 0.4597661\n",
      "Time: 103.22s, Current: 0.4597658\n",
      "Time: 103.72s, Current: 0.4597654\n",
      "Time: 104.22s, Current: 0.45976520000000004\n",
      "Time: 104.72s, Current: 0.4597651\n",
      "Time: 105.22s, Current: 0.4597656\n",
      "Time: 105.72s, Current: 0.4597651\n",
      "Time: 106.22s, Current: 0.45976490000000003\n",
      "Time: 106.72s, Current: 0.45976449999999996\n",
      "Time: 107.22s, Current: 0.4597646\n",
      "Time: 107.72s, Current: 0.4597644\n",
      "Time: 108.23s, Current: 0.45976490000000003\n",
      "Time: 108.73s, Current: 0.4597647\n",
      "Time: 109.23s, Current: 0.459765\n",
      "Time: 109.73s, Current: 0.4597653\n",
      "Time: 110.23s, Current: 0.4597648\n",
      "Time: 110.73s, Current: 0.45976490000000003\n",
      "Time: 111.23s, Current: 0.4597655\n",
      "Time: 111.73s, Current: 0.4597653\n",
      "Time: 112.23s, Current: 0.4597651\n",
      "Time: 112.73s, Current: 0.4597651\n",
      "Time: 113.24s, Current: 0.4597646\n",
      "Time: 113.74s, Current: 0.45976490000000003\n",
      "Time: 114.24s, Current: 0.4597646\n",
      "Time: 114.74s, Current: 0.4597648\n",
      "Time: 115.24s, Current: 0.4597647\n",
      "Time: 115.74s, Current: 0.4597647\n",
      "Time: 116.24s, Current: 0.4597651\n",
      "Time: 116.74s, Current: 0.4597646\n",
      "Time: 117.24s, Current: 0.4597644\n",
      "Time: 117.74s, Current: 0.45976449999999996\n",
      "Time: 118.24s, Current: 0.4597638\n",
      "Time: 118.74s, Current: 0.4597636\n",
      "Time: 119.24s, Current: 0.4597635\n",
      "Time: 119.75s, Current: 0.4597634\n",
      "Time: 120.25s, Current: 0.45976269999999997\n",
      "Time: 120.75s, Current: 0.45976300000000003\n",
      "Time: 121.25s, Current: 0.4597628\n",
      "Time: 121.75s, Current: 0.4597628\n",
      "Time: 122.25s, Current: 0.4597636\n",
      "Time: 122.75s, Current: 0.4597635\n",
      "Time: 123.25s, Current: 0.4597644\n",
      "Time: 123.75s, Current: 0.4597646\n",
      "Time: 124.26s, Current: 0.45976490000000003\n",
      "Time: 124.76s, Current: 0.45976520000000004\n",
      "Time: 125.26s, Current: 0.4597659\n",
      "Time: 125.76s, Current: 0.4597661\n",
      "Time: 126.26s, Current: 0.4597675\n",
      "Time: 126.76s, Current: 0.4597677\n",
      "Time: 127.26s, Current: 0.45976829999999996\n",
      "Time: 127.76s, Current: 0.4597688\n",
      "Time: 128.26s, Current: 0.4597684\n",
      "Time: 128.77s, Current: 0.4597677\n",
      "Time: 129.27s, Current: 0.4597676\n",
      "Time: 129.77s, Current: 0.45976730000000005\n",
      "Time: 130.27s, Current: 0.45976639999999996\n",
      "Time: 130.77s, Current: 0.4597661\n",
      "Time: 131.27s, Current: 0.4597657\n",
      "Time: 131.77s, Current: 0.4597653\n",
      "Time: 132.27s, Current: 0.4597648\n",
      "Time: 132.77s, Current: 0.4597638\n",
      "Time: 133.28s, Current: 0.4597635\n",
      "Time: 133.78s, Current: 0.4597615\n",
      "Time: 134.28s, Current: 0.4597604\n",
      "Time: 134.78s, Current: 0.4597592\n",
      "Time: 135.28s, Current: 0.4597579\n",
      "Time: 135.78s, Current: 0.4597563\n",
      "Time: 136.28s, Current: 0.4597556\n",
      "Time: 136.78s, Current: 0.4597539\n",
      "Time: 137.28s, Current: 0.4597537\n",
      "Time: 137.78s, Current: 0.4597535\n",
      "Time: 138.29s, Current: 0.4597539\n",
      "Time: 138.79s, Current: 0.45975459999999996\n",
      "Time: 139.29s, Current: 0.4597545\n",
      "Time: 139.79s, Current: 0.4597556\n",
      "Time: 140.30s, Current: 0.4597557\n",
      "Time: 140.80s, Current: 0.4597566\n",
      "Time: 141.30s, Current: 0.4597578\n",
      "Time: 141.80s, Current: 0.4597579\n",
      "Time: 142.30s, Current: 0.4597578\n",
      "Time: 142.80s, Current: 0.459758\n",
      "Time: 143.30s, Current: 0.4597584\n",
      "Time: 143.80s, Current: 0.45975889999999997\n",
      "Time: 144.30s, Current: 0.4597594\n",
      "Time: 144.80s, Current: 0.4597599\n",
      "Time: 145.31s, Current: 0.45976\n",
      "Time: 145.81s, Current: 0.45976079999999997\n",
      "Time: 146.31s, Current: 0.4597603\n",
      "Time: 146.81s, Current: 0.45976110000000003\n",
      "Time: 147.31s, Current: 0.4597616\n",
      "Time: 147.81s, Current: 0.45976140000000004\n",
      "Time: 148.31s, Current: 0.4597607\n",
      "Time: 148.81s, Current: 0.4597601\n",
      "Time: 149.31s, Current: 0.4597601\n",
      "Time: 149.81s, Current: 0.4597597\n",
      "Time: 150.32s, Current: 0.4597588\n",
      "Time: 150.82s, Current: 0.4597587\n",
      "Time: 151.32s, Current: 0.4597582\n",
      "Time: 151.82s, Current: 0.4597573\n",
      "Time: 152.32s, Current: 0.4597574\n",
      "Time: 152.82s, Current: 0.45975760000000004\n",
      "Time: 153.32s, Current: 0.4597574\n",
      "Time: 153.82s, Current: 0.45975710000000003\n",
      "Time: 154.32s, Current: 0.45975669999999996\n",
      "Time: 154.83s, Current: 0.45975760000000004\n",
      "Time: 155.33s, Current: 0.4597574\n",
      "Time: 155.83s, Current: 0.45975760000000004\n",
      "Time: 156.33s, Current: 0.4597581\n",
      "Time: 156.83s, Current: 0.4597582\n",
      "Time: 157.33s, Current: 0.459758\n",
      "Time: 157.83s, Current: 0.4597585\n",
      "Time: 158.33s, Current: 0.4597587\n",
      "Time: 158.83s, Current: 0.4597584\n",
      "Time: 159.33s, Current: 0.4597578\n",
      "Time: 159.83s, Current: 0.4597574\n",
      "Time: 160.34s, Current: 0.4597563\n",
      "Time: 160.84s, Current: 0.4597554\n",
      "Time: 161.34s, Current: 0.4597553\n",
      "Time: 161.84s, Current: 0.4597549\n",
      "Time: 162.34s, Current: 0.459754\n",
      "Time: 162.84s, Current: 0.45975360000000004\n",
      "Time: 163.34s, Current: 0.4597535\n",
      "Time: 163.84s, Current: 0.4597532\n",
      "Time: 164.34s, Current: 0.4597524\n",
      "Time: 164.84s, Current: 0.4597525\n",
      "Time: 165.35s, Current: 0.4597524\n",
      "Time: 165.85s, Current: 0.4597525\n",
      "Time: 166.35s, Current: 0.4597528\n",
      "Time: 166.85s, Current: 0.4597531\n",
      "Time: 167.35s, Current: 0.45975330000000003\n",
      "Time: 167.85s, Current: 0.459754\n",
      "Time: 168.35s, Current: 0.4597545\n",
      "Time: 168.85s, Current: 0.45975520000000003\n",
      "Time: 169.35s, Current: 0.4597554\n",
      "Time: 169.85s, Current: 0.45975550000000004\n",
      "Time: 170.35s, Current: 0.4597564\n",
      "Time: 170.86s, Current: 0.4597564\n",
      "Time: 171.36s, Current: 0.4597563\n",
      "Time: 171.86s, Current: 0.4597569\n",
      "Time: 172.36s, Current: 0.4597575\n",
      "Time: 172.86s, Current: 0.4597581\n",
      "Time: 173.36s, Current: 0.4597584\n",
      "Time: 173.86s, Current: 0.4597592\n",
      "Time: 174.36s, Current: 0.4597597\n",
      "Time: 174.86s, Current: 0.45976049999999996\n",
      "Time: 175.36s, Current: 0.45976079999999997\n",
      "Time: 175.87s, Current: 0.45976110000000003\n",
      "Time: 176.37s, Current: 0.4597615\n",
      "Time: 176.87s, Current: 0.4597629\n",
      "Time: 177.37s, Current: 0.4597635\n",
      "Time: 177.87s, Current: 0.4597641\n",
      "Time: 178.37s, Current: 0.4597642\n",
      "Time: 178.87s, Current: 0.4597646\n",
      "Time: 179.37s, Current: 0.4597647\n",
      "Time: 179.87s, Current: 0.4597651\n",
      "Time: 180.37s, Current: 0.4597657\n",
      "Time: 180.88s, Current: 0.4597658\n",
      "Time: 181.38s, Current: 0.4597656\n",
      "Time: 181.88s, Current: 0.4597658\n",
      "Time: 182.38s, Current: 0.4597663\n",
      "Time: 182.88s, Current: 0.45976639999999996\n",
      "Time: 183.38s, Current: 0.4597663\n",
      "Time: 183.88s, Current: 0.4597663\n",
      "Time: 184.38s, Current: 0.45976639999999996\n",
      "Time: 184.88s, Current: 0.4597674\n",
      "Time: 185.38s, Current: 0.4597666\n",
      "Time: 185.89s, Current: 0.45976680000000003\n",
      "Time: 186.39s, Current: 0.4597667\n",
      "Time: 186.89s, Current: 0.45976730000000005\n",
      "Time: 187.39s, Current: 0.4597667\n",
      "Time: 187.89s, Current: 0.459767\n",
      "Time: 188.39s, Current: 0.45976730000000005\n",
      "Time: 188.89s, Current: 0.4597674\n",
      "Time: 189.39s, Current: 0.4597669\n",
      "Time: 189.89s, Current: 0.4597666\n",
      "Time: 190.39s, Current: 0.4597658\n",
      "Time: 190.90s, Current: 0.4597646\n",
      "Time: 191.40s, Current: 0.45976330000000004\n",
      "Time: 191.90s, Current: 0.4597615\n",
      "Time: 192.40s, Current: 0.45976\n",
      "Time: 192.90s, Current: 0.45975859999999996\n",
      "Time: 193.40s, Current: 0.459758\n",
      "Time: 193.90s, Current: 0.45975649999999996\n",
      "Time: 194.40s, Current: 0.45975550000000004\n",
      "Time: 194.90s, Current: 0.4597548\n",
      "Time: 195.41s, Current: 0.4597547\n",
      "Time: 195.91s, Current: 0.4597537\n",
      "Time: 196.41s, Current: 0.4597531\n",
      "Time: 196.91s, Current: 0.4597531\n",
      "Time: 197.41s, Current: 0.4597531\n",
      "Time: 197.91s, Current: 0.45975330000000003\n",
      "Time: 198.41s, Current: 0.45975360000000004\n",
      "Time: 198.91s, Current: 0.4597535\n",
      "Time: 199.42s, Current: 0.4597539\n",
      "Time: 199.92s, Current: 0.4597539\n"
     ]
    },
    {
     "data": {
      "image/png": "[encoded data removed]",
      "text/plain": [
       "<Figure size 800x600 with 1 Axes>"
      ]
     },
     "metadata": {},
     "output_type": "display_data"
    }
   ],
   "source": [
    "import time\n",
    "import matplotlib.pyplot as plt\n",
    "\n",
    "# Initialize the SMU (Source Measure Unit)\n",
    "smu.write('SOUR:FUNC VOLT')\n",
    "smu.write(\"OUTPut:STATe ON\")\n",
    "time.sleep(2.5)\n",
    "\n",
    "# Initialize arrays to store current and time values\n",
    "I_values = []\n",
    "t_values = []\n",
    "\n",
    "duration = 200  # Total measurement time in seconds\n",
    "interval = 0.5  # Interval between measurements in seconds\n",
    "start_time = time.time()\n",
    "\n",
    "while time.time() - start_time < duration:\n",
    "    measurement_start = time.time()\n",
    "    elapsed_time = measurement_start - start_time  # Time since start of measurements\n",
    "    \n",
    "    # Measure current (assuming measure_current is a defined function)\n",
    "    I = measure_current(1, 0.001, 0)\n",
    "    I_values.append(I)\n",
    "    t_values.append(elapsed_time)\n",
    "    \n",
    "    print(f\"Time: {elapsed_time:.2f}s, Current: {I}\")\n",
    "    \n",
    "    # Wait the remaining time until the next measurement\n",
    "    time_to_sleep = interval - (time.time() - measurement_start)\n",
    "    if time_to_sleep > 0:\n",
    "        time.sleep(time_to_sleep)\n",
    "\n",
    "smu.write(\"OUTPut:STATe OFF\")\n",
    "\n",
    "# Plot the current vs. time graph\n",
    "plt.figure(figsize=(8, 6))\n",
    "plt.plot(t_values, I_values, marker='o')\n",
    "plt.xlabel('Time (s)')\n",
    "plt.ylabel('Current (A)')\n",
    "plt.title('Current vs. Time')\n",
    "plt.grid(True)\n",
    "plt.show()"
   ]
  },
  {
   "cell_type": "code",
   "execution_count": 11,
   "metadata": {},
   "outputs": [
    {
     "name": "stdout",
     "output_type": "stream",
     "text": [
      "Time: 0.02s, Current: 0.45975669999999996\n"
     ]
    },
    {
     "data": {
      "image/png": "[encoded data removed]",
      "text/plain": [
       "<Figure size 800x600 with 1 Axes>"
      ]
     },
     "metadata": {},
     "output_type": "display_data"
    },
    {
     "name": "stdout",
     "output_type": "stream",
     "text": [
      "Time: 0.52s, Current: 0.4597577\n"
     ]
    },
    {
     "data": {
      "text/plain": [
       "<Figure size 640x480 with 0 Axes>"
      ]
     },
     "metadata": {},
     "output_type": "display_data"
    },
    {
     "name": "stdout",
     "output_type": "stream",
     "text": [
      "Time: 1.02s, Current: 0.459758\n"
     ]
    },
    {
     "data": {
      "text/plain": [
       "<Figure size 640x480 with 0 Axes>"
      ]
     },
     "metadata": {},
     "output_type": "display_data"
    },
    {
     "name": "stdout",
     "output_type": "stream",
     "text": [
      "Time: 1.52s, Current: 0.4597578\n"
     ]
    },
    {
     "data": {
      "text/plain": [
       "<Figure size 640x480 with 0 Axes>"
      ]
     },
     "metadata": {},
     "output_type": "display_data"
    },
    {
     "name": "stdout",
     "output_type": "stream",
     "text": [
      "Time: 2.02s, Current: 0.4597588\n"
     ]
    },
    {
     "data": {
      "text/plain": [
       "<Figure size 640x480 with 0 Axes>"
      ]
     },
     "metadata": {},
     "output_type": "display_data"
    },
    {
     "name": "stdout",
     "output_type": "stream",
     "text": [
      "Time: 2.52s, Current: 0.4597598\n"
     ]
    },
    {
     "data": {
      "text/plain": [
       "<Figure size 640x480 with 0 Axes>"
      ]
     },
     "metadata": {},
     "output_type": "display_data"
    },
    {
     "name": "stdout",
     "output_type": "stream",
     "text": [
      "Time: 3.02s, Current: 0.45975950000000004\n"
     ]
    },
    {
     "data": {
      "text/plain": [
       "<Figure size 640x480 with 0 Axes>"
      ]
     },
     "metadata": {},
     "output_type": "display_data"
    },
    {
     "name": "stdout",
     "output_type": "stream",
     "text": [
      "Time: 3.52s, Current: 0.4597601\n"
     ]
    },
    {
     "data": {
      "text/plain": [
       "<Figure size 640x480 with 0 Axes>"
      ]
     },
     "metadata": {},
     "output_type": "display_data"
    },
    {
     "name": "stdout",
     "output_type": "stream",
     "text": [
      "Time: 4.02s, Current: 0.4597599\n"
     ]
    },
    {
     "data": {
      "text/plain": [
       "<Figure size 640x480 with 0 Axes>"
      ]
     },
     "metadata": {},
     "output_type": "display_data"
    },
    {
     "name": "stdout",
     "output_type": "stream",
     "text": [
      "Time: 4.52s, Current: 0.459761\n"
     ]
    },
    {
     "data": {
      "text/plain": [
       "<Figure size 640x480 with 0 Axes>"
      ]
     },
     "metadata": {},
     "output_type": "display_data"
    },
    {
     "name": "stdout",
     "output_type": "stream",
     "text": [
      "Time: 5.02s, Current: 0.4597616\n"
     ]
    },
    {
     "data": {
      "text/plain": [
       "<Figure size 640x480 with 0 Axes>"
      ]
     },
     "metadata": {},
     "output_type": "display_data"
    },
    {
     "name": "stdout",
     "output_type": "stream",
     "text": [
      "Time: 5.52s, Current: 0.4597623\n"
     ]
    },
    {
     "data": {
      "text/plain": [
       "<Figure size 640x480 with 0 Axes>"
      ]
     },
     "metadata": {},
     "output_type": "display_data"
    },
    {
     "name": "stdout",
     "output_type": "stream",
     "text": [
      "Time: 6.02s, Current: 0.4597622\n"
     ]
    },
    {
     "data": {
      "text/plain": [
       "<Figure size 640x480 with 0 Axes>"
      ]
     },
     "metadata": {},
     "output_type": "display_data"
    },
    {
     "name": "stdout",
     "output_type": "stream",
     "text": [
      "Time: 6.52s, Current: 0.4597622\n"
     ]
    },
    {
     "data": {
      "text/plain": [
       "<Figure size 640x480 with 0 Axes>"
      ]
     },
     "metadata": {},
     "output_type": "display_data"
    },
    {
     "name": "stdout",
     "output_type": "stream",
     "text": [
      "Time: 7.02s, Current: 0.459762\n"
     ]
    },
    {
     "data": {
      "text/plain": [
       "<Figure size 640x480 with 0 Axes>"
      ]
     },
     "metadata": {},
     "output_type": "display_data"
    },
    {
     "name": "stdout",
     "output_type": "stream",
     "text": [
      "Time: 7.52s, Current: 0.4597618\n"
     ]
    },
    {
     "data": {
      "text/plain": [
       "<Figure size 640x480 with 0 Axes>"
      ]
     },
     "metadata": {},
     "output_type": "display_data"
    },
    {
     "name": "stdout",
     "output_type": "stream",
     "text": [
      "Time: 8.03s, Current: 0.45976189999999995\n"
     ]
    },
    {
     "data": {
      "text/plain": [
       "<Figure size 640x480 with 0 Axes>"
      ]
     },
     "metadata": {},
     "output_type": "display_data"
    },
    {
     "name": "stdout",
     "output_type": "stream",
     "text": [
      "Time: 8.53s, Current: 0.4597626\n"
     ]
    },
    {
     "data": {
      "text/plain": [
       "<Figure size 640x480 with 0 Axes>"
      ]
     },
     "metadata": {},
     "output_type": "display_data"
    },
    {
     "name": "stdout",
     "output_type": "stream",
     "text": [
      "Time: 9.03s, Current: 0.4597629\n"
     ]
    },
    {
     "data": {
      "text/plain": [
       "<Figure size 640x480 with 0 Axes>"
      ]
     },
     "metadata": {},
     "output_type": "display_data"
    },
    {
     "name": "stdout",
     "output_type": "stream",
     "text": [
      "Time: 9.53s, Current: 0.45976330000000004\n"
     ]
    },
    {
     "data": {
      "text/plain": [
       "<Figure size 640x480 with 0 Axes>"
      ]
     },
     "metadata": {},
     "output_type": "display_data"
    },
    {
     "name": "stdout",
     "output_type": "stream",
     "text": [
      "Time: 10.03s, Current: 0.4597637\n"
     ]
    },
    {
     "data": {
      "text/plain": [
       "<Figure size 640x480 with 0 Axes>"
      ]
     },
     "metadata": {},
     "output_type": "display_data"
    },
    {
     "name": "stdout",
     "output_type": "stream",
     "text": [
      "Time: 10.53s, Current: 0.45976449999999996\n"
     ]
    },
    {
     "data": {
      "text/plain": [
       "<Figure size 640x480 with 0 Axes>"
      ]
     },
     "metadata": {},
     "output_type": "display_data"
    },
    {
     "name": "stdout",
     "output_type": "stream",
     "text": [
      "Time: 11.03s, Current: 0.45976449999999996\n"
     ]
    },
    {
     "data": {
      "text/plain": [
       "<Figure size 640x480 with 0 Axes>"
      ]
     },
     "metadata": {},
     "output_type": "display_data"
    },
    {
     "name": "stdout",
     "output_type": "stream",
     "text": [
      "Time: 11.53s, Current: 0.45976520000000004\n"
     ]
    },
    {
     "data": {
      "text/plain": [
       "<Figure size 640x480 with 0 Axes>"
      ]
     },
     "metadata": {},
     "output_type": "display_data"
    },
    {
     "name": "stdout",
     "output_type": "stream",
     "text": [
      "Time: 12.03s, Current: 0.4597654\n"
     ]
    },
    {
     "data": {
      "text/plain": [
       "<Figure size 640x480 with 0 Axes>"
      ]
     },
     "metadata": {},
     "output_type": "display_data"
    },
    {
     "name": "stdout",
     "output_type": "stream",
     "text": [
      "Time: 12.53s, Current: 0.4597658\n"
     ]
    },
    {
     "data": {
      "text/plain": [
       "<Figure size 640x480 with 0 Axes>"
      ]
     },
     "metadata": {},
     "output_type": "display_data"
    },
    {
     "name": "stdout",
     "output_type": "stream",
     "text": [
      "Time: 13.03s, Current: 0.4597663\n"
     ]
    },
    {
     "data": {
      "text/plain": [
       "<Figure size 640x480 with 0 Axes>"
      ]
     },
     "metadata": {},
     "output_type": "display_data"
    },
    {
     "name": "stdout",
     "output_type": "stream",
     "text": [
      "Time: 13.53s, Current: 0.45976680000000003\n"
     ]
    },
    {
     "data": {
      "text/plain": [
       "<Figure size 640x480 with 0 Axes>"
      ]
     },
     "metadata": {},
     "output_type": "display_data"
    },
    {
     "name": "stdout",
     "output_type": "stream",
     "text": [
      "Time: 14.03s, Current: 0.4597671\n"
     ]
    },
    {
     "data": {
      "text/plain": [
       "<Figure size 640x480 with 0 Axes>"
      ]
     },
     "metadata": {},
     "output_type": "display_data"
    },
    {
     "name": "stdout",
     "output_type": "stream",
     "text": [
      "Time: 14.53s, Current: 0.4597677\n"
     ]
    },
    {
     "data": {
      "text/plain": [
       "<Figure size 640x480 with 0 Axes>"
      ]
     },
     "metadata": {},
     "output_type": "display_data"
    },
    {
     "name": "stdout",
     "output_type": "stream",
     "text": [
      "Time: 15.03s, Current: 0.45976859999999997\n"
     ]
    },
    {
     "data": {
      "text/plain": [
       "<Figure size 640x480 with 0 Axes>"
      ]
     },
     "metadata": {},
     "output_type": "display_data"
    },
    {
     "name": "stdout",
     "output_type": "stream",
     "text": [
      "Time: 15.53s, Current: 0.4597685\n"
     ]
    },
    {
     "data": {
      "text/plain": [
       "<Figure size 640x480 with 0 Axes>"
      ]
     },
     "metadata": {},
     "output_type": "display_data"
    },
    {
     "name": "stdout",
     "output_type": "stream",
     "text": [
      "Time: 16.03s, Current: 0.4597693\n"
     ]
    },
    {
     "data": {
      "text/plain": [
       "<Figure size 640x480 with 0 Axes>"
      ]
     },
     "metadata": {},
     "output_type": "display_data"
    },
    {
     "name": "stdout",
     "output_type": "stream",
     "text": [
      "Time: 16.53s, Current: 0.4597698\n"
     ]
    },
    {
     "data": {
      "text/plain": [
       "<Figure size 640x480 with 0 Axes>"
      ]
     },
     "metadata": {},
     "output_type": "display_data"
    },
    {
     "name": "stdout",
     "output_type": "stream",
     "text": [
      "Time: 17.03s, Current: 0.45977080000000004\n"
     ]
    },
    {
     "data": {
      "text/plain": [
       "<Figure size 640x480 with 0 Axes>"
      ]
     },
     "metadata": {},
     "output_type": "display_data"
    },
    {
     "name": "stdout",
     "output_type": "stream",
     "text": [
      "Time: 17.53s, Current: 0.4597712\n"
     ]
    },
    {
     "data": {
      "text/plain": [
       "<Figure size 640x480 with 0 Axes>"
      ]
     },
     "metadata": {},
     "output_type": "display_data"
    },
    {
     "name": "stdout",
     "output_type": "stream",
     "text": [
      "Time: 18.03s, Current: 0.45977110000000004\n"
     ]
    },
    {
     "data": {
      "text/plain": [
       "<Figure size 640x480 with 0 Axes>"
      ]
     },
     "metadata": {},
     "output_type": "display_data"
    },
    {
     "name": "stdout",
     "output_type": "stream",
     "text": [
      "Time: 18.53s, Current: 0.4597723\n"
     ]
    },
    {
     "data": {
      "text/plain": [
       "<Figure size 640x480 with 0 Axes>"
      ]
     },
     "metadata": {},
     "output_type": "display_data"
    },
    {
     "name": "stdout",
     "output_type": "stream",
     "text": [
      "Time: 19.03s, Current: 0.4597715\n"
     ]
    },
    {
     "data": {
      "text/plain": [
       "<Figure size 640x480 with 0 Axes>"
      ]
     },
     "metadata": {},
     "output_type": "display_data"
    },
    {
     "name": "stdout",
     "output_type": "stream",
     "text": [
      "Time: 19.54s, Current: 0.4597722\n"
     ]
    },
    {
     "data": {
      "text/plain": [
       "<Figure size 640x480 with 0 Axes>"
      ]
     },
     "metadata": {},
     "output_type": "display_data"
    },
    {
     "name": "stdout",
     "output_type": "stream",
     "text": [
      "Time: 20.04s, Current: 0.4597726\n"
     ]
    },
    {
     "data": {
      "text/plain": [
       "<Figure size 640x480 with 0 Axes>"
      ]
     },
     "metadata": {},
     "output_type": "display_data"
    },
    {
     "name": "stdout",
     "output_type": "stream",
     "text": [
      "Time: 20.54s, Current: 0.45977209999999996\n"
     ]
    },
    {
     "data": {
      "text/plain": [
       "<Figure size 640x480 with 0 Axes>"
      ]
     },
     "metadata": {},
     "output_type": "display_data"
    },
    {
     "name": "stdout",
     "output_type": "stream",
     "text": [
      "Time: 21.04s, Current: 0.4597715\n"
     ]
    },
    {
     "data": {
      "text/plain": [
       "<Figure size 640x480 with 0 Axes>"
      ]
     },
     "metadata": {},
     "output_type": "display_data"
    },
    {
     "name": "stdout",
     "output_type": "stream",
     "text": [
      "Time: 21.54s, Current: 0.45977049999999997\n"
     ]
    },
    {
     "data": {
      "text/plain": [
       "<Figure size 640x480 with 0 Axes>"
      ]
     },
     "metadata": {},
     "output_type": "display_data"
    },
    {
     "name": "stdout",
     "output_type": "stream",
     "text": [
      "Time: 22.04s, Current: 0.4597701\n"
     ]
    },
    {
     "data": {
      "text/plain": [
       "<Figure size 640x480 with 0 Axes>"
      ]
     },
     "metadata": {},
     "output_type": "display_data"
    },
    {
     "name": "stdout",
     "output_type": "stream",
     "text": [
      "Time: 22.54s, Current: 0.4597701\n"
     ]
    },
    {
     "data": {
      "text/plain": [
       "<Figure size 640x480 with 0 Axes>"
      ]
     },
     "metadata": {},
     "output_type": "display_data"
    },
    {
     "name": "stdout",
     "output_type": "stream",
     "text": [
      "Time: 23.04s, Current: 0.459769\n"
     ]
    },
    {
     "data": {
      "text/plain": [
       "<Figure size 640x480 with 0 Axes>"
      ]
     },
     "metadata": {},
     "output_type": "display_data"
    },
    {
     "name": "stdout",
     "output_type": "stream",
     "text": [
      "Time: 23.54s, Current: 0.4597693\n"
     ]
    },
    {
     "data": {
      "text/plain": [
       "<Figure size 640x480 with 0 Axes>"
      ]
     },
     "metadata": {},
     "output_type": "display_data"
    },
    {
     "name": "stdout",
     "output_type": "stream",
     "text": [
      "Time: 24.04s, Current: 0.4597693\n"
     ]
    },
    {
     "data": {
      "text/plain": [
       "<Figure size 640x480 with 0 Axes>"
      ]
     },
     "metadata": {},
     "output_type": "display_data"
    },
    {
     "name": "stdout",
     "output_type": "stream",
     "text": [
      "Time: 24.54s, Current: 0.4597688\n"
     ]
    },
    {
     "data": {
      "text/plain": [
       "<Figure size 640x480 with 0 Axes>"
      ]
     },
     "metadata": {},
     "output_type": "display_data"
    },
    {
     "name": "stdout",
     "output_type": "stream",
     "text": [
      "Time: 25.04s, Current: 0.45976829999999996\n"
     ]
    },
    {
     "data": {
      "text/plain": [
       "<Figure size 640x480 with 0 Axes>"
      ]
     },
     "metadata": {},
     "output_type": "display_data"
    },
    {
     "name": "stdout",
     "output_type": "stream",
     "text": [
      "Time: 25.54s, Current: 0.459768\n"
     ]
    },
    {
     "data": {
      "text/plain": [
       "<Figure size 640x480 with 0 Axes>"
      ]
     },
     "metadata": {},
     "output_type": "display_data"
    },
    {
     "name": "stdout",
     "output_type": "stream",
     "text": [
      "Time: 26.04s, Current: 0.4597682\n"
     ]
    },
    {
     "data": {
      "text/plain": [
       "<Figure size 640x480 with 0 Axes>"
      ]
     },
     "metadata": {},
     "output_type": "display_data"
    },
    {
     "name": "stdout",
     "output_type": "stream",
     "text": [
      "Time: 26.54s, Current: 0.4597679\n"
     ]
    },
    {
     "data": {
      "text/plain": [
       "<Figure size 640x480 with 0 Axes>"
      ]
     },
     "metadata": {},
     "output_type": "display_data"
    },
    {
     "name": "stdout",
     "output_type": "stream",
     "text": [
      "Time: 27.04s, Current: 0.45976809999999996\n"
     ]
    },
    {
     "data": {
      "text/plain": [
       "<Figure size 640x480 with 0 Axes>"
      ]
     },
     "metadata": {},
     "output_type": "display_data"
    },
    {
     "name": "stdout",
     "output_type": "stream",
     "text": [
      "Time: 27.54s, Current: 0.4597676\n"
     ]
    },
    {
     "data": {
      "text/plain": [
       "<Figure size 640x480 with 0 Axes>"
      ]
     },
     "metadata": {},
     "output_type": "display_data"
    },
    {
     "name": "stdout",
     "output_type": "stream",
     "text": [
      "Time: 28.04s, Current: 0.4597676\n"
     ]
    },
    {
     "data": {
      "text/plain": [
       "<Figure size 640x480 with 0 Axes>"
      ]
     },
     "metadata": {},
     "output_type": "display_data"
    },
    {
     "name": "stdout",
     "output_type": "stream",
     "text": [
      "Time: 28.54s, Current: 0.459768\n"
     ]
    },
    {
     "data": {
      "text/plain": [
       "<Figure size 640x480 with 0 Axes>"
      ]
     },
     "metadata": {},
     "output_type": "display_data"
    },
    {
     "name": "stdout",
     "output_type": "stream",
     "text": [
      "Time: 29.04s, Current: 0.4597672\n"
     ]
    },
    {
     "data": {
      "text/plain": [
       "<Figure size 640x480 with 0 Axes>"
      ]
     },
     "metadata": {},
     "output_type": "display_data"
    },
    {
     "name": "stdout",
     "output_type": "stream",
     "text": [
      "Time: 29.54s, Current: 0.4597678\n"
     ]
    },
    {
     "data": {
      "text/plain": [
       "<Figure size 640x480 with 0 Axes>"
      ]
     },
     "metadata": {},
     "output_type": "display_data"
    },
    {
     "name": "stdout",
     "output_type": "stream",
     "text": [
      "Time: 30.04s, Current: 0.4597674\n"
     ]
    },
    {
     "data": {
      "text/plain": [
       "<Figure size 640x480 with 0 Axes>"
      ]
     },
     "metadata": {},
     "output_type": "display_data"
    },
    {
     "name": "stdout",
     "output_type": "stream",
     "text": [
      "Time: 30.54s, Current: 0.4597674\n"
     ]
    },
    {
     "data": {
      "text/plain": [
       "<Figure size 640x480 with 0 Axes>"
      ]
     },
     "metadata": {},
     "output_type": "display_data"
    },
    {
     "name": "stdout",
     "output_type": "stream",
     "text": [
      "Time: 31.04s, Current: 0.4597669\n"
     ]
    },
    {
     "data": {
      "text/plain": [
       "<Figure size 640x480 with 0 Axes>"
      ]
     },
     "metadata": {},
     "output_type": "display_data"
    },
    {
     "name": "stdout",
     "output_type": "stream",
     "text": [
      "Time: 31.55s, Current: 0.4597677\n"
     ]
    },
    {
     "data": {
      "text/plain": [
       "<Figure size 640x480 with 0 Axes>"
      ]
     },
     "metadata": {},
     "output_type": "display_data"
    },
    {
     "name": "stdout",
     "output_type": "stream",
     "text": [
      "Time: 32.05s, Current: 0.45976809999999996\n"
     ]
    },
    {
     "data": {
      "text/plain": [
       "<Figure size 640x480 with 0 Axes>"
      ]
     },
     "metadata": {},
     "output_type": "display_data"
    },
    {
     "name": "stdout",
     "output_type": "stream",
     "text": [
      "Time: 32.55s, Current: 0.45976859999999997\n"
     ]
    },
    {
     "data": {
      "text/plain": [
       "<Figure size 640x480 with 0 Axes>"
      ]
     },
     "metadata": {},
     "output_type": "display_data"
    },
    {
     "name": "stdout",
     "output_type": "stream",
     "text": [
      "Time: 33.05s, Current: 0.45976859999999997\n"
     ]
    },
    {
     "data": {
      "text/plain": [
       "<Figure size 640x480 with 0 Axes>"
      ]
     },
     "metadata": {},
     "output_type": "display_data"
    },
    {
     "name": "stdout",
     "output_type": "stream",
     "text": [
      "Time: 33.55s, Current: 0.4597694\n"
     ]
    },
    {
     "data": {
      "text/plain": [
       "<Figure size 640x480 with 0 Axes>"
      ]
     },
     "metadata": {},
     "output_type": "display_data"
    },
    {
     "name": "stdout",
     "output_type": "stream",
     "text": [
      "Time: 34.05s, Current: 0.4597694\n"
     ]
    },
    {
     "data": {
      "text/plain": [
       "<Figure size 640x480 with 0 Axes>"
      ]
     },
     "metadata": {},
     "output_type": "display_data"
    },
    {
     "name": "stdout",
     "output_type": "stream",
     "text": [
      "Time: 34.55s, Current: 0.4597701\n"
     ]
    },
    {
     "data": {
      "text/plain": [
       "<Figure size 640x480 with 0 Axes>"
      ]
     },
     "metadata": {},
     "output_type": "display_data"
    },
    {
     "name": "stdout",
     "output_type": "stream",
     "text": [
      "Time: 35.05s, Current: 0.45977080000000004\n"
     ]
    },
    {
     "data": {
      "text/plain": [
       "<Figure size 640x480 with 0 Axes>"
      ]
     },
     "metadata": {},
     "output_type": "display_data"
    },
    {
     "name": "stdout",
     "output_type": "stream",
     "text": [
      "Time: 35.55s, Current: 0.4597714\n"
     ]
    },
    {
     "data": {
      "text/plain": [
       "<Figure size 640x480 with 0 Axes>"
      ]
     },
     "metadata": {},
     "output_type": "display_data"
    },
    {
     "name": "stdout",
     "output_type": "stream",
     "text": [
      "Time: 36.05s, Current: 0.459772\n"
     ]
    },
    {
     "data": {
      "text/plain": [
       "<Figure size 640x480 with 0 Axes>"
      ]
     },
     "metadata": {},
     "output_type": "display_data"
    },
    {
     "name": "stdout",
     "output_type": "stream",
     "text": [
      "Time: 36.55s, Current: 0.45977270000000003\n"
     ]
    },
    {
     "data": {
      "text/plain": [
       "<Figure size 640x480 with 0 Axes>"
      ]
     },
     "metadata": {},
     "output_type": "display_data"
    },
    {
     "name": "stdout",
     "output_type": "stream",
     "text": [
      "Time: 37.05s, Current: 0.4597728\n"
     ]
    },
    {
     "data": {
      "text/plain": [
       "<Figure size 640x480 with 0 Axes>"
      ]
     },
     "metadata": {},
     "output_type": "display_data"
    },
    {
     "name": "stdout",
     "output_type": "stream",
     "text": [
      "Time: 37.55s, Current: 0.4597731\n"
     ]
    },
    {
     "data": {
      "text/plain": [
       "<Figure size 640x480 with 0 Axes>"
      ]
     },
     "metadata": {},
     "output_type": "display_data"
    },
    {
     "name": "stdout",
     "output_type": "stream",
     "text": [
      "Time: 38.05s, Current: 0.4597736\n"
     ]
    },
    {
     "data": {
      "text/plain": [
       "<Figure size 640x480 with 0 Axes>"
      ]
     },
     "metadata": {},
     "output_type": "display_data"
    },
    {
     "name": "stdout",
     "output_type": "stream",
     "text": [
      "Time: 38.55s, Current: 0.45977460000000003\n"
     ]
    },
    {
     "data": {
      "text/plain": [
       "<Figure size 640x480 with 0 Axes>"
      ]
     },
     "metadata": {},
     "output_type": "display_data"
    },
    {
     "name": "stdout",
     "output_type": "stream",
     "text": [
      "Time: 39.05s, Current: 0.4597747\n"
     ]
    },
    {
     "data": {
      "text/plain": [
       "<Figure size 640x480 with 0 Axes>"
      ]
     },
     "metadata": {},
     "output_type": "display_data"
    },
    {
     "name": "stdout",
     "output_type": "stream",
     "text": [
      "Time: 39.55s, Current: 0.4597747\n"
     ]
    },
    {
     "data": {
      "text/plain": [
       "<Figure size 640x480 with 0 Axes>"
      ]
     },
     "metadata": {},
     "output_type": "display_data"
    },
    {
     "name": "stdout",
     "output_type": "stream",
     "text": [
      "Time: 40.05s, Current: 0.459775\n"
     ]
    },
    {
     "data": {
      "text/plain": [
       "<Figure size 640x480 with 0 Axes>"
      ]
     },
     "metadata": {},
     "output_type": "display_data"
    },
    {
     "name": "stdout",
     "output_type": "stream",
     "text": [
      "Time: 40.55s, Current: 0.4597748\n"
     ]
    },
    {
     "data": {
      "text/plain": [
       "<Figure size 640x480 with 0 Axes>"
      ]
     },
     "metadata": {},
     "output_type": "display_data"
    },
    {
     "name": "stdout",
     "output_type": "stream",
     "text": [
      "Time: 41.05s, Current: 0.4597741\n"
     ]
    },
    {
     "data": {
      "text/plain": [
       "<Figure size 640x480 with 0 Axes>"
      ]
     },
     "metadata": {},
     "output_type": "display_data"
    },
    {
     "name": "stdout",
     "output_type": "stream",
     "text": [
      "Time: 41.55s, Current: 0.45977460000000003\n"
     ]
    },
    {
     "data": {
      "text/plain": [
       "<Figure size 640x480 with 0 Axes>"
      ]
     },
     "metadata": {},
     "output_type": "display_data"
    },
    {
     "name": "stdout",
     "output_type": "stream",
     "text": [
      "Time: 42.05s, Current: 0.45977419999999997\n"
     ]
    },
    {
     "data": {
      "text/plain": [
       "<Figure size 640x480 with 0 Axes>"
      ]
     },
     "metadata": {},
     "output_type": "display_data"
    },
    {
     "name": "stdout",
     "output_type": "stream",
     "text": [
      "Time: 42.55s, Current: 0.45977399999999996\n"
     ]
    },
    {
     "data": {
      "text/plain": [
       "<Figure size 640x480 with 0 Axes>"
      ]
     },
     "metadata": {},
     "output_type": "display_data"
    },
    {
     "name": "stdout",
     "output_type": "stream",
     "text": [
      "Time: 43.05s, Current: 0.4597738\n"
     ]
    },
    {
     "data": {
      "text/plain": [
       "<Figure size 640x480 with 0 Axes>"
      ]
     },
     "metadata": {},
     "output_type": "display_data"
    },
    {
     "name": "stdout",
     "output_type": "stream",
     "text": [
      "Time: 43.55s, Current: 0.45977399999999996\n"
     ]
    },
    {
     "data": {
      "text/plain": [
       "<Figure size 640x480 with 0 Axes>"
      ]
     },
     "metadata": {},
     "output_type": "display_data"
    },
    {
     "name": "stdout",
     "output_type": "stream",
     "text": [
      "Time: 44.05s, Current: 0.4597738\n"
     ]
    },
    {
     "data": {
      "text/plain": [
       "<Figure size 640x480 with 0 Axes>"
      ]
     },
     "metadata": {},
     "output_type": "display_data"
    },
    {
     "name": "stdout",
     "output_type": "stream",
     "text": [
      "Time: 44.55s, Current: 0.4597733\n"
     ]
    },
    {
     "data": {
      "text/plain": [
       "<Figure size 640x480 with 0 Axes>"
      ]
     },
     "metadata": {},
     "output_type": "display_data"
    },
    {
     "name": "stdout",
     "output_type": "stream",
     "text": [
      "Time: 45.05s, Current: 0.4597738\n"
     ]
    },
    {
     "data": {
      "text/plain": [
       "<Figure size 640x480 with 0 Axes>"
      ]
     },
     "metadata": {},
     "output_type": "display_data"
    },
    {
     "name": "stdout",
     "output_type": "stream",
     "text": [
      "Time: 45.55s, Current: 0.45977419999999997\n"
     ]
    },
    {
     "data": {
      "text/plain": [
       "<Figure size 640x480 with 0 Axes>"
      ]
     },
     "metadata": {},
     "output_type": "display_data"
    },
    {
     "name": "stdout",
     "output_type": "stream",
     "text": [
      "Time: 46.05s, Current: 0.45977419999999997\n"
     ]
    },
    {
     "data": {
      "text/plain": [
       "<Figure size 640x480 with 0 Axes>"
      ]
     },
     "metadata": {},
     "output_type": "display_data"
    },
    {
     "name": "stdout",
     "output_type": "stream",
     "text": [
      "Time: 46.56s, Current: 0.45977460000000003\n"
     ]
    },
    {
     "data": {
      "text/plain": [
       "<Figure size 640x480 with 0 Axes>"
      ]
     },
     "metadata": {},
     "output_type": "display_data"
    },
    {
     "name": "stdout",
     "output_type": "stream",
     "text": [
      "Time: 47.06s, Current: 0.459775\n"
     ]
    },
    {
     "data": {
      "text/plain": [
       "<Figure size 640x480 with 0 Axes>"
      ]
     },
     "metadata": {},
     "output_type": "display_data"
    },
    {
     "name": "stdout",
     "output_type": "stream",
     "text": [
      "Time: 47.56s, Current: 0.4597754\n"
     ]
    },
    {
     "data": {
      "text/plain": [
       "<Figure size 640x480 with 0 Axes>"
      ]
     },
     "metadata": {},
     "output_type": "display_data"
    },
    {
     "name": "stdout",
     "output_type": "stream",
     "text": [
      "Time: 48.06s, Current: 0.45977589999999996\n"
     ]
    },
    {
     "data": {
      "text/plain": [
       "<Figure size 640x480 with 0 Axes>"
      ]
     },
     "metadata": {},
     "output_type": "display_data"
    },
    {
     "name": "stdout",
     "output_type": "stream",
     "text": [
      "Time: 48.56s, Current: 0.45977609999999997\n"
     ]
    },
    {
     "data": {
      "text/plain": [
       "<Figure size 640x480 with 0 Axes>"
      ]
     },
     "metadata": {},
     "output_type": "display_data"
    },
    {
     "name": "stdout",
     "output_type": "stream",
     "text": [
      "Time: 49.06s, Current: 0.4597767\n"
     ]
    },
    {
     "data": {
      "text/plain": [
       "<Figure size 640x480 with 0 Axes>"
      ]
     },
     "metadata": {},
     "output_type": "display_data"
    },
    {
     "name": "stdout",
     "output_type": "stream",
     "text": [
      "Time: 49.56s, Current: 0.45977700000000005\n"
     ]
    },
    {
     "data": {
      "text/plain": [
       "<Figure size 640x480 with 0 Axes>"
      ]
     },
     "metadata": {},
     "output_type": "display_data"
    },
    {
     "name": "stdout",
     "output_type": "stream",
     "text": [
      "Time: 50.06s, Current: 0.4597774\n"
     ]
    },
    {
     "data": {
      "text/plain": [
       "<Figure size 640x480 with 0 Axes>"
      ]
     },
     "metadata": {},
     "output_type": "display_data"
    },
    {
     "name": "stdout",
     "output_type": "stream",
     "text": [
      "Time: 50.56s, Current: 0.4597772\n"
     ]
    },
    {
     "data": {
      "text/plain": [
       "<Figure size 640x480 with 0 Axes>"
      ]
     },
     "metadata": {},
     "output_type": "display_data"
    },
    {
     "name": "stdout",
     "output_type": "stream",
     "text": [
      "Time: 51.06s, Current: 0.4597775\n"
     ]
    },
    {
     "data": {
      "text/plain": [
       "<Figure size 640x480 with 0 Axes>"
      ]
     },
     "metadata": {},
     "output_type": "display_data"
    },
    {
     "name": "stdout",
     "output_type": "stream",
     "text": [
      "Time: 51.56s, Current: 0.4597779\n"
     ]
    },
    {
     "data": {
      "text/plain": [
       "<Figure size 640x480 with 0 Axes>"
      ]
     },
     "metadata": {},
     "output_type": "display_data"
    },
    {
     "name": "stdout",
     "output_type": "stream",
     "text": [
      "Time: 52.06s, Current: 0.45977779999999996\n"
     ]
    },
    {
     "data": {
      "text/plain": [
       "<Figure size 640x480 with 0 Axes>"
      ]
     },
     "metadata": {},
     "output_type": "display_data"
    },
    {
     "name": "stdout",
     "output_type": "stream",
     "text": [
      "Time: 52.56s, Current: 0.4597783\n"
     ]
    },
    {
     "data": {
      "text/plain": [
       "<Figure size 640x480 with 0 Axes>"
      ]
     },
     "metadata": {},
     "output_type": "display_data"
    },
    {
     "name": "stdout",
     "output_type": "stream",
     "text": [
      "Time: 53.06s, Current: 0.45977840000000003\n"
     ]
    },
    {
     "data": {
      "text/plain": [
       "<Figure size 640x480 with 0 Axes>"
      ]
     },
     "metadata": {},
     "output_type": "display_data"
    },
    {
     "name": "stdout",
     "output_type": "stream",
     "text": [
      "Time: 53.56s, Current: 0.45977840000000003\n"
     ]
    },
    {
     "data": {
      "text/plain": [
       "<Figure size 640x480 with 0 Axes>"
      ]
     },
     "metadata": {},
     "output_type": "display_data"
    },
    {
     "name": "stdout",
     "output_type": "stream",
     "text": [
      "Time: 54.06s, Current: 0.45977890000000005\n"
     ]
    },
    {
     "data": {
      "text/plain": [
       "<Figure size 640x480 with 0 Axes>"
      ]
     },
     "metadata": {},
     "output_type": "display_data"
    },
    {
     "name": "stdout",
     "output_type": "stream",
     "text": [
      "Time: 54.56s, Current: 0.459779\n"
     ]
    },
    {
     "data": {
      "text/plain": [
       "<Figure size 640x480 with 0 Axes>"
      ]
     },
     "metadata": {},
     "output_type": "display_data"
    },
    {
     "name": "stdout",
     "output_type": "stream",
     "text": [
      "Time: 55.06s, Current: 0.45977890000000005\n"
     ]
    },
    {
     "data": {
      "text/plain": [
       "<Figure size 640x480 with 0 Axes>"
      ]
     },
     "metadata": {},
     "output_type": "display_data"
    },
    {
     "name": "stdout",
     "output_type": "stream",
     "text": [
      "Time: 55.56s, Current: 0.4597788\n"
     ]
    },
    {
     "data": {
      "text/plain": [
       "<Figure size 640x480 with 0 Axes>"
      ]
     },
     "metadata": {},
     "output_type": "display_data"
    },
    {
     "name": "stdout",
     "output_type": "stream",
     "text": [
      "Time: 56.06s, Current: 0.45978030000000003\n"
     ]
    },
    {
     "data": {
      "text/plain": [
       "<Figure size 640x480 with 0 Axes>"
      ]
     },
     "metadata": {},
     "output_type": "display_data"
    },
    {
     "name": "stdout",
     "output_type": "stream",
     "text": [
      "Time: 56.56s, Current: 0.4597782\n"
     ]
    },
    {
     "data": {
      "text/plain": [
       "<Figure size 640x480 with 0 Axes>"
      ]
     },
     "metadata": {},
     "output_type": "display_data"
    },
    {
     "name": "stdout",
     "output_type": "stream",
     "text": [
      "Time: 57.06s, Current: 0.4597788\n"
     ]
    },
    {
     "data": {
      "text/plain": [
       "<Figure size 640x480 with 0 Axes>"
      ]
     },
     "metadata": {},
     "output_type": "display_data"
    },
    {
     "name": "stdout",
     "output_type": "stream",
     "text": [
      "Time: 57.56s, Current: 0.4597781\n"
     ]
    },
    {
     "data": {
      "text/plain": [
       "<Figure size 640x480 with 0 Axes>"
      ]
     },
     "metadata": {},
     "output_type": "display_data"
    },
    {
     "name": "stdout",
     "output_type": "stream",
     "text": [
      "Time: 58.06s, Current: 0.4597775\n"
     ]
    },
    {
     "data": {
      "text/plain": [
       "<Figure size 640x480 with 0 Axes>"
      ]
     },
     "metadata": {},
     "output_type": "display_data"
    },
    {
     "name": "stdout",
     "output_type": "stream",
     "text": [
      "Time: 58.56s, Current: 0.4597764\n"
     ]
    },
    {
     "data": {
      "text/plain": [
       "<Figure size 640x480 with 0 Axes>"
      ]
     },
     "metadata": {},
     "output_type": "display_data"
    },
    {
     "name": "stdout",
     "output_type": "stream",
     "text": [
      "Time: 59.06s, Current: 0.45977609999999997\n"
     ]
    },
    {
     "data": {
      "text/plain": [
       "<Figure size 640x480 with 0 Axes>"
      ]
     },
     "metadata": {},
     "output_type": "display_data"
    },
    {
     "name": "stdout",
     "output_type": "stream",
     "text": [
      "Time: 59.56s, Current: 0.459775\n"
     ]
    },
    {
     "data": {
      "text/plain": [
       "<Figure size 640x480 with 0 Axes>"
      ]
     },
     "metadata": {},
     "output_type": "display_data"
    },
    {
     "name": "stdout",
     "output_type": "stream",
     "text": [
      "Time: 60.06s, Current: 0.4597744\n"
     ]
    },
    {
     "data": {
      "text/plain": [
       "<Figure size 640x480 with 0 Axes>"
      ]
     },
     "metadata": {},
     "output_type": "display_data"
    },
    {
     "name": "stdout",
     "output_type": "stream",
     "text": [
      "Time: 60.56s, Current: 0.4597736\n"
     ]
    },
    {
     "data": {
      "text/plain": [
       "<Figure size 640x480 with 0 Axes>"
      ]
     },
     "metadata": {},
     "output_type": "display_data"
    },
    {
     "name": "stdout",
     "output_type": "stream",
     "text": [
      "Time: 61.07s, Current: 0.4597733\n"
     ]
    },
    {
     "data": {
      "text/plain": [
       "<Figure size 640x480 with 0 Axes>"
      ]
     },
     "metadata": {},
     "output_type": "display_data"
    },
    {
     "name": "stdout",
     "output_type": "stream",
     "text": [
      "Time: 61.57s, Current: 0.4597729\n"
     ]
    },
    {
     "data": {
      "text/plain": [
       "<Figure size 640x480 with 0 Axes>"
      ]
     },
     "metadata": {},
     "output_type": "display_data"
    },
    {
     "name": "stdout",
     "output_type": "stream",
     "text": [
      "Time: 62.07s, Current: 0.4597733\n"
     ]
    },
    {
     "data": {
      "text/plain": [
       "<Figure size 640x480 with 0 Axes>"
      ]
     },
     "metadata": {},
     "output_type": "display_data"
    },
    {
     "name": "stdout",
     "output_type": "stream",
     "text": [
      "Time: 62.57s, Current: 0.4597729\n"
     ]
    },
    {
     "data": {
      "text/plain": [
       "<Figure size 640x480 with 0 Axes>"
      ]
     },
     "metadata": {},
     "output_type": "display_data"
    },
    {
     "name": "stdout",
     "output_type": "stream",
     "text": [
      "Time: 63.07s, Current: 0.45977300000000004\n"
     ]
    },
    {
     "data": {
      "text/plain": [
       "<Figure size 640x480 with 0 Axes>"
      ]
     },
     "metadata": {},
     "output_type": "display_data"
    },
    {
     "name": "stdout",
     "output_type": "stream",
     "text": [
      "Time: 63.57s, Current: 0.4597734\n"
     ]
    },
    {
     "data": {
      "text/plain": [
       "<Figure size 640x480 with 0 Axes>"
      ]
     },
     "metadata": {},
     "output_type": "display_data"
    },
    {
     "name": "stdout",
     "output_type": "stream",
     "text": [
      "Time: 64.07s, Current: 0.45977300000000004\n"
     ]
    },
    {
     "data": {
      "text/plain": [
       "<Figure size 640x480 with 0 Axes>"
      ]
     },
     "metadata": {},
     "output_type": "display_data"
    },
    {
     "name": "stdout",
     "output_type": "stream",
     "text": [
      "Time: 64.57s, Current: 0.4597731\n"
     ]
    },
    {
     "data": {
      "text/plain": [
       "<Figure size 640x480 with 0 Axes>"
      ]
     },
     "metadata": {},
     "output_type": "display_data"
    },
    {
     "name": "stdout",
     "output_type": "stream",
     "text": [
      "Time: 65.07s, Current: 0.4597736\n"
     ]
    },
    {
     "data": {
      "text/plain": [
       "<Figure size 640x480 with 0 Axes>"
      ]
     },
     "metadata": {},
     "output_type": "display_data"
    },
    {
     "name": "stdout",
     "output_type": "stream",
     "text": [
      "Time: 65.57s, Current: 0.4597737\n"
     ]
    },
    {
     "data": {
      "text/plain": [
       "<Figure size 640x480 with 0 Axes>"
      ]
     },
     "metadata": {},
     "output_type": "display_data"
    },
    {
     "name": "stdout",
     "output_type": "stream",
     "text": [
      "Time: 66.07s, Current: 0.4597739\n"
     ]
    },
    {
     "data": {
      "text/plain": [
       "<Figure size 640x480 with 0 Axes>"
      ]
     },
     "metadata": {},
     "output_type": "display_data"
    },
    {
     "name": "stdout",
     "output_type": "stream",
     "text": [
      "Time: 66.57s, Current: 0.4597744\n"
     ]
    },
    {
     "data": {
      "text/plain": [
       "<Figure size 640x480 with 0 Axes>"
      ]
     },
     "metadata": {},
     "output_type": "display_data"
    },
    {
     "name": "stdout",
     "output_type": "stream",
     "text": [
      "Time: 67.07s, Current: 0.4597748\n"
     ]
    },
    {
     "data": {
      "text/plain": [
       "<Figure size 640x480 with 0 Axes>"
      ]
     },
     "metadata": {},
     "output_type": "display_data"
    },
    {
     "name": "stdout",
     "output_type": "stream",
     "text": [
      "Time: 67.57s, Current: 0.459775\n"
     ]
    },
    {
     "data": {
      "text/plain": [
       "<Figure size 640x480 with 0 Axes>"
      ]
     },
     "metadata": {},
     "output_type": "display_data"
    },
    {
     "name": "stdout",
     "output_type": "stream",
     "text": [
      "Time: 68.07s, Current: 0.4597752\n"
     ]
    },
    {
     "data": {
      "text/plain": [
       "<Figure size 640x480 with 0 Axes>"
      ]
     },
     "metadata": {},
     "output_type": "display_data"
    },
    {
     "name": "stdout",
     "output_type": "stream",
     "text": [
      "Time: 68.57s, Current: 0.459775\n"
     ]
    },
    {
     "data": {
      "text/plain": [
       "<Figure size 640x480 with 0 Axes>"
      ]
     },
     "metadata": {},
     "output_type": "display_data"
    },
    {
     "name": "stdout",
     "output_type": "stream",
     "text": [
      "Time: 69.07s, Current: 0.4597753\n"
     ]
    },
    {
     "data": {
      "text/plain": [
       "<Figure size 640x480 with 0 Axes>"
      ]
     },
     "metadata": {},
     "output_type": "display_data"
    },
    {
     "name": "stdout",
     "output_type": "stream",
     "text": [
      "Time: 69.57s, Current: 0.4597762\n"
     ]
    },
    {
     "data": {
      "text/plain": [
       "<Figure size 640x480 with 0 Axes>"
      ]
     },
     "metadata": {},
     "output_type": "display_data"
    },
    {
     "name": "stdout",
     "output_type": "stream",
     "text": [
      "Time: 70.07s, Current: 0.4597764\n"
     ]
    },
    {
     "data": {
      "text/plain": [
       "<Figure size 640x480 with 0 Axes>"
      ]
     },
     "metadata": {},
     "output_type": "display_data"
    },
    {
     "name": "stdout",
     "output_type": "stream",
     "text": [
      "Time: 70.57s, Current: 0.4597766\n"
     ]
    },
    {
     "data": {
      "text/plain": [
       "<Figure size 640x480 with 0 Axes>"
      ]
     },
     "metadata": {},
     "output_type": "display_data"
    },
    {
     "name": "stdout",
     "output_type": "stream",
     "text": [
      "Time: 71.07s, Current: 0.4597767\n"
     ]
    },
    {
     "data": {
      "text/plain": [
       "<Figure size 640x480 with 0 Axes>"
      ]
     },
     "metadata": {},
     "output_type": "display_data"
    },
    {
     "name": "stdout",
     "output_type": "stream",
     "text": [
      "Time: 71.57s, Current: 0.4597772\n"
     ]
    },
    {
     "data": {
      "text/plain": [
       "<Figure size 640x480 with 0 Axes>"
      ]
     },
     "metadata": {},
     "output_type": "display_data"
    },
    {
     "name": "stdout",
     "output_type": "stream",
     "text": [
      "Time: 72.07s, Current: 0.45977700000000005\n"
     ]
    },
    {
     "data": {
      "text/plain": [
       "<Figure size 640x480 with 0 Axes>"
      ]
     },
     "metadata": {},
     "output_type": "display_data"
    },
    {
     "name": "stdout",
     "output_type": "stream",
     "text": [
      "Time: 72.57s, Current: 0.4597782\n"
     ]
    },
    {
     "data": {
      "text/plain": [
       "<Figure size 640x480 with 0 Axes>"
      ]
     },
     "metadata": {},
     "output_type": "display_data"
    },
    {
     "name": "stdout",
     "output_type": "stream",
     "text": [
      "Time: 73.07s, Current: 0.4597786\n"
     ]
    },
    {
     "data": {
      "text/plain": [
       "<Figure size 640x480 with 0 Axes>"
      ]
     },
     "metadata": {},
     "output_type": "display_data"
    },
    {
     "name": "stdout",
     "output_type": "stream",
     "text": [
      "Time: 73.57s, Current: 0.4597793\n"
     ]
    },
    {
     "data": {
      "text/plain": [
       "<Figure size 640x480 with 0 Axes>"
      ]
     },
     "metadata": {},
     "output_type": "display_data"
    },
    {
     "name": "stdout",
     "output_type": "stream",
     "text": [
      "Time: 74.07s, Current: 0.4597796\n"
     ]
    },
    {
     "data": {
      "text/plain": [
       "<Figure size 640x480 with 0 Axes>"
      ]
     },
     "metadata": {},
     "output_type": "display_data"
    },
    {
     "name": "stdout",
     "output_type": "stream",
     "text": [
      "Time: 74.57s, Current: 0.4597804\n"
     ]
    },
    {
     "data": {
      "text/plain": [
       "<Figure size 640x480 with 0 Axes>"
      ]
     },
     "metadata": {},
     "output_type": "display_data"
    },
    {
     "name": "stdout",
     "output_type": "stream",
     "text": [
      "Time: 75.07s, Current: 0.4597816\n"
     ]
    },
    {
     "data": {
      "text/plain": [
       "<Figure size 640x480 with 0 Axes>"
      ]
     },
     "metadata": {},
     "output_type": "display_data"
    },
    {
     "name": "stdout",
     "output_type": "stream",
     "text": [
      "Time: 75.58s, Current: 0.4597816\n"
     ]
    },
    {
     "data": {
      "text/plain": [
       "<Figure size 640x480 with 0 Axes>"
      ]
     },
     "metadata": {},
     "output_type": "display_data"
    },
    {
     "name": "stdout",
     "output_type": "stream",
     "text": [
      "Time: 76.08s, Current: 0.459782\n"
     ]
    },
    {
     "data": {
      "text/plain": [
       "<Figure size 640x480 with 0 Axes>"
      ]
     },
     "metadata": {},
     "output_type": "display_data"
    },
    {
     "name": "stdout",
     "output_type": "stream",
     "text": [
      "Time: 76.58s, Current: 0.4597823\n"
     ]
    },
    {
     "data": {
      "text/plain": [
       "<Figure size 640x480 with 0 Axes>"
      ]
     },
     "metadata": {},
     "output_type": "display_data"
    },
    {
     "name": "stdout",
     "output_type": "stream",
     "text": [
      "Time: 77.08s, Current: 0.4597825\n"
     ]
    },
    {
     "data": {
      "text/plain": [
       "<Figure size 640x480 with 0 Axes>"
      ]
     },
     "metadata": {},
     "output_type": "display_data"
    },
    {
     "name": "stdout",
     "output_type": "stream",
     "text": [
      "Time: 77.58s, Current: 0.4597834\n"
     ]
    },
    {
     "data": {
      "text/plain": [
       "<Figure size 640x480 with 0 Axes>"
      ]
     },
     "metadata": {},
     "output_type": "display_data"
    },
    {
     "name": "stdout",
     "output_type": "stream",
     "text": [
      "Time: 78.08s, Current: 0.45978369999999996\n"
     ]
    },
    {
     "data": {
      "text/plain": [
       "<Figure size 640x480 with 0 Axes>"
      ]
     },
     "metadata": {},
     "output_type": "display_data"
    },
    {
     "name": "stdout",
     "output_type": "stream",
     "text": [
      "Time: 78.58s, Current: 0.4597844\n"
     ]
    },
    {
     "data": {
      "text/plain": [
       "<Figure size 640x480 with 0 Axes>"
      ]
     },
     "metadata": {},
     "output_type": "display_data"
    },
    {
     "name": "stdout",
     "output_type": "stream",
     "text": [
      "Time: 79.08s, Current: 0.4597849\n"
     ]
    },
    {
     "data": {
      "text/plain": [
       "<Figure size 640x480 with 0 Axes>"
      ]
     },
     "metadata": {},
     "output_type": "display_data"
    },
    {
     "name": "stdout",
     "output_type": "stream",
     "text": [
      "Time: 79.58s, Current: 0.4597857\n"
     ]
    },
    {
     "data": {
      "text/plain": [
       "<Figure size 640x480 with 0 Axes>"
      ]
     },
     "metadata": {},
     "output_type": "display_data"
    },
    {
     "name": "stdout",
     "output_type": "stream",
     "text": [
      "Time: 80.08s, Current: 0.45978600000000003\n"
     ]
    },
    {
     "data": {
      "text/plain": [
       "<Figure size 640x480 with 0 Axes>"
      ]
     },
     "metadata": {},
     "output_type": "display_data"
    },
    {
     "name": "stdout",
     "output_type": "stream",
     "text": [
      "Time: 80.58s, Current: 0.45978579999999997\n"
     ]
    },
    {
     "data": {
      "text/plain": [
       "<Figure size 640x480 with 0 Axes>"
      ]
     },
     "metadata": {},
     "output_type": "display_data"
    },
    {
     "name": "stdout",
     "output_type": "stream",
     "text": [
      "Time: 81.08s, Current: 0.45978620000000003\n"
     ]
    },
    {
     "data": {
      "text/plain": [
       "<Figure size 640x480 with 0 Axes>"
      ]
     },
     "metadata": {},
     "output_type": "display_data"
    },
    {
     "name": "stdout",
     "output_type": "stream",
     "text": [
      "Time: 81.58s, Current: 0.4597859\n"
     ]
    },
    {
     "data": {
      "text/plain": [
       "<Figure size 640x480 with 0 Axes>"
      ]
     },
     "metadata": {},
     "output_type": "display_data"
    },
    {
     "name": "stdout",
     "output_type": "stream",
     "text": [
      "Time: 82.08s, Current: 0.4597869\n"
     ]
    },
    {
     "data": {
      "text/plain": [
       "<Figure size 640x480 with 0 Axes>"
      ]
     },
     "metadata": {},
     "output_type": "display_data"
    },
    {
     "name": "stdout",
     "output_type": "stream",
     "text": [
      "Time: 82.58s, Current: 0.4597867\n"
     ]
    },
    {
     "data": {
      "text/plain": [
       "<Figure size 640x480 with 0 Axes>"
      ]
     },
     "metadata": {},
     "output_type": "display_data"
    },
    {
     "name": "stdout",
     "output_type": "stream",
     "text": [
      "Time: 83.08s, Current: 0.459787\n"
     ]
    },
    {
     "data": {
      "text/plain": [
       "<Figure size 640x480 with 0 Axes>"
      ]
     },
     "metadata": {},
     "output_type": "display_data"
    },
    {
     "name": "stdout",
     "output_type": "stream",
     "text": [
      "Time: 83.58s, Current: 0.4597869\n"
     ]
    },
    {
     "data": {
      "text/plain": [
       "<Figure size 640x480 with 0 Axes>"
      ]
     },
     "metadata": {},
     "output_type": "display_data"
    },
    {
     "name": "stdout",
     "output_type": "stream",
     "text": [
      "Time: 84.08s, Current: 0.4597867\n"
     ]
    },
    {
     "data": {
      "text/plain": [
       "<Figure size 640x480 with 0 Axes>"
      ]
     },
     "metadata": {},
     "output_type": "display_data"
    },
    {
     "name": "stdout",
     "output_type": "stream",
     "text": [
      "Time: 84.58s, Current: 0.4597865\n"
     ]
    },
    {
     "data": {
      "text/plain": [
       "<Figure size 640x480 with 0 Axes>"
      ]
     },
     "metadata": {},
     "output_type": "display_data"
    },
    {
     "name": "stdout",
     "output_type": "stream",
     "text": [
      "Time: 85.08s, Current: 0.4597866\n"
     ]
    },
    {
     "data": {
      "text/plain": [
       "<Figure size 640x480 with 0 Axes>"
      ]
     },
     "metadata": {},
     "output_type": "display_data"
    },
    {
     "name": "stdout",
     "output_type": "stream",
     "text": [
      "Time: 85.58s, Current: 0.45978600000000003\n"
     ]
    },
    {
     "data": {
      "text/plain": [
       "<Figure size 640x480 with 0 Axes>"
      ]
     },
     "metadata": {},
     "output_type": "display_data"
    },
    {
     "name": "stdout",
     "output_type": "stream",
     "text": [
      "Time: 86.08s, Current: 0.4597855\n"
     ]
    },
    {
     "data": {
      "text/plain": [
       "<Figure size 640x480 with 0 Axes>"
      ]
     },
     "metadata": {},
     "output_type": "display_data"
    },
    {
     "name": "stdout",
     "output_type": "stream",
     "text": [
      "Time: 86.58s, Current: 0.4597859\n"
     ]
    },
    {
     "data": {
      "text/plain": [
       "<Figure size 640x480 with 0 Axes>"
      ]
     },
     "metadata": {},
     "output_type": "display_data"
    },
    {
     "name": "stdout",
     "output_type": "stream",
     "text": [
      "Time: 87.08s, Current: 0.4597855\n"
     ]
    },
    {
     "data": {
      "text/plain": [
       "<Figure size 640x480 with 0 Axes>"
      ]
     },
     "metadata": {},
     "output_type": "display_data"
    },
    {
     "name": "stdout",
     "output_type": "stream",
     "text": [
      "Time: 87.59s, Current: 0.4597848\n"
     ]
    },
    {
     "data": {
      "text/plain": [
       "<Figure size 640x480 with 0 Axes>"
      ]
     },
     "metadata": {},
     "output_type": "display_data"
    },
    {
     "name": "stdout",
     "output_type": "stream",
     "text": [
      "Time: 88.09s, Current: 0.4597849\n"
     ]
    },
    {
     "data": {
      "text/plain": [
       "<Figure size 640x480 with 0 Axes>"
      ]
     },
     "metadata": {},
     "output_type": "display_data"
    },
    {
     "name": "stdout",
     "output_type": "stream",
     "text": [
      "Time: 88.59s, Current: 0.4597844\n"
     ]
    },
    {
     "data": {
      "text/plain": [
       "<Figure size 640x480 with 0 Axes>"
      ]
     },
     "metadata": {},
     "output_type": "display_data"
    },
    {
     "name": "stdout",
     "output_type": "stream",
     "text": [
      "Time: 89.09s, Current: 0.4597836\n"
     ]
    },
    {
     "data": {
      "text/plain": [
       "<Figure size 640x480 with 0 Axes>"
      ]
     },
     "metadata": {},
     "output_type": "display_data"
    },
    {
     "name": "stdout",
     "output_type": "stream",
     "text": [
      "Time: 89.59s, Current: 0.45978369999999996\n"
     ]
    },
    {
     "data": {
      "text/plain": [
       "<Figure size 640x480 with 0 Axes>"
      ]
     },
     "metadata": {},
     "output_type": "display_data"
    },
    {
     "name": "stdout",
     "output_type": "stream",
     "text": [
      "Time: 90.09s, Current: 0.4597823\n"
     ]
    },
    {
     "data": {
      "text/plain": [
       "<Figure size 640x480 with 0 Axes>"
      ]
     },
     "metadata": {},
     "output_type": "display_data"
    },
    {
     "name": "stdout",
     "output_type": "stream",
     "text": [
      "Time: 90.59s, Current: 0.4597819\n"
     ]
    },
    {
     "data": {
      "text/plain": [
       "<Figure size 640x480 with 0 Axes>"
      ]
     },
     "metadata": {},
     "output_type": "display_data"
    },
    {
     "name": "stdout",
     "output_type": "stream",
     "text": [
      "Time: 91.09s, Current: 0.45978080000000005\n"
     ]
    },
    {
     "data": {
      "text/plain": [
       "<Figure size 640x480 with 0 Axes>"
      ]
     },
     "metadata": {},
     "output_type": "display_data"
    },
    {
     "name": "stdout",
     "output_type": "stream",
     "text": [
      "Time: 91.59s, Current: 0.4597807\n"
     ]
    },
    {
     "data": {
      "text/plain": [
       "<Figure size 640x480 with 0 Axes>"
      ]
     },
     "metadata": {},
     "output_type": "display_data"
    },
    {
     "name": "stdout",
     "output_type": "stream",
     "text": [
      "Time: 92.09s, Current: 0.4597796\n"
     ]
    },
    {
     "data": {
      "text/plain": [
       "<Figure size 640x480 with 0 Axes>"
      ]
     },
     "metadata": {},
     "output_type": "display_data"
    },
    {
     "name": "stdout",
     "output_type": "stream",
     "text": [
      "Time: 92.59s, Current: 0.4597791\n"
     ]
    },
    {
     "data": {
      "text/plain": [
       "<Figure size 640x480 with 0 Axes>"
      ]
     },
     "metadata": {},
     "output_type": "display_data"
    },
    {
     "name": "stdout",
     "output_type": "stream",
     "text": [
      "Time: 93.09s, Current: 0.45977840000000003\n"
     ]
    },
    {
     "data": {
      "text/plain": [
       "<Figure size 640x480 with 0 Axes>"
      ]
     },
     "metadata": {},
     "output_type": "display_data"
    },
    {
     "name": "stdout",
     "output_type": "stream",
     "text": [
      "Time: 93.59s, Current: 0.4597786\n"
     ]
    },
    {
     "data": {
      "text/plain": [
       "<Figure size 640x480 with 0 Axes>"
      ]
     },
     "metadata": {},
     "output_type": "display_data"
    },
    {
     "name": "stdout",
     "output_type": "stream",
     "text": [
      "Time: 94.09s, Current: 0.45977840000000003\n"
     ]
    },
    {
     "data": {
      "text/plain": [
       "<Figure size 640x480 with 0 Axes>"
      ]
     },
     "metadata": {},
     "output_type": "display_data"
    },
    {
     "name": "stdout",
     "output_type": "stream",
     "text": [
      "Time: 94.59s, Current: 0.4597777\n"
     ]
    },
    {
     "data": {
      "text/plain": [
       "<Figure size 640x480 with 0 Axes>"
      ]
     },
     "metadata": {},
     "output_type": "display_data"
    },
    {
     "name": "stdout",
     "output_type": "stream",
     "text": [
      "Time: 95.09s, Current: 0.4597775\n"
     ]
    },
    {
     "data": {
      "text/plain": [
       "<Figure size 640x480 with 0 Axes>"
      ]
     },
     "metadata": {},
     "output_type": "display_data"
    },
    {
     "name": "stdout",
     "output_type": "stream",
     "text": [
      "Time: 95.59s, Current: 0.45977700000000005\n"
     ]
    },
    {
     "data": {
      "text/plain": [
       "<Figure size 640x480 with 0 Axes>"
      ]
     },
     "metadata": {},
     "output_type": "display_data"
    },
    {
     "name": "stdout",
     "output_type": "stream",
     "text": [
      "Time: 96.09s, Current: 0.4597758\n"
     ]
    },
    {
     "data": {
      "text/plain": [
       "<Figure size 640x480 with 0 Axes>"
      ]
     },
     "metadata": {},
     "output_type": "display_data"
    },
    {
     "name": "stdout",
     "output_type": "stream",
     "text": [
      "Time: 96.59s, Current: 0.45977490000000004\n"
     ]
    },
    {
     "data": {
      "text/plain": [
       "<Figure size 640x480 with 0 Axes>"
      ]
     },
     "metadata": {},
     "output_type": "display_data"
    },
    {
     "name": "stdout",
     "output_type": "stream",
     "text": [
      "Time: 97.10s, Current: 0.4597741\n"
     ]
    },
    {
     "data": {
      "text/plain": [
       "<Figure size 640x480 with 0 Axes>"
      ]
     },
     "metadata": {},
     "output_type": "display_data"
    },
    {
     "name": "stdout",
     "output_type": "stream",
     "text": [
      "Time: 97.60s, Current: 0.4597738\n"
     ]
    },
    {
     "data": {
      "text/plain": [
       "<Figure size 640x480 with 0 Axes>"
      ]
     },
     "metadata": {},
     "output_type": "display_data"
    },
    {
     "name": "stdout",
     "output_type": "stream",
     "text": [
      "Time: 98.12s, Current: 0.4597726\n"
     ]
    },
    {
     "data": {
      "text/plain": [
       "<Figure size 640x480 with 0 Axes>"
      ]
     },
     "metadata": {},
     "output_type": "display_data"
    },
    {
     "name": "stdout",
     "output_type": "stream",
     "text": [
      "Time: 98.62s, Current: 0.45977209999999996\n"
     ]
    },
    {
     "data": {
      "text/plain": [
       "<Figure size 640x480 with 0 Axes>"
      ]
     },
     "metadata": {},
     "output_type": "display_data"
    },
    {
     "name": "stdout",
     "output_type": "stream",
     "text": [
      "Time: 99.12s, Current: 0.4597713\n"
     ]
    },
    {
     "data": {
      "text/plain": [
       "<Figure size 640x480 with 0 Axes>"
      ]
     },
     "metadata": {},
     "output_type": "display_data"
    },
    {
     "name": "stdout",
     "output_type": "stream",
     "text": [
      "Time: 99.63s, Current: 0.4597701\n"
     ]
    },
    {
     "data": {
      "text/plain": [
       "<Figure size 640x480 with 0 Axes>"
      ]
     },
     "metadata": {},
     "output_type": "display_data"
    },
    {
     "name": "stdout",
     "output_type": "stream",
     "text": [
      "Time: 100.13s, Current: 0.45977\n"
     ]
    },
    {
     "data": {
      "text/plain": [
       "<Figure size 640x480 with 0 Axes>"
      ]
     },
     "metadata": {},
     "output_type": "display_data"
    },
    {
     "name": "stdout",
     "output_type": "stream",
     "text": [
      "Time: 100.63s, Current: 0.459769\n"
     ]
    },
    {
     "data": {
      "text/plain": [
       "<Figure size 640x480 with 0 Axes>"
      ]
     },
     "metadata": {},
     "output_type": "display_data"
    },
    {
     "name": "stdout",
     "output_type": "stream",
     "text": [
      "Time: 101.13s, Current: 0.4597688\n"
     ]
    },
    {
     "data": {
      "text/plain": [
       "<Figure size 640x480 with 0 Axes>"
      ]
     },
     "metadata": {},
     "output_type": "display_data"
    },
    {
     "name": "stdout",
     "output_type": "stream",
     "text": [
      "Time: 101.63s, Current: 0.45976859999999997\n"
     ]
    },
    {
     "data": {
      "text/plain": [
       "<Figure size 640x480 with 0 Axes>"
      ]
     },
     "metadata": {},
     "output_type": "display_data"
    },
    {
     "name": "stdout",
     "output_type": "stream",
     "text": [
      "Time: 102.13s, Current: 0.45976829999999996\n"
     ]
    },
    {
     "data": {
      "text/plain": [
       "<Figure size 640x480 with 0 Axes>"
      ]
     },
     "metadata": {},
     "output_type": "display_data"
    },
    {
     "name": "stdout",
     "output_type": "stream",
     "text": [
      "Time: 102.63s, Current: 0.4597676\n"
     ]
    },
    {
     "data": {
      "text/plain": [
       "<Figure size 640x480 with 0 Axes>"
      ]
     },
     "metadata": {},
     "output_type": "display_data"
    },
    {
     "name": "stdout",
     "output_type": "stream",
     "text": [
      "Time: 103.13s, Current: 0.4597671\n"
     ]
    },
    {
     "data": {
      "text/plain": [
       "<Figure size 640x480 with 0 Axes>"
      ]
     },
     "metadata": {},
     "output_type": "display_data"
    },
    {
     "name": "stdout",
     "output_type": "stream",
     "text": [
      "Time: 103.63s, Current: 0.45976730000000005\n"
     ]
    },
    {
     "data": {
      "text/plain": [
       "<Figure size 640x480 with 0 Axes>"
      ]
     },
     "metadata": {},
     "output_type": "display_data"
    },
    {
     "name": "stdout",
     "output_type": "stream",
     "text": [
      "Time: 104.13s, Current: 0.4597667\n"
     ]
    },
    {
     "data": {
      "text/plain": [
       "<Figure size 640x480 with 0 Axes>"
      ]
     },
     "metadata": {},
     "output_type": "display_data"
    },
    {
     "name": "stdout",
     "output_type": "stream",
     "text": [
      "Time: 104.63s, Current: 0.4597666\n"
     ]
    },
    {
     "data": {
      "text/plain": [
       "<Figure size 640x480 with 0 Axes>"
      ]
     },
     "metadata": {},
     "output_type": "display_data"
    },
    {
     "name": "stdout",
     "output_type": "stream",
     "text": [
      "Time: 105.13s, Current: 0.4597667\n"
     ]
    },
    {
     "data": {
      "text/plain": [
       "<Figure size 640x480 with 0 Axes>"
      ]
     },
     "metadata": {},
     "output_type": "display_data"
    },
    {
     "name": "stdout",
     "output_type": "stream",
     "text": [
      "Time: 105.63s, Current: 0.4597658\n"
     ]
    },
    {
     "data": {
      "text/plain": [
       "<Figure size 640x480 with 0 Axes>"
      ]
     },
     "metadata": {},
     "output_type": "display_data"
    },
    {
     "name": "stdout",
     "output_type": "stream",
     "text": [
      "Time: 106.13s, Current: 0.4597658\n"
     ]
    },
    {
     "data": {
      "text/plain": [
       "<Figure size 640x480 with 0 Axes>"
      ]
     },
     "metadata": {},
     "output_type": "display_data"
    },
    {
     "name": "stdout",
     "output_type": "stream",
     "text": [
      "Time: 106.63s, Current: 0.4597667\n"
     ]
    },
    {
     "data": {
      "text/plain": [
       "<Figure size 640x480 with 0 Axes>"
      ]
     },
     "metadata": {},
     "output_type": "display_data"
    },
    {
     "name": "stdout",
     "output_type": "stream",
     "text": [
      "Time: 107.13s, Current: 0.4597666\n"
     ]
    },
    {
     "data": {
      "text/plain": [
       "<Figure size 640x480 with 0 Axes>"
      ]
     },
     "metadata": {},
     "output_type": "display_data"
    },
    {
     "name": "stdout",
     "output_type": "stream",
     "text": [
      "Time: 107.63s, Current: 0.4597666\n"
     ]
    },
    {
     "data": {
      "text/plain": [
       "<Figure size 640x480 with 0 Axes>"
      ]
     },
     "metadata": {},
     "output_type": "display_data"
    },
    {
     "name": "stdout",
     "output_type": "stream",
     "text": [
      "Time: 108.13s, Current: 0.4597678\n"
     ]
    },
    {
     "data": {
      "text/plain": [
       "<Figure size 640x480 with 0 Axes>"
      ]
     },
     "metadata": {},
     "output_type": "display_data"
    },
    {
     "name": "stdout",
     "output_type": "stream",
     "text": [
      "Time: 108.63s, Current: 0.4597679\n"
     ]
    },
    {
     "data": {
      "text/plain": [
       "<Figure size 640x480 with 0 Axes>"
      ]
     },
     "metadata": {},
     "output_type": "display_data"
    },
    {
     "name": "stdout",
     "output_type": "stream",
     "text": [
      "Time: 109.13s, Current: 0.45976859999999997\n"
     ]
    },
    {
     "data": {
      "text/plain": [
       "<Figure size 640x480 with 0 Axes>"
      ]
     },
     "metadata": {},
     "output_type": "display_data"
    },
    {
     "name": "stdout",
     "output_type": "stream",
     "text": [
      "Time: 109.63s, Current: 0.459768\n"
     ]
    },
    {
     "data": {
      "text/plain": [
       "<Figure size 640x480 with 0 Axes>"
      ]
     },
     "metadata": {},
     "output_type": "display_data"
    },
    {
     "name": "stdout",
     "output_type": "stream",
     "text": [
      "Time: 110.13s, Current: 0.4597695\n"
     ]
    },
    {
     "data": {
      "text/plain": [
       "<Figure size 640x480 with 0 Axes>"
      ]
     },
     "metadata": {},
     "output_type": "display_data"
    },
    {
     "name": "stdout",
     "output_type": "stream",
     "text": [
      "Time: 110.63s, Current: 0.4597694\n"
     ]
    },
    {
     "data": {
      "text/plain": [
       "<Figure size 640x480 with 0 Axes>"
      ]
     },
     "metadata": {},
     "output_type": "display_data"
    },
    {
     "name": "stdout",
     "output_type": "stream",
     "text": [
      "Time: 111.13s, Current: 0.4597693\n"
     ]
    },
    {
     "data": {
      "text/plain": [
       "<Figure size 640x480 with 0 Axes>"
      ]
     },
     "metadata": {},
     "output_type": "display_data"
    },
    {
     "name": "stdout",
     "output_type": "stream",
     "text": [
      "Time: 111.63s, Current: 0.4597693\n"
     ]
    },
    {
     "data": {
      "text/plain": [
       "<Figure size 640x480 with 0 Axes>"
      ]
     },
     "metadata": {},
     "output_type": "display_data"
    },
    {
     "name": "stdout",
     "output_type": "stream",
     "text": [
      "Time: 112.13s, Current: 0.45976870000000003\n"
     ]
    },
    {
     "data": {
      "text/plain": [
       "<Figure size 640x480 with 0 Axes>"
      ]
     },
     "metadata": {},
     "output_type": "display_data"
    },
    {
     "name": "stdout",
     "output_type": "stream",
     "text": [
      "Time: 112.63s, Current: 0.4597685\n"
     ]
    },
    {
     "data": {
      "text/plain": [
       "<Figure size 640x480 with 0 Axes>"
      ]
     },
     "metadata": {},
     "output_type": "display_data"
    },
    {
     "name": "stdout",
     "output_type": "stream",
     "text": [
      "Time: 113.13s, Current: 0.45976829999999996\n"
     ]
    },
    {
     "data": {
      "text/plain": [
       "<Figure size 640x480 with 0 Axes>"
      ]
     },
     "metadata": {},
     "output_type": "display_data"
    },
    {
     "name": "stdout",
     "output_type": "stream",
     "text": [
      "Time: 113.63s, Current: 0.45976829999999996\n"
     ]
    },
    {
     "data": {
      "text/plain": [
       "<Figure size 640x480 with 0 Axes>"
      ]
     },
     "metadata": {},
     "output_type": "display_data"
    },
    {
     "name": "stdout",
     "output_type": "stream",
     "text": [
      "Time: 114.13s, Current: 0.4597675\n"
     ]
    },
    {
     "data": {
      "text/plain": [
       "<Figure size 640x480 with 0 Axes>"
      ]
     },
     "metadata": {},
     "output_type": "display_data"
    },
    {
     "name": "stdout",
     "output_type": "stream",
     "text": [
      "Time: 114.63s, Current: 0.4597669\n"
     ]
    },
    {
     "data": {
      "text/plain": [
       "<Figure size 640x480 with 0 Axes>"
      ]
     },
     "metadata": {},
     "output_type": "display_data"
    },
    {
     "name": "stdout",
     "output_type": "stream",
     "text": [
      "Time: 115.13s, Current: 0.45976619999999996\n"
     ]
    },
    {
     "data": {
      "text/plain": [
       "<Figure size 640x480 with 0 Axes>"
      ]
     },
     "metadata": {},
     "output_type": "display_data"
    },
    {
     "name": "stdout",
     "output_type": "stream",
     "text": [
      "Time: 115.63s, Current: 0.4597655\n"
     ]
    },
    {
     "data": {
      "text/plain": [
       "<Figure size 640x480 with 0 Axes>"
      ]
     },
     "metadata": {},
     "output_type": "display_data"
    },
    {
     "name": "stdout",
     "output_type": "stream",
     "text": [
      "Time: 116.13s, Current: 0.4597646\n"
     ]
    },
    {
     "data": {
      "text/plain": [
       "<Figure size 640x480 with 0 Axes>"
      ]
     },
     "metadata": {},
     "output_type": "display_data"
    },
    {
     "name": "stdout",
     "output_type": "stream",
     "text": [
      "Time: 116.63s, Current: 0.4597642\n"
     ]
    },
    {
     "data": {
      "text/plain": [
       "<Figure size 640x480 with 0 Axes>"
      ]
     },
     "metadata": {},
     "output_type": "display_data"
    },
    {
     "name": "stdout",
     "output_type": "stream",
     "text": [
      "Time: 117.13s, Current: 0.4597641\n"
     ]
    },
    {
     "data": {
      "text/plain": [
       "<Figure size 640x480 with 0 Axes>"
      ]
     },
     "metadata": {},
     "output_type": "display_data"
    },
    {
     "name": "stdout",
     "output_type": "stream",
     "text": [
      "Time: 117.63s, Current: 0.4597639\n"
     ]
    },
    {
     "data": {
      "text/plain": [
       "<Figure size 640x480 with 0 Axes>"
      ]
     },
     "metadata": {},
     "output_type": "display_data"
    },
    {
     "name": "stdout",
     "output_type": "stream",
     "text": [
      "Time: 118.14s, Current: 0.4597646\n"
     ]
    },
    {
     "data": {
      "text/plain": [
       "<Figure size 640x480 with 0 Axes>"
      ]
     },
     "metadata": {},
     "output_type": "display_data"
    },
    {
     "name": "stdout",
     "output_type": "stream",
     "text": [
      "Time: 118.64s, Current: 0.4597644\n"
     ]
    },
    {
     "data": {
      "text/plain": [
       "<Figure size 640x480 with 0 Axes>"
      ]
     },
     "metadata": {},
     "output_type": "display_data"
    },
    {
     "name": "stdout",
     "output_type": "stream",
     "text": [
      "Time: 119.14s, Current: 0.45976449999999996\n"
     ]
    },
    {
     "data": {
      "text/plain": [
       "<Figure size 640x480 with 0 Axes>"
      ]
     },
     "metadata": {},
     "output_type": "display_data"
    },
    {
     "name": "stdout",
     "output_type": "stream",
     "text": [
      "Time: 119.64s, Current: 0.4597648\n"
     ]
    },
    {
     "data": {
      "text/plain": [
       "<Figure size 640x480 with 0 Axes>"
      ]
     },
     "metadata": {},
     "output_type": "display_data"
    },
    {
     "name": "stdout",
     "output_type": "stream",
     "text": [
      "Time: 120.14s, Current: 0.4597644\n"
     ]
    },
    {
     "data": {
      "text/plain": [
       "<Figure size 640x480 with 0 Axes>"
      ]
     },
     "metadata": {},
     "output_type": "display_data"
    },
    {
     "name": "stdout",
     "output_type": "stream",
     "text": [
      "Time: 120.64s, Current: 0.459765\n"
     ]
    },
    {
     "data": {
      "text/plain": [
       "<Figure size 640x480 with 0 Axes>"
      ]
     },
     "metadata": {},
     "output_type": "display_data"
    },
    {
     "name": "stdout",
     "output_type": "stream",
     "text": [
      "Time: 121.14s, Current: 0.4597654\n"
     ]
    },
    {
     "data": {
      "text/plain": [
       "<Figure size 640x480 with 0 Axes>"
      ]
     },
     "metadata": {},
     "output_type": "display_data"
    },
    {
     "name": "stdout",
     "output_type": "stream",
     "text": [
      "Time: 121.64s, Current: 0.4597661\n"
     ]
    },
    {
     "data": {
      "text/plain": [
       "<Figure size 640x480 with 0 Axes>"
      ]
     },
     "metadata": {},
     "output_type": "display_data"
    },
    {
     "name": "stdout",
     "output_type": "stream",
     "text": [
      "Time: 122.14s, Current: 0.45976639999999996\n"
     ]
    },
    {
     "data": {
      "text/plain": [
       "<Figure size 640x480 with 0 Axes>"
      ]
     },
     "metadata": {},
     "output_type": "display_data"
    },
    {
     "name": "stdout",
     "output_type": "stream",
     "text": [
      "Time: 122.64s, Current: 0.4597667\n"
     ]
    },
    {
     "data": {
      "text/plain": [
       "<Figure size 640x480 with 0 Axes>"
      ]
     },
     "metadata": {},
     "output_type": "display_data"
    },
    {
     "name": "stdout",
     "output_type": "stream",
     "text": [
      "Time: 123.14s, Current: 0.45976680000000003\n"
     ]
    },
    {
     "data": {
      "text/plain": [
       "<Figure size 640x480 with 0 Axes>"
      ]
     },
     "metadata": {},
     "output_type": "display_data"
    },
    {
     "name": "stdout",
     "output_type": "stream",
     "text": [
      "Time: 123.64s, Current: 0.4597672\n"
     ]
    },
    {
     "data": {
      "text/plain": [
       "<Figure size 640x480 with 0 Axes>"
      ]
     },
     "metadata": {},
     "output_type": "display_data"
    },
    {
     "name": "stdout",
     "output_type": "stream",
     "text": [
      "Time: 124.14s, Current: 0.4597677\n"
     ]
    },
    {
     "data": {
      "text/plain": [
       "<Figure size 640x480 with 0 Axes>"
      ]
     },
     "metadata": {},
     "output_type": "display_data"
    },
    {
     "name": "stdout",
     "output_type": "stream",
     "text": [
      "Time: 124.64s, Current: 0.4597682\n"
     ]
    },
    {
     "data": {
      "text/plain": [
       "<Figure size 640x480 with 0 Axes>"
      ]
     },
     "metadata": {},
     "output_type": "display_data"
    },
    {
     "name": "stdout",
     "output_type": "stream",
     "text": [
      "Time: 125.14s, Current: 0.4597674\n"
     ]
    },
    {
     "data": {
      "text/plain": [
       "<Figure size 640x480 with 0 Axes>"
      ]
     },
     "metadata": {},
     "output_type": "display_data"
    },
    {
     "name": "stdout",
     "output_type": "stream",
     "text": [
      "Time: 125.64s, Current: 0.4597679\n"
     ]
    },
    {
     "data": {
      "text/plain": [
       "<Figure size 640x480 with 0 Axes>"
      ]
     },
     "metadata": {},
     "output_type": "display_data"
    },
    {
     "name": "stdout",
     "output_type": "stream",
     "text": [
      "Time: 126.14s, Current: 0.4597676\n"
     ]
    },
    {
     "data": {
      "text/plain": [
       "<Figure size 640x480 with 0 Axes>"
      ]
     },
     "metadata": {},
     "output_type": "display_data"
    },
    {
     "name": "stdout",
     "output_type": "stream",
     "text": [
      "Time: 126.64s, Current: 0.4597679\n"
     ]
    },
    {
     "data": {
      "text/plain": [
       "<Figure size 640x480 with 0 Axes>"
      ]
     },
     "metadata": {},
     "output_type": "display_data"
    },
    {
     "name": "stdout",
     "output_type": "stream",
     "text": [
      "Time: 127.14s, Current: 0.4597679\n"
     ]
    },
    {
     "data": {
      "text/plain": [
       "<Figure size 640x480 with 0 Axes>"
      ]
     },
     "metadata": {},
     "output_type": "display_data"
    },
    {
     "name": "stdout",
     "output_type": "stream",
     "text": [
      "Time: 127.64s, Current: 0.4597677\n"
     ]
    },
    {
     "data": {
      "text/plain": [
       "<Figure size 640x480 with 0 Axes>"
      ]
     },
     "metadata": {},
     "output_type": "display_data"
    },
    {
     "name": "stdout",
     "output_type": "stream",
     "text": [
      "Time: 128.14s, Current: 0.4597678\n"
     ]
    },
    {
     "data": {
      "text/plain": [
       "<Figure size 640x480 with 0 Axes>"
      ]
     },
     "metadata": {},
     "output_type": "display_data"
    },
    {
     "name": "stdout",
     "output_type": "stream",
     "text": [
      "Time: 128.64s, Current: 0.45976829999999996\n"
     ]
    },
    {
     "data": {
      "text/plain": [
       "<Figure size 640x480 with 0 Axes>"
      ]
     },
     "metadata": {},
     "output_type": "display_data"
    },
    {
     "name": "stdout",
     "output_type": "stream",
     "text": [
      "Time: 129.14s, Current: 0.4597688\n"
     ]
    },
    {
     "data": {
      "text/plain": [
       "<Figure size 640x480 with 0 Axes>"
      ]
     },
     "metadata": {},
     "output_type": "display_data"
    },
    {
     "name": "stdout",
     "output_type": "stream",
     "text": [
      "Time: 129.64s, Current: 0.459769\n"
     ]
    },
    {
     "data": {
      "text/plain": [
       "<Figure size 640x480 with 0 Axes>"
      ]
     },
     "metadata": {},
     "output_type": "display_data"
    },
    {
     "name": "stdout",
     "output_type": "stream",
     "text": [
      "Time: 130.14s, Current: 0.4597696\n"
     ]
    },
    {
     "data": {
      "text/plain": [
       "<Figure size 640x480 with 0 Axes>"
      ]
     },
     "metadata": {},
     "output_type": "display_data"
    },
    {
     "name": "stdout",
     "output_type": "stream",
     "text": [
      "Time: 130.64s, Current: 0.4597689\n"
     ]
    },
    {
     "data": {
      "text/plain": [
       "<Figure size 640x480 with 0 Axes>"
      ]
     },
     "metadata": {},
     "output_type": "display_data"
    },
    {
     "name": "stdout",
     "output_type": "stream",
     "text": [
      "Time: 131.14s, Current: 0.45977019999999996\n"
     ]
    },
    {
     "data": {
      "text/plain": [
       "<Figure size 640x480 with 0 Axes>"
      ]
     },
     "metadata": {},
     "output_type": "display_data"
    },
    {
     "name": "stdout",
     "output_type": "stream",
     "text": [
      "Time: 131.65s, Current: 0.4597709\n"
     ]
    },
    {
     "data": {
      "text/plain": [
       "<Figure size 640x480 with 0 Axes>"
      ]
     },
     "metadata": {},
     "output_type": "display_data"
    },
    {
     "name": "stdout",
     "output_type": "stream",
     "text": [
      "Time: 132.15s, Current: 0.459771\n"
     ]
    },
    {
     "data": {
      "text/plain": [
       "<Figure size 640x480 with 0 Axes>"
      ]
     },
     "metadata": {},
     "output_type": "display_data"
    },
    {
     "name": "stdout",
     "output_type": "stream",
     "text": [
      "Time: 132.65s, Current: 0.4597713\n"
     ]
    },
    {
     "data": {
      "text/plain": [
       "<Figure size 640x480 with 0 Axes>"
      ]
     },
     "metadata": {},
     "output_type": "display_data"
    },
    {
     "name": "stdout",
     "output_type": "stream",
     "text": [
      "Time: 133.15s, Current: 0.459772\n"
     ]
    },
    {
     "data": {
      "text/plain": [
       "<Figure size 640x480 with 0 Axes>"
      ]
     },
     "metadata": {},
     "output_type": "display_data"
    },
    {
     "name": "stdout",
     "output_type": "stream",
     "text": [
      "Time: 133.65s, Current: 0.45977250000000003\n"
     ]
    },
    {
     "data": {
      "text/plain": [
       "<Figure size 640x480 with 0 Axes>"
      ]
     },
     "metadata": {},
     "output_type": "display_data"
    },
    {
     "name": "stdout",
     "output_type": "stream",
     "text": [
      "Time: 134.15s, Current: 0.45977270000000003\n"
     ]
    },
    {
     "data": {
      "text/plain": [
       "<Figure size 640x480 with 0 Axes>"
      ]
     },
     "metadata": {},
     "output_type": "display_data"
    },
    {
     "name": "stdout",
     "output_type": "stream",
     "text": [
      "Time: 134.65s, Current: 0.4597736\n"
     ]
    },
    {
     "data": {
      "text/plain": [
       "<Figure size 640x480 with 0 Axes>"
      ]
     },
     "metadata": {},
     "output_type": "display_data"
    },
    {
     "name": "stdout",
     "output_type": "stream",
     "text": [
      "Time: 135.15s, Current: 0.45977399999999996\n"
     ]
    },
    {
     "data": {
      "text/plain": [
       "<Figure size 640x480 with 0 Axes>"
      ]
     },
     "metadata": {},
     "output_type": "display_data"
    },
    {
     "name": "stdout",
     "output_type": "stream",
     "text": [
      "Time: 135.65s, Current: 0.4597748\n"
     ]
    },
    {
     "data": {
      "text/plain": [
       "<Figure size 640x480 with 0 Axes>"
      ]
     },
     "metadata": {},
     "output_type": "display_data"
    },
    {
     "name": "stdout",
     "output_type": "stream",
     "text": [
      "Time: 136.15s, Current: 0.4597757\n"
     ]
    },
    {
     "data": {
      "text/plain": [
       "<Figure size 640x480 with 0 Axes>"
      ]
     },
     "metadata": {},
     "output_type": "display_data"
    },
    {
     "name": "stdout",
     "output_type": "stream",
     "text": [
      "Time: 136.65s, Current: 0.4597756\n"
     ]
    },
    {
     "data": {
      "text/plain": [
       "<Figure size 640x480 with 0 Axes>"
      ]
     },
     "metadata": {},
     "output_type": "display_data"
    },
    {
     "name": "stdout",
     "output_type": "stream",
     "text": [
      "Time: 137.15s, Current: 0.4597754\n"
     ]
    },
    {
     "data": {
      "text/plain": [
       "<Figure size 640x480 with 0 Axes>"
      ]
     },
     "metadata": {},
     "output_type": "display_data"
    },
    {
     "name": "stdout",
     "output_type": "stream",
     "text": [
      "Time: 137.65s, Current: 0.4597753\n"
     ]
    },
    {
     "data": {
      "text/plain": [
       "<Figure size 640x480 with 0 Axes>"
      ]
     },
     "metadata": {},
     "output_type": "display_data"
    },
    {
     "name": "stdout",
     "output_type": "stream",
     "text": [
      "Time: 138.15s, Current: 0.4597738\n"
     ]
    },
    {
     "data": {
      "text/plain": [
       "<Figure size 640x480 with 0 Axes>"
      ]
     },
     "metadata": {},
     "output_type": "display_data"
    },
    {
     "name": "stdout",
     "output_type": "stream",
     "text": [
      "Time: 138.65s, Current: 0.4597731\n"
     ]
    },
    {
     "data": {
      "text/plain": [
       "<Figure size 640x480 with 0 Axes>"
      ]
     },
     "metadata": {},
     "output_type": "display_data"
    },
    {
     "name": "stdout",
     "output_type": "stream",
     "text": [
      "Time: 139.15s, Current: 0.4597726\n"
     ]
    },
    {
     "data": {
      "text/plain": [
       "<Figure size 640x480 with 0 Axes>"
      ]
     },
     "metadata": {},
     "output_type": "display_data"
    },
    {
     "name": "stdout",
     "output_type": "stream",
     "text": [
      "Time: 139.65s, Current: 0.459772\n"
     ]
    },
    {
     "data": {
      "text/plain": [
       "<Figure size 640x480 with 0 Axes>"
      ]
     },
     "metadata": {},
     "output_type": "display_data"
    },
    {
     "name": "stdout",
     "output_type": "stream",
     "text": [
      "Time: 140.15s, Current: 0.45977110000000004\n"
     ]
    },
    {
     "data": {
      "text/plain": [
       "<Figure size 640x480 with 0 Axes>"
      ]
     },
     "metadata": {},
     "output_type": "display_data"
    },
    {
     "name": "stdout",
     "output_type": "stream",
     "text": [
      "Time: 140.65s, Current: 0.4597704\n"
     ]
    },
    {
     "data": {
      "text/plain": [
       "<Figure size 640x480 with 0 Axes>"
      ]
     },
     "metadata": {},
     "output_type": "display_data"
    },
    {
     "name": "stdout",
     "output_type": "stream",
     "text": [
      "Time: 141.15s, Current: 0.4597701\n"
     ]
    },
    {
     "data": {
      "text/plain": [
       "<Figure size 640x480 with 0 Axes>"
      ]
     },
     "metadata": {},
     "output_type": "display_data"
    },
    {
     "name": "stdout",
     "output_type": "stream",
     "text": [
      "Time: 141.65s, Current: 0.4597694\n"
     ]
    },
    {
     "data": {
      "text/plain": [
       "<Figure size 640x480 with 0 Axes>"
      ]
     },
     "metadata": {},
     "output_type": "display_data"
    },
    {
     "name": "stdout",
     "output_type": "stream",
     "text": [
      "Time: 142.15s, Current: 0.4597698\n"
     ]
    },
    {
     "data": {
      "text/plain": [
       "<Figure size 640x480 with 0 Axes>"
      ]
     },
     "metadata": {},
     "output_type": "display_data"
    },
    {
     "name": "stdout",
     "output_type": "stream",
     "text": [
      "Time: 142.66s, Current: 0.45976859999999997\n"
     ]
    },
    {
     "data": {
      "text/plain": [
       "<Figure size 640x480 with 0 Axes>"
      ]
     },
     "metadata": {},
     "output_type": "display_data"
    },
    {
     "name": "stdout",
     "output_type": "stream",
     "text": [
      "Time: 143.16s, Current: 0.45976870000000003\n"
     ]
    },
    {
     "data": {
      "text/plain": [
       "<Figure size 640x480 with 0 Axes>"
      ]
     },
     "metadata": {},
     "output_type": "display_data"
    },
    {
     "name": "stdout",
     "output_type": "stream",
     "text": [
      "Time: 143.66s, Current: 0.45976829999999996\n"
     ]
    },
    {
     "data": {
      "text/plain": [
       "<Figure size 640x480 with 0 Axes>"
      ]
     },
     "metadata": {},
     "output_type": "display_data"
    },
    {
     "name": "stdout",
     "output_type": "stream",
     "text": [
      "Time: 144.16s, Current: 0.45976829999999996\n"
     ]
    },
    {
     "data": {
      "text/plain": [
       "<Figure size 640x480 with 0 Axes>"
      ]
     },
     "metadata": {},
     "output_type": "display_data"
    },
    {
     "name": "stdout",
     "output_type": "stream",
     "text": [
      "Time: 144.66s, Current: 0.4597677\n"
     ]
    },
    {
     "data": {
      "text/plain": [
       "<Figure size 640x480 with 0 Axes>"
      ]
     },
     "metadata": {},
     "output_type": "display_data"
    },
    {
     "name": "stdout",
     "output_type": "stream",
     "text": [
      "Time: 145.16s, Current: 0.4597671\n"
     ]
    },
    {
     "data": {
      "text/plain": [
       "<Figure size 640x480 with 0 Axes>"
      ]
     },
     "metadata": {},
     "output_type": "display_data"
    },
    {
     "name": "stdout",
     "output_type": "stream",
     "text": [
      "Time: 145.66s, Current: 0.4597672\n"
     ]
    },
    {
     "data": {
      "text/plain": [
       "<Figure size 640x480 with 0 Axes>"
      ]
     },
     "metadata": {},
     "output_type": "display_data"
    },
    {
     "name": "stdout",
     "output_type": "stream",
     "text": [
      "Time: 146.16s, Current: 0.4597669\n"
     ]
    },
    {
     "data": {
      "text/plain": [
       "<Figure size 640x480 with 0 Axes>"
      ]
     },
     "metadata": {},
     "output_type": "display_data"
    },
    {
     "name": "stdout",
     "output_type": "stream",
     "text": [
      "Time: 146.66s, Current: 0.45976639999999996\n"
     ]
    },
    {
     "data": {
      "text/plain": [
       "<Figure size 640x480 with 0 Axes>"
      ]
     },
     "metadata": {},
     "output_type": "display_data"
    },
    {
     "name": "stdout",
     "output_type": "stream",
     "text": [
      "Time: 147.16s, Current: 0.4597656\n"
     ]
    },
    {
     "data": {
      "text/plain": [
       "<Figure size 640x480 with 0 Axes>"
      ]
     },
     "metadata": {},
     "output_type": "display_data"
    },
    {
     "name": "stdout",
     "output_type": "stream",
     "text": [
      "Time: 147.66s, Current: 0.4597653\n"
     ]
    },
    {
     "data": {
      "text/plain": [
       "<Figure size 640x480 with 0 Axes>"
      ]
     },
     "metadata": {},
     "output_type": "display_data"
    },
    {
     "name": "stdout",
     "output_type": "stream",
     "text": [
      "Time: 148.16s, Current: 0.4597655\n"
     ]
    },
    {
     "data": {
      "text/plain": [
       "<Figure size 640x480 with 0 Axes>"
      ]
     },
     "metadata": {},
     "output_type": "display_data"
    },
    {
     "name": "stdout",
     "output_type": "stream",
     "text": [
      "Time: 148.66s, Current: 0.45976490000000003\n"
     ]
    },
    {
     "data": {
      "text/plain": [
       "<Figure size 640x480 with 0 Axes>"
      ]
     },
     "metadata": {},
     "output_type": "display_data"
    },
    {
     "name": "stdout",
     "output_type": "stream",
     "text": [
      "Time: 149.16s, Current: 0.45976490000000003\n"
     ]
    },
    {
     "data": {
      "text/plain": [
       "<Figure size 640x480 with 0 Axes>"
      ]
     },
     "metadata": {},
     "output_type": "display_data"
    },
    {
     "name": "stdout",
     "output_type": "stream",
     "text": [
      "Time: 149.66s, Current: 0.4597647\n"
     ]
    },
    {
     "data": {
      "text/plain": [
       "<Figure size 640x480 with 0 Axes>"
      ]
     },
     "metadata": {},
     "output_type": "display_data"
    },
    {
     "name": "stdout",
     "output_type": "stream",
     "text": [
      "Time: 150.16s, Current: 0.459765\n"
     ]
    },
    {
     "data": {
      "text/plain": [
       "<Figure size 640x480 with 0 Axes>"
      ]
     },
     "metadata": {},
     "output_type": "display_data"
    },
    {
     "name": "stdout",
     "output_type": "stream",
     "text": [
      "Time: 150.66s, Current: 0.45976429999999996\n"
     ]
    },
    {
     "data": {
      "text/plain": [
       "<Figure size 640x480 with 0 Axes>"
      ]
     },
     "metadata": {},
     "output_type": "display_data"
    },
    {
     "name": "stdout",
     "output_type": "stream",
     "text": [
      "Time: 151.16s, Current: 0.4597644\n"
     ]
    },
    {
     "data": {
      "text/plain": [
       "<Figure size 640x480 with 0 Axes>"
      ]
     },
     "metadata": {},
     "output_type": "display_data"
    },
    {
     "name": "stdout",
     "output_type": "stream",
     "text": [
      "Time: 151.66s, Current: 0.45976490000000003\n"
     ]
    },
    {
     "data": {
      "text/plain": [
       "<Figure size 640x480 with 0 Axes>"
      ]
     },
     "metadata": {},
     "output_type": "display_data"
    },
    {
     "name": "stdout",
     "output_type": "stream",
     "text": [
      "Time: 152.16s, Current: 0.4597646\n"
     ]
    },
    {
     "data": {
      "text/plain": [
       "<Figure size 640x480 with 0 Axes>"
      ]
     },
     "metadata": {},
     "output_type": "display_data"
    },
    {
     "name": "stdout",
     "output_type": "stream",
     "text": [
      "Time: 152.66s, Current: 0.4597654\n"
     ]
    },
    {
     "data": {
      "text/plain": [
       "<Figure size 640x480 with 0 Axes>"
      ]
     },
     "metadata": {},
     "output_type": "display_data"
    },
    {
     "name": "stdout",
     "output_type": "stream",
     "text": [
      "Time: 153.17s, Current: 0.4597646\n"
     ]
    },
    {
     "data": {
      "text/plain": [
       "<Figure size 640x480 with 0 Axes>"
      ]
     },
     "metadata": {},
     "output_type": "display_data"
    },
    {
     "name": "stdout",
     "output_type": "stream",
     "text": [
      "Time: 153.67s, Current: 0.459765\n"
     ]
    },
    {
     "data": {
      "text/plain": [
       "<Figure size 640x480 with 0 Axes>"
      ]
     },
     "metadata": {},
     "output_type": "display_data"
    },
    {
     "name": "stdout",
     "output_type": "stream",
     "text": [
      "Time: 154.17s, Current: 0.4597646\n"
     ]
    },
    {
     "data": {
      "text/plain": [
       "<Figure size 640x480 with 0 Axes>"
      ]
     },
     "metadata": {},
     "output_type": "display_data"
    },
    {
     "name": "stdout",
     "output_type": "stream",
     "text": [
      "Time: 154.67s, Current: 0.4597646\n"
     ]
    },
    {
     "data": {
      "text/plain": [
       "<Figure size 640x480 with 0 Axes>"
      ]
     },
     "metadata": {},
     "output_type": "display_data"
    },
    {
     "name": "stdout",
     "output_type": "stream",
     "text": [
      "Time: 155.17s, Current: 0.4597655\n"
     ]
    },
    {
     "data": {
      "text/plain": [
       "<Figure size 640x480 with 0 Axes>"
      ]
     },
     "metadata": {},
     "output_type": "display_data"
    },
    {
     "name": "stdout",
     "output_type": "stream",
     "text": [
      "Time: 155.67s, Current: 0.45976520000000004\n"
     ]
    },
    {
     "data": {
      "text/plain": [
       "<Figure size 640x480 with 0 Axes>"
      ]
     },
     "metadata": {},
     "output_type": "display_data"
    },
    {
     "name": "stdout",
     "output_type": "stream",
     "text": [
      "Time: 156.17s, Current: 0.45976520000000004\n"
     ]
    },
    {
     "data": {
      "text/plain": [
       "<Figure size 640x480 with 0 Axes>"
      ]
     },
     "metadata": {},
     "output_type": "display_data"
    },
    {
     "name": "stdout",
     "output_type": "stream",
     "text": [
      "Time: 156.67s, Current: 0.4597647\n"
     ]
    },
    {
     "data": {
      "text/plain": [
       "<Figure size 640x480 with 0 Axes>"
      ]
     },
     "metadata": {},
     "output_type": "display_data"
    },
    {
     "name": "stdout",
     "output_type": "stream",
     "text": [
      "Time: 157.17s, Current: 0.4597651\n"
     ]
    },
    {
     "data": {
      "text/plain": [
       "<Figure size 640x480 with 0 Axes>"
      ]
     },
     "metadata": {},
     "output_type": "display_data"
    },
    {
     "name": "stdout",
     "output_type": "stream",
     "text": [
      "Time: 157.67s, Current: 0.45976520000000004\n"
     ]
    },
    {
     "data": {
      "text/plain": [
       "<Figure size 640x480 with 0 Axes>"
      ]
     },
     "metadata": {},
     "output_type": "display_data"
    },
    {
     "name": "stdout",
     "output_type": "stream",
     "text": [
      "Time: 158.17s, Current: 0.4597657\n"
     ]
    },
    {
     "data": {
      "text/plain": [
       "<Figure size 640x480 with 0 Axes>"
      ]
     },
     "metadata": {},
     "output_type": "display_data"
    },
    {
     "name": "stdout",
     "output_type": "stream",
     "text": [
      "Time: 158.67s, Current: 0.4597657\n"
     ]
    },
    {
     "data": {
      "text/plain": [
       "<Figure size 640x480 with 0 Axes>"
      ]
     },
     "metadata": {},
     "output_type": "display_data"
    },
    {
     "name": "stdout",
     "output_type": "stream",
     "text": [
      "Time: 159.17s, Current: 0.45976619999999996\n"
     ]
    },
    {
     "data": {
      "text/plain": [
       "<Figure size 640x480 with 0 Axes>"
      ]
     },
     "metadata": {},
     "output_type": "display_data"
    },
    {
     "name": "stdout",
     "output_type": "stream",
     "text": [
      "Time: 159.67s, Current: 0.4597657\n"
     ]
    },
    {
     "data": {
      "text/plain": [
       "<Figure size 640x480 with 0 Axes>"
      ]
     },
     "metadata": {},
     "output_type": "display_data"
    },
    {
     "name": "stdout",
     "output_type": "stream",
     "text": [
      "Time: 160.17s, Current: 0.4597655\n"
     ]
    },
    {
     "data": {
      "text/plain": [
       "<Figure size 640x480 with 0 Axes>"
      ]
     },
     "metadata": {},
     "output_type": "display_data"
    },
    {
     "name": "stdout",
     "output_type": "stream",
     "text": [
      "Time: 160.67s, Current: 0.4597654\n"
     ]
    },
    {
     "data": {
      "text/plain": [
       "<Figure size 640x480 with 0 Axes>"
      ]
     },
     "metadata": {},
     "output_type": "display_data"
    },
    {
     "name": "stdout",
     "output_type": "stream",
     "text": [
      "Time: 161.17s, Current: 0.45976490000000003\n"
     ]
    },
    {
     "data": {
      "text/plain": [
       "<Figure size 640x480 with 0 Axes>"
      ]
     },
     "metadata": {},
     "output_type": "display_data"
    },
    {
     "name": "stdout",
     "output_type": "stream",
     "text": [
      "Time: 161.67s, Current: 0.4597648\n"
     ]
    },
    {
     "data": {
      "text/plain": [
       "<Figure size 640x480 with 0 Axes>"
      ]
     },
     "metadata": {},
     "output_type": "display_data"
    },
    {
     "name": "stdout",
     "output_type": "stream",
     "text": [
      "Time: 162.17s, Current: 0.45976520000000004\n"
     ]
    },
    {
     "data": {
      "text/plain": [
       "<Figure size 640x480 with 0 Axes>"
      ]
     },
     "metadata": {},
     "output_type": "display_data"
    },
    {
     "name": "stdout",
     "output_type": "stream",
     "text": [
      "Time: 162.67s, Current: 0.45976490000000003\n"
     ]
    },
    {
     "data": {
      "text/plain": [
       "<Figure size 640x480 with 0 Axes>"
      ]
     },
     "metadata": {},
     "output_type": "display_data"
    },
    {
     "name": "stdout",
     "output_type": "stream",
     "text": [
      "Time: 163.17s, Current: 0.45976520000000004\n"
     ]
    },
    {
     "data": {
      "text/plain": [
       "<Figure size 640x480 with 0 Axes>"
      ]
     },
     "metadata": {},
     "output_type": "display_data"
    },
    {
     "name": "stdout",
     "output_type": "stream",
     "text": [
      "Time: 163.68s, Current: 0.4597657\n"
     ]
    },
    {
     "data": {
      "text/plain": [
       "<Figure size 640x480 with 0 Axes>"
      ]
     },
     "metadata": {},
     "output_type": "display_data"
    },
    {
     "name": "stdout",
     "output_type": "stream",
     "text": [
      "Time: 164.18s, Current: 0.4597663\n"
     ]
    },
    {
     "data": {
      "text/plain": [
       "<Figure size 640x480 with 0 Axes>"
      ]
     },
     "metadata": {},
     "output_type": "display_data"
    },
    {
     "name": "stdout",
     "output_type": "stream",
     "text": [
      "Time: 164.68s, Current: 0.45976619999999996\n"
     ]
    },
    {
     "data": {
      "text/plain": [
       "<Figure size 640x480 with 0 Axes>"
      ]
     },
     "metadata": {},
     "output_type": "display_data"
    },
    {
     "name": "stdout",
     "output_type": "stream",
     "text": [
      "Time: 165.18s, Current: 0.4597665\n"
     ]
    },
    {
     "data": {
      "text/plain": [
       "<Figure size 640x480 with 0 Axes>"
      ]
     },
     "metadata": {},
     "output_type": "display_data"
    },
    {
     "name": "stdout",
     "output_type": "stream",
     "text": [
      "Time: 165.68s, Current: 0.4597667\n"
     ]
    },
    {
     "data": {
      "text/plain": [
       "<Figure size 640x480 with 0 Axes>"
      ]
     },
     "metadata": {},
     "output_type": "display_data"
    },
    {
     "name": "stdout",
     "output_type": "stream",
     "text": [
      "Time: 166.18s, Current: 0.45976680000000003\n"
     ]
    },
    {
     "data": {
      "text/plain": [
       "<Figure size 640x480 with 0 Axes>"
      ]
     },
     "metadata": {},
     "output_type": "display_data"
    },
    {
     "name": "stdout",
     "output_type": "stream",
     "text": [
      "Time: 166.68s, Current: 0.4597675\n"
     ]
    },
    {
     "data": {
      "text/plain": [
       "<Figure size 640x480 with 0 Axes>"
      ]
     },
     "metadata": {},
     "output_type": "display_data"
    },
    {
     "name": "stdout",
     "output_type": "stream",
     "text": [
      "Time: 167.18s, Current: 0.4597672\n"
     ]
    },
    {
     "data": {
      "text/plain": [
       "<Figure size 640x480 with 0 Axes>"
      ]
     },
     "metadata": {},
     "output_type": "display_data"
    },
    {
     "name": "stdout",
     "output_type": "stream",
     "text": [
      "Time: 167.68s, Current: 0.4597671\n"
     ]
    },
    {
     "data": {
      "text/plain": [
       "<Figure size 640x480 with 0 Axes>"
      ]
     },
     "metadata": {},
     "output_type": "display_data"
    },
    {
     "name": "stdout",
     "output_type": "stream",
     "text": [
      "Time: 168.18s, Current: 0.4597672\n"
     ]
    },
    {
     "data": {
      "text/plain": [
       "<Figure size 640x480 with 0 Axes>"
      ]
     },
     "metadata": {},
     "output_type": "display_data"
    },
    {
     "name": "stdout",
     "output_type": "stream",
     "text": [
      "Time: 168.68s, Current: 0.4597674\n"
     ]
    },
    {
     "data": {
      "text/plain": [
       "<Figure size 640x480 with 0 Axes>"
      ]
     },
     "metadata": {},
     "output_type": "display_data"
    },
    {
     "name": "stdout",
     "output_type": "stream",
     "text": [
      "Time: 169.18s, Current: 0.4597665\n"
     ]
    },
    {
     "data": {
      "text/plain": [
       "<Figure size 640x480 with 0 Axes>"
      ]
     },
     "metadata": {},
     "output_type": "display_data"
    },
    {
     "name": "stdout",
     "output_type": "stream",
     "text": [
      "Time: 169.68s, Current: 0.4597654\n"
     ]
    },
    {
     "data": {
      "text/plain": [
       "<Figure size 640x480 with 0 Axes>"
      ]
     },
     "metadata": {},
     "output_type": "display_data"
    },
    {
     "name": "stdout",
     "output_type": "stream",
     "text": [
      "Time: 170.18s, Current: 0.4597654\n"
     ]
    },
    {
     "data": {
      "text/plain": [
       "<Figure size 640x480 with 0 Axes>"
      ]
     },
     "metadata": {},
     "output_type": "display_data"
    },
    {
     "name": "stdout",
     "output_type": "stream",
     "text": [
      "Time: 170.68s, Current: 0.4597654\n"
     ]
    },
    {
     "data": {
      "text/plain": [
       "<Figure size 640x480 with 0 Axes>"
      ]
     },
     "metadata": {},
     "output_type": "display_data"
    },
    {
     "name": "stdout",
     "output_type": "stream",
     "text": [
      "Time: 171.18s, Current: 0.4597654\n"
     ]
    },
    {
     "data": {
      "text/plain": [
       "<Figure size 640x480 with 0 Axes>"
      ]
     },
     "metadata": {},
     "output_type": "display_data"
    },
    {
     "name": "stdout",
     "output_type": "stream",
     "text": [
      "Time: 171.68s, Current: 0.4597653\n"
     ]
    },
    {
     "data": {
      "text/plain": [
       "<Figure size 640x480 with 0 Axes>"
      ]
     },
     "metadata": {},
     "output_type": "display_data"
    },
    {
     "name": "stdout",
     "output_type": "stream",
     "text": [
      "Time: 172.18s, Current: 0.4597646\n"
     ]
    },
    {
     "data": {
      "text/plain": [
       "<Figure size 640x480 with 0 Axes>"
      ]
     },
     "metadata": {},
     "output_type": "display_data"
    },
    {
     "name": "stdout",
     "output_type": "stream",
     "text": [
      "Time: 172.68s, Current: 0.4597642\n"
     ]
    },
    {
     "data": {
      "text/plain": [
       "<Figure size 640x480 with 0 Axes>"
      ]
     },
     "metadata": {},
     "output_type": "display_data"
    },
    {
     "name": "stdout",
     "output_type": "stream",
     "text": [
      "Time: 173.18s, Current: 0.4597644\n"
     ]
    },
    {
     "data": {
      "text/plain": [
       "<Figure size 640x480 with 0 Axes>"
      ]
     },
     "metadata": {},
     "output_type": "display_data"
    },
    {
     "name": "stdout",
     "output_type": "stream",
     "text": [
      "Time: 173.68s, Current: 0.4597644\n"
     ]
    },
    {
     "data": {
      "text/plain": [
       "<Figure size 640x480 with 0 Axes>"
      ]
     },
     "metadata": {},
     "output_type": "display_data"
    },
    {
     "name": "stdout",
     "output_type": "stream",
     "text": [
      "Time: 174.19s, Current: 0.4597644\n"
     ]
    },
    {
     "data": {
      "text/plain": [
       "<Figure size 640x480 with 0 Axes>"
      ]
     },
     "metadata": {},
     "output_type": "display_data"
    },
    {
     "name": "stdout",
     "output_type": "stream",
     "text": [
      "Time: 174.69s, Current: 0.4597648\n"
     ]
    },
    {
     "data": {
      "text/plain": [
       "<Figure size 640x480 with 0 Axes>"
      ]
     },
     "metadata": {},
     "output_type": "display_data"
    },
    {
     "name": "stdout",
     "output_type": "stream",
     "text": [
      "Time: 175.19s, Current: 0.4597639\n"
     ]
    },
    {
     "data": {
      "text/plain": [
       "<Figure size 640x480 with 0 Axes>"
      ]
     },
     "metadata": {},
     "output_type": "display_data"
    },
    {
     "name": "stdout",
     "output_type": "stream",
     "text": [
      "Time: 175.69s, Current: 0.4597646\n"
     ]
    },
    {
     "data": {
      "text/plain": [
       "<Figure size 640x480 with 0 Axes>"
      ]
     },
     "metadata": {},
     "output_type": "display_data"
    },
    {
     "name": "stdout",
     "output_type": "stream",
     "text": [
      "Time: 176.19s, Current: 0.4597644\n"
     ]
    },
    {
     "data": {
      "text/plain": [
       "<Figure size 640x480 with 0 Axes>"
      ]
     },
     "metadata": {},
     "output_type": "display_data"
    },
    {
     "name": "stdout",
     "output_type": "stream",
     "text": [
      "Time: 176.69s, Current: 0.4597639\n"
     ]
    },
    {
     "data": {
      "text/plain": [
       "<Figure size 640x480 with 0 Axes>"
      ]
     },
     "metadata": {},
     "output_type": "display_data"
    },
    {
     "name": "stdout",
     "output_type": "stream",
     "text": [
      "Time: 177.19s, Current: 0.4597647\n"
     ]
    },
    {
     "data": {
      "text/plain": [
       "<Figure size 640x480 with 0 Axes>"
      ]
     },
     "metadata": {},
     "output_type": "display_data"
    },
    {
     "name": "stdout",
     "output_type": "stream",
     "text": [
      "Time: 177.69s, Current: 0.4597644\n"
     ]
    },
    {
     "data": {
      "text/plain": [
       "<Figure size 640x480 with 0 Axes>"
      ]
     },
     "metadata": {},
     "output_type": "display_data"
    },
    {
     "name": "stdout",
     "output_type": "stream",
     "text": [
      "Time: 178.19s, Current: 0.45976449999999996\n"
     ]
    },
    {
     "data": {
      "text/plain": [
       "<Figure size 640x480 with 0 Axes>"
      ]
     },
     "metadata": {},
     "output_type": "display_data"
    },
    {
     "name": "stdout",
     "output_type": "stream",
     "text": [
      "Time: 178.69s, Current: 0.4597648\n"
     ]
    },
    {
     "data": {
      "text/plain": [
       "<Figure size 640x480 with 0 Axes>"
      ]
     },
     "metadata": {},
     "output_type": "display_data"
    },
    {
     "name": "stdout",
     "output_type": "stream",
     "text": [
      "Time: 179.19s, Current: 0.45976520000000004\n"
     ]
    },
    {
     "data": {
      "text/plain": [
       "<Figure size 640x480 with 0 Axes>"
      ]
     },
     "metadata": {},
     "output_type": "display_data"
    },
    {
     "name": "stdout",
     "output_type": "stream",
     "text": [
      "Time: 179.69s, Current: 0.45976490000000003\n"
     ]
    },
    {
     "data": {
      "text/plain": [
       "<Figure size 640x480 with 0 Axes>"
      ]
     },
     "metadata": {},
     "output_type": "display_data"
    },
    {
     "name": "stdout",
     "output_type": "stream",
     "text": [
      "Time: 180.19s, Current: 0.4597658\n"
     ]
    },
    {
     "data": {
      "text/plain": [
       "<Figure size 640x480 with 0 Axes>"
      ]
     },
     "metadata": {},
     "output_type": "display_data"
    },
    {
     "name": "stdout",
     "output_type": "stream",
     "text": [
      "Time: 180.69s, Current: 0.4597658\n"
     ]
    },
    {
     "data": {
      "text/plain": [
       "<Figure size 640x480 with 0 Axes>"
      ]
     },
     "metadata": {},
     "output_type": "display_data"
    },
    {
     "name": "stdout",
     "output_type": "stream",
     "text": [
      "Time: 181.19s, Current: 0.4597659\n"
     ]
    },
    {
     "data": {
      "text/plain": [
       "<Figure size 640x480 with 0 Axes>"
      ]
     },
     "metadata": {},
     "output_type": "display_data"
    },
    {
     "name": "stdout",
     "output_type": "stream",
     "text": [
      "Time: 181.69s, Current: 0.45976619999999996\n"
     ]
    },
    {
     "data": {
      "text/plain": [
       "<Figure size 640x480 with 0 Axes>"
      ]
     },
     "metadata": {},
     "output_type": "display_data"
    },
    {
     "name": "stdout",
     "output_type": "stream",
     "text": [
      "Time: 182.19s, Current: 0.4597653\n"
     ]
    },
    {
     "data": {
      "text/plain": [
       "<Figure size 640x480 with 0 Axes>"
      ]
     },
     "metadata": {},
     "output_type": "display_data"
    },
    {
     "name": "stdout",
     "output_type": "stream",
     "text": [
      "Time: 182.69s, Current: 0.45976490000000003\n"
     ]
    },
    {
     "data": {
      "text/plain": [
       "<Figure size 640x480 with 0 Axes>"
      ]
     },
     "metadata": {},
     "output_type": "display_data"
    },
    {
     "name": "stdout",
     "output_type": "stream",
     "text": [
      "Time: 183.19s, Current: 0.4597644\n"
     ]
    },
    {
     "data": {
      "text/plain": [
       "<Figure size 640x480 with 0 Axes>"
      ]
     },
     "metadata": {},
     "output_type": "display_data"
    },
    {
     "name": "stdout",
     "output_type": "stream",
     "text": [
      "Time: 183.69s, Current: 0.45976449999999996\n"
     ]
    },
    {
     "data": {
      "text/plain": [
       "<Figure size 640x480 with 0 Axes>"
      ]
     },
     "metadata": {},
     "output_type": "display_data"
    },
    {
     "name": "stdout",
     "output_type": "stream",
     "text": [
      "Time: 184.19s, Current: 0.4597642\n"
     ]
    },
    {
     "data": {
      "text/plain": [
       "<Figure size 640x480 with 0 Axes>"
      ]
     },
     "metadata": {},
     "output_type": "display_data"
    },
    {
     "name": "stdout",
     "output_type": "stream",
     "text": [
      "Time: 184.69s, Current: 0.4597635\n"
     ]
    },
    {
     "data": {
      "text/plain": [
       "<Figure size 640x480 with 0 Axes>"
      ]
     },
     "metadata": {},
     "output_type": "display_data"
    },
    {
     "name": "stdout",
     "output_type": "stream",
     "text": [
      "Time: 185.19s, Current: 0.4597632\n"
     ]
    },
    {
     "data": {
      "text/plain": [
       "<Figure size 640x480 with 0 Axes>"
      ]
     },
     "metadata": {},
     "output_type": "display_data"
    },
    {
     "name": "stdout",
     "output_type": "stream",
     "text": [
      "Time: 185.69s, Current: 0.45976330000000004\n"
     ]
    },
    {
     "data": {
      "text/plain": [
       "<Figure size 640x480 with 0 Axes>"
      ]
     },
     "metadata": {},
     "output_type": "display_data"
    },
    {
     "name": "stdout",
     "output_type": "stream",
     "text": [
      "Time: 186.19s, Current: 0.45976269999999997\n"
     ]
    },
    {
     "data": {
      "text/plain": [
       "<Figure size 640x480 with 0 Axes>"
      ]
     },
     "metadata": {},
     "output_type": "display_data"
    },
    {
     "name": "stdout",
     "output_type": "stream",
     "text": [
      "Time: 186.70s, Current: 0.4597623\n"
     ]
    },
    {
     "data": {
      "text/plain": [
       "<Figure size 640x480 with 0 Axes>"
      ]
     },
     "metadata": {},
     "output_type": "display_data"
    },
    {
     "name": "stdout",
     "output_type": "stream",
     "text": [
      "Time: 187.20s, Current: 0.4597629\n"
     ]
    },
    {
     "data": {
      "text/plain": [
       "<Figure size 640x480 with 0 Axes>"
      ]
     },
     "metadata": {},
     "output_type": "display_data"
    },
    {
     "name": "stdout",
     "output_type": "stream",
     "text": [
      "Time: 187.70s, Current: 0.4597629\n"
     ]
    },
    {
     "data": {
      "text/plain": [
       "<Figure size 640x480 with 0 Axes>"
      ]
     },
     "metadata": {},
     "output_type": "display_data"
    },
    {
     "name": "stdout",
     "output_type": "stream",
     "text": [
      "Time: 188.20s, Current: 0.45976330000000004\n"
     ]
    },
    {
     "data": {
      "text/plain": [
       "<Figure size 640x480 with 0 Axes>"
      ]
     },
     "metadata": {},
     "output_type": "display_data"
    },
    {
     "name": "stdout",
     "output_type": "stream",
     "text": [
      "Time: 188.70s, Current: 0.45976330000000004\n"
     ]
    },
    {
     "data": {
      "text/plain": [
       "<Figure size 640x480 with 0 Axes>"
      ]
     },
     "metadata": {},
     "output_type": "display_data"
    },
    {
     "name": "stdout",
     "output_type": "stream",
     "text": [
      "Time: 189.20s, Current: 0.4597637\n"
     ]
    },
    {
     "data": {
      "text/plain": [
       "<Figure size 640x480 with 0 Axes>"
      ]
     },
     "metadata": {},
     "output_type": "display_data"
    },
    {
     "name": "stdout",
     "output_type": "stream",
     "text": [
      "Time: 189.70s, Current: 0.4597644\n"
     ]
    },
    {
     "data": {
      "text/plain": [
       "<Figure size 640x480 with 0 Axes>"
      ]
     },
     "metadata": {},
     "output_type": "display_data"
    },
    {
     "name": "stdout",
     "output_type": "stream",
     "text": [
      "Time: 190.20s, Current: 0.4597642\n"
     ]
    },
    {
     "data": {
      "text/plain": [
       "<Figure size 640x480 with 0 Axes>"
      ]
     },
     "metadata": {},
     "output_type": "display_data"
    },
    {
     "name": "stdout",
     "output_type": "stream",
     "text": [
      "Time: 190.70s, Current: 0.4597656\n"
     ]
    },
    {
     "data": {
      "text/plain": [
       "<Figure size 640x480 with 0 Axes>"
      ]
     },
     "metadata": {},
     "output_type": "display_data"
    },
    {
     "name": "stdout",
     "output_type": "stream",
     "text": [
      "Time: 191.20s, Current: 0.4597659\n"
     ]
    },
    {
     "data": {
      "text/plain": [
       "<Figure size 640x480 with 0 Axes>"
      ]
     },
     "metadata": {},
     "output_type": "display_data"
    },
    {
     "name": "stdout",
     "output_type": "stream",
     "text": [
      "Time: 191.70s, Current: 0.4597667\n"
     ]
    },
    {
     "data": {
      "text/plain": [
       "<Figure size 640x480 with 0 Axes>"
      ]
     },
     "metadata": {},
     "output_type": "display_data"
    },
    {
     "name": "stdout",
     "output_type": "stream",
     "text": [
      "Time: 192.20s, Current: 0.4597665\n"
     ]
    },
    {
     "data": {
      "text/plain": [
       "<Figure size 640x480 with 0 Axes>"
      ]
     },
     "metadata": {},
     "output_type": "display_data"
    },
    {
     "name": "stdout",
     "output_type": "stream",
     "text": [
      "Time: 192.70s, Current: 0.4597669\n"
     ]
    },
    {
     "data": {
      "text/plain": [
       "<Figure size 640x480 with 0 Axes>"
      ]
     },
     "metadata": {},
     "output_type": "display_data"
    },
    {
     "name": "stdout",
     "output_type": "stream",
     "text": [
      "Time: 193.20s, Current: 0.4597654\n"
     ]
    },
    {
     "data": {
      "text/plain": [
       "<Figure size 640x480 with 0 Axes>"
      ]
     },
     "metadata": {},
     "output_type": "display_data"
    },
    {
     "name": "stdout",
     "output_type": "stream",
     "text": [
      "Time: 193.70s, Current: 0.4597647\n"
     ]
    },
    {
     "data": {
      "text/plain": [
       "<Figure size 640x480 with 0 Axes>"
      ]
     },
     "metadata": {},
     "output_type": "display_data"
    },
    {
     "name": "stdout",
     "output_type": "stream",
     "text": [
      "Time: 194.20s, Current: 0.4597642\n"
     ]
    },
    {
     "data": {
      "text/plain": [
       "<Figure size 640x480 with 0 Axes>"
      ]
     },
     "metadata": {},
     "output_type": "display_data"
    },
    {
     "name": "stdout",
     "output_type": "stream",
     "text": [
      "Time: 194.70s, Current: 0.4597628\n"
     ]
    },
    {
     "data": {
      "text/plain": [
       "<Figure size 640x480 with 0 Axes>"
      ]
     },
     "metadata": {},
     "output_type": "display_data"
    },
    {
     "name": "stdout",
     "output_type": "stream",
     "text": [
      "Time: 195.20s, Current: 0.4597626\n"
     ]
    },
    {
     "data": {
      "text/plain": [
       "<Figure size 640x480 with 0 Axes>"
      ]
     },
     "metadata": {},
     "output_type": "display_data"
    },
    {
     "name": "stdout",
     "output_type": "stream",
     "text": [
      "Time: 195.70s, Current: 0.4597622\n"
     ]
    },
    {
     "data": {
      "text/plain": [
       "<Figure size 640x480 with 0 Axes>"
      ]
     },
     "metadata": {},
     "output_type": "display_data"
    },
    {
     "name": "stdout",
     "output_type": "stream",
     "text": [
      "Time: 196.20s, Current: 0.4597618\n"
     ]
    },
    {
     "data": {
      "text/plain": [
       "<Figure size 640x480 with 0 Axes>"
      ]
     },
     "metadata": {},
     "output_type": "display_data"
    },
    {
     "name": "stdout",
     "output_type": "stream",
     "text": [
      "Time: 196.70s, Current: 0.4597612\n"
     ]
    },
    {
     "data": {
      "text/plain": [
       "<Figure size 640x480 with 0 Axes>"
      ]
     },
     "metadata": {},
     "output_type": "display_data"
    },
    {
     "name": "stdout",
     "output_type": "stream",
     "text": [
      "Time: 197.21s, Current: 0.45976090000000003\n"
     ]
    },
    {
     "data": {
      "text/plain": [
       "<Figure size 640x480 with 0 Axes>"
      ]
     },
     "metadata": {},
     "output_type": "display_data"
    },
    {
     "name": "stdout",
     "output_type": "stream",
     "text": [
      "Time: 197.71s, Current: 0.4597607\n"
     ]
    },
    {
     "data": {
      "text/plain": [
       "<Figure size 640x480 with 0 Axes>"
      ]
     },
     "metadata": {},
     "output_type": "display_data"
    },
    {
     "name": "stdout",
     "output_type": "stream",
     "text": [
      "Time: 198.21s, Current: 0.4597606\n"
     ]
    },
    {
     "data": {
      "text/plain": [
       "<Figure size 640x480 with 0 Axes>"
      ]
     },
     "metadata": {},
     "output_type": "display_data"
    },
    {
     "name": "stdout",
     "output_type": "stream",
     "text": [
      "Time: 198.71s, Current: 0.4597604\n"
     ]
    },
    {
     "data": {
      "text/plain": [
       "<Figure size 640x480 with 0 Axes>"
      ]
     },
     "metadata": {},
     "output_type": "display_data"
    },
    {
     "name": "stdout",
     "output_type": "stream",
     "text": [
      "Time: 199.21s, Current: 0.45976090000000003\n"
     ]
    },
    {
     "data": {
      "text/plain": [
       "<Figure size 640x480 with 0 Axes>"
      ]
     },
     "metadata": {},
     "output_type": "display_data"
    },
    {
     "name": "stdout",
     "output_type": "stream",
     "text": [
      "Time: 199.71s, Current: 0.45976079999999997\n"
     ]
    },
    {
     "data": {
      "text/plain": [
       "<Figure size 640x480 with 0 Axes>"
      ]
     },
     "metadata": {},
     "output_type": "display_data"
    }
   ],
   "source": [
    "import time\n",
    "import matplotlib.pyplot as plt\n",
    "\n",
    "# Инициализация SMU (Source Measure Unit)\n",
    "smu.write('SOUR:FUNC VOLT')\n",
    "smu.write(\"OUTPut:STATe ON\")\n",
    "time.sleep(2.5)\n",
    "\n",
    "# Инициализация массивов для хранения значений тока и времени\n",
    "I_values = []\n",
    "t_values = []\n",
    "\n",
    "duration = 200  # Общее время измерения в секундах\n",
    "interval = 0.5  # Интервал между измерениями в секундах\n",
    "start_time = time.time()\n",
    "\n",
    "# Настройка графика\n",
    "plt.ion()  # Включение интерактивного режима\n",
    "fig, ax = plt.subplots(figsize=(8, 6))\n",
    "line, = ax.plot([], [], marker='o')\n",
    "ax.set_xlabel('Time (s)')\n",
    "ax.set_ylabel('Current (A)')\n",
    "ax.set_title('Current vs. Time')\n",
    "ax.grid(True)\n",
    "\n",
    "while time.time() - start_time < duration:\n",
    "    measurement_start = time.time()\n",
    "    elapsed_time = measurement_start - start_time  # Время с начала измерений\n",
    "\n",
    "    # Измерение тока (предполагается, что функция measure_current определена)\n",
    "    I = measure_current(1, 0.001, 0)\n",
    "    I_values.append(I)\n",
    "    t_values.append(elapsed_time)\n",
    "\n",
    "    print(f\"Time: {elapsed_time:.2f}s, Current: {I}\")\n",
    "\n",
    "    # Обновление графика\n",
    "    line.set_data(t_values, I_values)\n",
    "    ax.relim()\n",
    "    ax.autoscale_view()\n",
    "    plt.draw()\n",
    "    plt.pause(0.01)  # Короткая пауза для обновления графика\n",
    "\n",
    "    # Ожидание до следующего измерения\n",
    "    time_to_sleep = interval - (time.time() - measurement_start)\n",
    "    if time_to_sleep > 0:\n",
    "        time.sleep(time_to_sleep)\n",
    "\n",
    "smu.write(\"OUTPut:STATe OFF\")\n",
    "\n",
    "# Отключение интерактивного режима и отображение графика после завершения измерений\n",
    "plt.ioff()\n",
    "plt.show()\n"
   ]
  },
  {
   "cell_type": "code",
   "execution_count": null,
   "metadata": {},
   "outputs": [],
   "source": [
    "import time\n",
    "import matplotlib.pyplot as plt\n",
    "\n",
    "# Initialize the SMU (Source Measure Unit)\n",
    "smu.write('SOUR:FUNC VOLT')\n",
    "smu.write(\"OUTPut:STATe ON\")\n",
    "time.sleep(2.5)  # Wait for voltage to stabilize if necessary\n",
    "\n",
    "# Initialize arrays to store current and time values\n",
    "I_values = []\n",
    "t_values = []\n",
    "\n",
    "total_duration = 60  # Total measurement time in seconds\n",
    "measurement_interval = 10  # Interval between measurement bursts in seconds\n",
    "number_of_measurements = 3  # Measurements per interval\n",
    "delta_t = measurement_interval / (number_of_measurements + 1)  # Time between measurements within interval\n",
    "\n",
    "# Generate list of measurement times\n",
    "measurement_times = []\n",
    "number_of_intervals = int(total_duration / measurement_interval)\n",
    "for i in range(number_of_intervals):\n",
    "    t0 = i * measurement_interval\n",
    "    for j in range(1, number_of_measurements + 1):\n",
    "        measurement_time = t0 + j * delta_t\n",
    "        measurement_times.append(measurement_time)\n",
    "\n",
    "start_time = time.time()\n",
    "index = 0  # Index for measurement_times\n",
    "\n",
    "while time.time() - start_time < total_duration:\n",
    "    elapsed_time = time.time() - start_time\n",
    "    if index < len(measurement_times) and elapsed_time >= measurement_times[index]:\n",
    "        # Measure current (assuming measure_current is a defined function)\n",
    "        I = measure_current(1, 0.1, 0.05)\n",
    "        I_values.append(I)\n",
    "        t_values.append(elapsed_time)\n",
    "        print(f\"Time: {elapsed_time:.2f}s, Current: {I}\")\n",
    "        index += 1\n",
    "    else:\n",
    "        # Sleep for a short duration to prevent busy waiting\n",
    "        time.sleep(0.1)\n",
    "\n",
    "# Turn off the voltage output after measurements are done\n",
    "smu.write(\"OUTPut:STATe OFF\")\n",
    "\n",
    "# Plot the current vs. time graph\n",
    "plt.figure(figsize=(8, 6))\n",
    "plt.plot(t_values, I_values, marker='o')\n",
    "plt.xlabel('Time (s)')\n",
    "plt.ylabel('Current (A)')\n",
    "plt.title('Current vs. Time')\n",
    "plt.grid(True)\n",
    "plt.show()\n"
   ]
  },
  {
   "cell_type": "code",
   "execution_count": 16,
   "metadata": {},
   "outputs": [
    {
     "data": {
      "text/plain": [
       "[<matplotlib.lines.Line2D at 0x1a1d042c470>]"
      ]
     },
     "execution_count": 16,
     "metadata": {},
     "output_type": "execute_result"
    },
    {
     "data": {
      "image/png": "[encoded data removed]",
      "text/plain": [
       "<Figure size 640x480 with 1 Axes>"
      ]
     },
     "metadata": {},
     "output_type": "display_data"
    }
   ],
   "source": [
    "data_all=[]\n",
    "data_t = []\n",
    "data = get_traces(smu)\n",
    "data_all.append(data[\"reading\"])\n",
    "data_t.append(data[\"time\"])\n",
    "data_t_array = np.array(data_t[0])\n",
    "data_all_array = np.array(data_all[0])\n",
    "#data_t_array\n",
    "#data_all\n",
    "\n",
    "data_t_array = np.array(data_t[0])\n",
    "data_all_array = np.array(data_all[0])\n",
    "# da = da[1::]\n",
    "plt.plot(data_t_array,data_all_array)\n"
   ]
  },
  {
   "cell_type": "code",
   "execution_count": null,
   "metadata": {},
   "outputs": [],
   "source": []
  },
  {
   "cell_type": "code",
   "execution_count": null,
   "metadata": {},
   "outputs": [],
   "source": [
    "I = np.array([])\n",
    "for i in range(10):\n",
    "        I = measure(I[i])\n",
    "        I = np.append(I, [I])\n",
    "print(I)\n",
    " "
   ]
  },
  {
   "cell_type": "code",
   "execution_count": 179,
   "metadata": {},
   "outputs": [
    {
     "data": {
      "image/png": "[encoded data removed]",
      "text/plain": [
       "<Figure size 640x480 with 1 Axes>"
      ]
     },
     "metadata": {},
     "output_type": "display_data"
    }
   ],
   "source": [
    "import numpy as np\n",
    "import matplotlib.pyplot as plt\n",
    "\n",
    "# Загрузка данных из файлов\n",
    "# Предполагается, что каждый файл имеет две колонки: x и y\n",
    "data1 = np.loadtxt('200s_data.txt', delimiter=';')  # Файл с данными x и y1\n",
    "data2 = np.loadtxt('200s_V_I.txt', delimiter=';')  # Файл с данными x и y2\n",
    "\n",
    "# Извлечение оси x и значений y1 и y2\n",
    "x = data1[:, 1]\n",
    "y1 = data1[:, 0]\n",
    "y2 = data2[:, 1]\n",
    "\n",
    "# Построение графика зависимости y2 от y1\n",
    "plt.plot(y1, y2, marker='o', linestyle='-')\n",
    "plt.xlabel('y1')\n",
    "plt.ylabel('y2')\n",
    "plt.title('График зависимости y2 от y1')\n",
    "plt.grid(True)\n",
    "plt.show()"
   ]
  },
  {
   "cell_type": "code",
   "execution_count": 180,
   "metadata": {},
   "outputs": [
    {
     "data": {
      "image/png": "[encoded data removed]",
      "text/plain": [
       "<Figure size 640x480 with 1 Axes>"
      ]
     },
     "metadata": {},
     "output_type": "display_data"
    }
   ],
   "source": [
    "import numpy as np\n",
    "import matplotlib.pyplot as plt\n",
    "\n",
    "# Загрузка данных из файлов\n",
    "# Предполагается, что каждый файл имеет две колонки: x и y\n",
    "data1 = np.loadtxt('200s_data.txt', delimiter=';')  # Файл с данными x и y1\n",
    "data2 = np.loadtxt('200s_V_I.txt', delimiter=';')  # Файл с данными x и y2\n",
    "\n",
    "# Извлечение оси x и значений y1 и y2\n",
    "x = data1[:, 1]\n",
    "y1 = data1[:, 0]\n",
    "y2 = data2[:, 1]\n",
    "\n",
    "# Построение графика зависимости y2 от y1\n",
    "plt.semilogy(y1, y2, marker='o', linestyle='-')\n",
    "plt.xlabel('y1')\n",
    "plt.ylabel('y2')\n",
    "plt.title('График зависимости y2 от y1')\n",
    "plt.grid(True)\n",
    "plt.show()"
   ]
  }
 ],
 "metadata": {
  "kernelspec": {
   "display_name": "Python 3",
   "language": "python",
   "name": "python3"
  },
  "language_info": {
   "codemirror_mode": {
    "name": "ipython",
    "version": 3
   },
   "file_extension": ".py",
   "mimetype": "text/x-python",
   "name": "python",
   "nbconvert_exporter": "python",
   "pygments_lexer": "ipython3",
   "version": "3.12.6"
  }
 },
 "nbformat": 4,
 "nbformat_minor": 2
}
